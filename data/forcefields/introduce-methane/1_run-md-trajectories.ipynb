{
 "cells": [
  {
   "cell_type": "markdown",
   "id": "c5b0ae4a-0b67-4d90-9d1d-3de9d32e3c85",
   "metadata": {},
   "source": [
    "# Run Molecular Dynamics Trajectories with Psi4\n",
    "We want to see how closely our ML models adhere to trajectories produced without surrogates"
   ]
  },
  {
   "cell_type": "code",
   "execution_count": 1,
   "id": "d59b7c7d-3262-49e5-9af5-ef8d86e55838",
   "metadata": {
    "tags": []
   },
   "outputs": [
    {
     "name": "stderr",
     "output_type": "stream",
     "text": [
      "/home/lward/miniconda3/envs/fastforce/lib/python3.10/site-packages/tqdm/auto.py:22: TqdmWarning: IProgress not found. Please update jupyter and ipywidgets. See https://ipywidgets.readthedocs.io/en/stable/user_install.html\n",
      "  from .autonotebook import tqdm as notebook_tqdm\n"
     ]
    }
   ],
   "source": [
    "%matplotlib inline\n",
    "from matplotlib import pyplot as plt\n",
    "from fff.sampling.md import MolecularDynamics\n",
    "from fff.simulation.utils import read_from_string\n",
    "from ase.md.velocitydistribution import MaxwellBoltzmannDistribution\n",
    "from ase.calculators.psi4 import Psi4\n",
    "from ase.db import connect\n",
    "from ase.io import write\n",
    "from ttm.ase import TTMCalculator\n",
    "from pathlib import Path\n",
    "from tqdm import tqdm\n",
    "import pandas as pd\n",
    "import numpy as np\n",
    "import warnings"
   ]
  },
  {
   "cell_type": "markdown",
   "id": "cc7fce9a-4d6a-465e-886c-ef9e341197e7",
   "metadata": {},
   "source": [
    "Configuration"
   ]
  },
  {
   "cell_type": "code",
   "execution_count": 2,
   "id": "44e3b348-76ae-4513-a9f0-a0bb738b23f0",
   "metadata": {
    "tags": []
   },
   "outputs": [],
   "source": [
    "out_dir = Path('trajectories')"
   ]
  },
  {
   "cell_type": "markdown",
   "id": "873741f4-09c7-465c-9838-30b0549e4e71",
   "metadata": {},
   "source": [
    "## Load in Example Structures\n",
    "Use the same ones from our nwchem-evaluation"
   ]
  },
  {
   "cell_type": "markdown",
   "id": "003412ba-7772-45e4-8096-004236e17d7e",
   "metadata": {},
   "source": [
    "## Run Molecular Dynamics with DFT\n",
    "Run a 1000 timesteps and save an entry every 10"
   ]
  },
  {
   "cell_type": "code",
   "execution_count": 3,
   "id": "f906d7fa-e1e1-4822-b3ad-a10567796e88",
   "metadata": {},
   "outputs": [
    {
     "name": "stdout",
     "output_type": "stream",
     "text": [
      "  Threads set to 12 by Python driver.\n"
     ]
    }
   ],
   "source": [
    "psi4 = Psi4(method='pbe0-d3', basis='aug-cc-pvdz', num_threads=12)"
   ]
  },
  {
   "cell_type": "markdown",
   "id": "a2e28a19-0555-4644-ba66-88274220c56e",
   "metadata": {},
   "source": [
    "Test with diff"
   ]
  },
  {
   "cell_type": "code",
   "execution_count": 4,
   "id": "e5172215-b35f-47ed-ad4c-808e236fa3a8",
   "metadata": {},
   "outputs": [
    {
     "name": "stderr",
     "output_type": "stream",
     "text": [
      "0it [00:00, ?it/s]"
     ]
    },
    {
     "name": "stdout",
     "output_type": "stream",
     "text": [
      "  Threads set to 12 by Python driver.\n"
     ]
    },
    {
     "name": "stderr",
     "output_type": "stream",
     "text": [
      "0it [05:39, ?it/s]\n"
     ]
    },
    {
     "ename": "KeyboardInterrupt",
     "evalue": "",
     "output_type": "error",
     "traceback": [
      "\u001b[0;31m---------------------------------------------------------------------------\u001b[0m",
      "\u001b[0;31mKeyboardInterrupt\u001b[0m                         Traceback (most recent call last)",
      "Cell \u001b[0;32mIn[4], line 18\u001b[0m\n\u001b[1;32m     16\u001b[0m \u001b[38;5;28;01mwith\u001b[39;00m warnings\u001b[38;5;241m.\u001b[39mcatch_warnings():\n\u001b[1;32m     17\u001b[0m     warnings\u001b[38;5;241m.\u001b[39msimplefilter(\u001b[38;5;124m'\u001b[39m\u001b[38;5;124mignore\u001b[39m\u001b[38;5;124m'\u001b[39m)\n\u001b[0;32m---> 18\u001b[0m     _, traj \u001b[38;5;241m=\u001b[39m \u001b[43mMolecularDynamics\u001b[49m\u001b[43m(\u001b[49m\u001b[43m)\u001b[49m\u001b[38;5;241;43m.\u001b[39;49m\u001b[43mrun_sampling\u001b[49m\u001b[43m(\u001b[49m\u001b[43matoms\u001b[49m\u001b[43m,\u001b[49m\u001b[43m \u001b[49m\u001b[38;5;241;43m32\u001b[39;49m\u001b[43m,\u001b[49m\u001b[43m \u001b[49m\u001b[43mcalc\u001b[49m\u001b[43m,\u001b[49m\u001b[43m \u001b[49m\u001b[43mtimestep\u001b[49m\u001b[38;5;241;43m=\u001b[39;49m\u001b[38;5;241;43m0.1\u001b[39;49m\u001b[43m,\u001b[49m\u001b[43m \u001b[49m\u001b[43mlog_interval\u001b[49m\u001b[38;5;241;43m=\u001b[39;49m\u001b[38;5;241;43m2\u001b[39;49m\u001b[43m)\u001b[49m\n\u001b[1;32m     20\u001b[0m \u001b[38;5;66;03m# Save it to disk\u001b[39;00m\n\u001b[1;32m     21\u001b[0m write(\u001b[38;5;28mstr\u001b[39m(out_path), traj)\n",
      "File \u001b[0;32m~/Work/ExaLearn/fast-finedtuned-forcefields/fff/sampling/base.py:61\u001b[0m, in \u001b[0;36mCalculatorBasedSampler.run_sampling\u001b[0;34m(self, atoms, steps, calc, device, **kwargs)\u001b[0m\n\u001b[1;32m     58\u001b[0m \u001b[38;5;28;01mif\u001b[39;00m \u001b[38;5;28misinstance\u001b[39m(calc, (SpkCalculator, SchnetCalculator)):\n\u001b[1;32m     59\u001b[0m     calc\u001b[38;5;241m.\u001b[39mto(device)\n\u001b[0;32m---> 61\u001b[0m \u001b[38;5;28;01mreturn\u001b[39;00m \u001b[38;5;28;43mself\u001b[39;49m\u001b[38;5;241;43m.\u001b[39;49m\u001b[43m_run_sampling\u001b[49m\u001b[43m(\u001b[49m\u001b[43matoms\u001b[49m\u001b[43m,\u001b[49m\u001b[43m \u001b[49m\u001b[43msteps\u001b[49m\u001b[43m,\u001b[49m\u001b[43m \u001b[49m\u001b[43mcalc\u001b[49m\u001b[43m,\u001b[49m\u001b[43m \u001b[49m\u001b[38;5;241;43m*\u001b[39;49m\u001b[38;5;241;43m*\u001b[39;49m\u001b[43mkwargs\u001b[49m\u001b[43m)\u001b[49m\n",
      "File \u001b[0;32m~/Work/ExaLearn/fast-finedtuned-forcefields/fff/sampling/md.py:67\u001b[0m, in \u001b[0;36mMolecularDynamics._run_sampling\u001b[0;34m(self, atoms, steps, calc, timestep, log_interval, temperature)\u001b[0m\n\u001b[1;32m     64\u001b[0m     dyn\u001b[38;5;241m.\u001b[39mattach(traj, interval\u001b[38;5;241m=\u001b[39mlog_interval)\n\u001b[1;32m     66\u001b[0m     \u001b[38;5;66;03m# Run the dynamics\u001b[39;00m\n\u001b[0;32m---> 67\u001b[0m     \u001b[43mdyn\u001b[49m\u001b[38;5;241;43m.\u001b[39;49m\u001b[43mrun\u001b[49m\u001b[43m(\u001b[49m\u001b[43msteps\u001b[49m\u001b[43m)\u001b[49m\n\u001b[1;32m     69\u001b[0m \u001b[38;5;66;03m# Read the trajectory back in and return the atoms\u001b[39;00m\n\u001b[1;32m     70\u001b[0m \u001b[38;5;28;01mreturn\u001b[39;00m atoms, [x \u001b[38;5;28;01mfor\u001b[39;00m x \u001b[38;5;129;01min\u001b[39;00m Trajectory(\u001b[38;5;28mstr\u001b[39m(traj_path), mode\u001b[38;5;241m=\u001b[39m\u001b[38;5;124m'\u001b[39m\u001b[38;5;124mr\u001b[39m\u001b[38;5;124m'\u001b[39m)][\u001b[38;5;241m1\u001b[39m:\u001b[38;5;241m-\u001b[39m\u001b[38;5;241m1\u001b[39m]\n",
      "File \u001b[0;32m~/miniconda3/envs/fastforce/lib/python3.10/site-packages/ase/md/md.py:137\u001b[0m, in \u001b[0;36mMolecularDynamics.run\u001b[0;34m(self, steps)\u001b[0m\n\u001b[1;32m    135\u001b[0m \u001b[38;5;124;03m\"\"\" Call Dynamics.run and adjust max_steps \"\"\"\u001b[39;00m\n\u001b[1;32m    136\u001b[0m \u001b[38;5;28mself\u001b[39m\u001b[38;5;241m.\u001b[39mmax_steps \u001b[38;5;241m=\u001b[39m steps \u001b[38;5;241m+\u001b[39m \u001b[38;5;28mself\u001b[39m\u001b[38;5;241m.\u001b[39mnsteps\n\u001b[0;32m--> 137\u001b[0m \u001b[38;5;28;01mreturn\u001b[39;00m \u001b[43mDynamics\u001b[49m\u001b[38;5;241;43m.\u001b[39;49m\u001b[43mrun\u001b[49m\u001b[43m(\u001b[49m\u001b[38;5;28;43mself\u001b[39;49m\u001b[43m)\u001b[49m\n",
      "File \u001b[0;32m~/miniconda3/envs/fastforce/lib/python3.10/site-packages/ase/optimize/optimize.py:156\u001b[0m, in \u001b[0;36mDynamics.run\u001b[0;34m(self)\u001b[0m\n\u001b[1;32m    149\u001b[0m \u001b[38;5;28;01mdef\u001b[39;00m \u001b[38;5;21mrun\u001b[39m(\u001b[38;5;28mself\u001b[39m):\n\u001b[1;32m    150\u001b[0m     \u001b[38;5;124;03m\"\"\"Run dynamics algorithm.\u001b[39;00m\n\u001b[1;32m    151\u001b[0m \n\u001b[1;32m    152\u001b[0m \u001b[38;5;124;03m    This method will return when the forces on all individual\u001b[39;00m\n\u001b[1;32m    153\u001b[0m \u001b[38;5;124;03m    atoms are less than *fmax* or when the number of steps exceeds\u001b[39;00m\n\u001b[1;32m    154\u001b[0m \u001b[38;5;124;03m    *steps*.\"\"\"\u001b[39;00m\n\u001b[0;32m--> 156\u001b[0m     \u001b[38;5;28;01mfor\u001b[39;00m converged \u001b[38;5;129;01min\u001b[39;00m Dynamics\u001b[38;5;241m.\u001b[39mirun(\u001b[38;5;28mself\u001b[39m):\n\u001b[1;32m    157\u001b[0m         \u001b[38;5;28;01mpass\u001b[39;00m\n\u001b[1;32m    158\u001b[0m     \u001b[38;5;28;01mreturn\u001b[39;00m converged\n",
      "File \u001b[0;32m~/miniconda3/envs/fastforce/lib/python3.10/site-packages/ase/optimize/optimize.py:122\u001b[0m, in \u001b[0;36mDynamics.irun\u001b[0;34m(self)\u001b[0m\n\u001b[1;32m    111\u001b[0m \u001b[38;5;124;03m\"\"\"Run dynamics algorithm as generator. This allows, e.g.,\u001b[39;00m\n\u001b[1;32m    112\u001b[0m \u001b[38;5;124;03mto easily run two optimizers or MD thermostats at the same time.\u001b[39;00m\n\u001b[1;32m    113\u001b[0m \n\u001b[0;32m   (...)\u001b[0m\n\u001b[1;32m    118\u001b[0m \u001b[38;5;124;03m>>>     opt1.run()\u001b[39;00m\n\u001b[1;32m    119\u001b[0m \u001b[38;5;124;03m\"\"\"\u001b[39;00m\n\u001b[1;32m    121\u001b[0m \u001b[38;5;66;03m# compute initial structure and log the first step\u001b[39;00m\n\u001b[0;32m--> 122\u001b[0m \u001b[38;5;28;43mself\u001b[39;49m\u001b[38;5;241;43m.\u001b[39;49m\u001b[43matoms\u001b[49m\u001b[38;5;241;43m.\u001b[39;49m\u001b[43mget_forces\u001b[49m\u001b[43m(\u001b[49m\u001b[43m)\u001b[49m\n\u001b[1;32m    124\u001b[0m \u001b[38;5;66;03m# yield the first time to inspect before logging\u001b[39;00m\n\u001b[1;32m    125\u001b[0m \u001b[38;5;28;01myield\u001b[39;00m \u001b[38;5;28;01mFalse\u001b[39;00m\n",
      "File \u001b[0;32m~/miniconda3/envs/fastforce/lib/python3.10/site-packages/ase/atoms.py:787\u001b[0m, in \u001b[0;36mAtoms.get_forces\u001b[0;34m(self, apply_constraint, md)\u001b[0m\n\u001b[1;32m    785\u001b[0m \u001b[38;5;28;01mif\u001b[39;00m \u001b[38;5;28mself\u001b[39m\u001b[38;5;241m.\u001b[39m_calc \u001b[38;5;129;01mis\u001b[39;00m \u001b[38;5;28;01mNone\u001b[39;00m:\n\u001b[1;32m    786\u001b[0m     \u001b[38;5;28;01mraise\u001b[39;00m \u001b[38;5;167;01mRuntimeError\u001b[39;00m(\u001b[38;5;124m'\u001b[39m\u001b[38;5;124mAtoms object has no calculator.\u001b[39m\u001b[38;5;124m'\u001b[39m)\n\u001b[0;32m--> 787\u001b[0m forces \u001b[38;5;241m=\u001b[39m \u001b[38;5;28;43mself\u001b[39;49m\u001b[38;5;241;43m.\u001b[39;49m\u001b[43m_calc\u001b[49m\u001b[38;5;241;43m.\u001b[39;49m\u001b[43mget_forces\u001b[49m\u001b[43m(\u001b[49m\u001b[38;5;28;43mself\u001b[39;49m\u001b[43m)\u001b[49m\n\u001b[1;32m    789\u001b[0m \u001b[38;5;28;01mif\u001b[39;00m apply_constraint:\n\u001b[1;32m    790\u001b[0m     \u001b[38;5;66;03m# We need a special md flag here because for MD we want\u001b[39;00m\n\u001b[1;32m    791\u001b[0m     \u001b[38;5;66;03m# to skip real constraints but include special \"constraints\"\u001b[39;00m\n\u001b[1;32m    792\u001b[0m     \u001b[38;5;66;03m# Like Hookean.\u001b[39;00m\n\u001b[1;32m    793\u001b[0m     \u001b[38;5;28;01mfor\u001b[39;00m constraint \u001b[38;5;129;01min\u001b[39;00m \u001b[38;5;28mself\u001b[39m\u001b[38;5;241m.\u001b[39mconstraints:\n",
      "File \u001b[0;32m~/miniconda3/envs/fastforce/lib/python3.10/site-packages/ase/calculators/abc.py:30\u001b[0m, in \u001b[0;36mGetPropertiesMixin.get_forces\u001b[0;34m(self, atoms)\u001b[0m\n\u001b[1;32m     29\u001b[0m \u001b[38;5;28;01mdef\u001b[39;00m \u001b[38;5;21mget_forces\u001b[39m(\u001b[38;5;28mself\u001b[39m, atoms\u001b[38;5;241m=\u001b[39m\u001b[38;5;28;01mNone\u001b[39;00m):\n\u001b[0;32m---> 30\u001b[0m     \u001b[38;5;28;01mreturn\u001b[39;00m \u001b[38;5;28;43mself\u001b[39;49m\u001b[38;5;241;43m.\u001b[39;49m\u001b[43mget_property\u001b[49m\u001b[43m(\u001b[49m\u001b[38;5;124;43m'\u001b[39;49m\u001b[38;5;124;43mforces\u001b[39;49m\u001b[38;5;124;43m'\u001b[39;49m\u001b[43m,\u001b[49m\u001b[43m \u001b[49m\u001b[43matoms\u001b[49m\u001b[43m)\u001b[49m\n",
      "File \u001b[0;32m~/miniconda3/envs/fastforce/lib/python3.10/site-packages/ase/calculators/calculator.py:501\u001b[0m, in \u001b[0;36mBaseCalculator.get_property\u001b[0;34m(self, name, atoms, allow_calculation)\u001b[0m\n\u001b[1;32m    498\u001b[0m     \u001b[38;5;28;01mif\u001b[39;00m \u001b[38;5;28mself\u001b[39m\u001b[38;5;241m.\u001b[39muse_cache:\n\u001b[1;32m    499\u001b[0m         \u001b[38;5;28mself\u001b[39m\u001b[38;5;241m.\u001b[39matoms \u001b[38;5;241m=\u001b[39m atoms\u001b[38;5;241m.\u001b[39mcopy()\n\u001b[0;32m--> 501\u001b[0m     \u001b[38;5;28;43mself\u001b[39;49m\u001b[38;5;241;43m.\u001b[39;49m\u001b[43mcalculate\u001b[49m\u001b[43m(\u001b[49m\u001b[43matoms\u001b[49m\u001b[43m,\u001b[49m\u001b[43m \u001b[49m\u001b[43m[\u001b[49m\u001b[43mname\u001b[49m\u001b[43m]\u001b[49m\u001b[43m,\u001b[49m\u001b[43m \u001b[49m\u001b[43msystem_changes\u001b[49m\u001b[43m)\u001b[49m\n\u001b[1;32m    503\u001b[0m \u001b[38;5;28;01mif\u001b[39;00m name \u001b[38;5;129;01mnot\u001b[39;00m \u001b[38;5;129;01min\u001b[39;00m \u001b[38;5;28mself\u001b[39m\u001b[38;5;241m.\u001b[39mresults:\n\u001b[1;32m    504\u001b[0m     \u001b[38;5;66;03m# For some reason the calculator was not able to do what we want,\u001b[39;00m\n\u001b[1;32m    505\u001b[0m     \u001b[38;5;66;03m# and that is OK.\u001b[39;00m\n\u001b[1;32m    506\u001b[0m     \u001b[38;5;28;01mraise\u001b[39;00m PropertyNotImplementedError(\u001b[38;5;124m'\u001b[39m\u001b[38;5;132;01m{}\u001b[39;00m\u001b[38;5;124m not present in this \u001b[39m\u001b[38;5;124m'\u001b[39m\n\u001b[1;32m    507\u001b[0m                                       \u001b[38;5;124m'\u001b[39m\u001b[38;5;124mcalculation\u001b[39m\u001b[38;5;124m'\u001b[39m\u001b[38;5;241m.\u001b[39mformat(name))\n",
      "File \u001b[0;32m~/miniconda3/envs/fastforce/lib/python3.10/site-packages/ase/calculators/psi4.py:179\u001b[0m, in \u001b[0;36mPsi4.calculate\u001b[0;34m(self, atoms, properties, system_changes, symmetry)\u001b[0m\n\u001b[1;32m    177\u001b[0m \u001b[38;5;66;03m# Do the calculations\u001b[39;00m\n\u001b[1;32m    178\u001b[0m \u001b[38;5;28;01mif\u001b[39;00m \u001b[38;5;124m'\u001b[39m\u001b[38;5;124mforces\u001b[39m\u001b[38;5;124m'\u001b[39m \u001b[38;5;129;01min\u001b[39;00m properties:\n\u001b[0;32m--> 179\u001b[0m     grad, wf \u001b[38;5;241m=\u001b[39m \u001b[38;5;28;43mself\u001b[39;49m\u001b[38;5;241;43m.\u001b[39;49m\u001b[43mpsi4\u001b[49m\u001b[38;5;241;43m.\u001b[39;49m\u001b[43mdriver\u001b[49m\u001b[38;5;241;43m.\u001b[39;49m\u001b[43mgradient\u001b[49m\u001b[43m(\u001b[49m\u001b[38;5;124;43m'\u001b[39;49m\u001b[38;5;132;43;01m{}\u001b[39;49;00m\u001b[38;5;124;43m/\u001b[39;49m\u001b[38;5;132;43;01m{}\u001b[39;49;00m\u001b[38;5;124;43m'\u001b[39;49m\u001b[38;5;241;43m.\u001b[39;49m\u001b[43mformat\u001b[49m\u001b[43m(\u001b[49m\u001b[43mmethod\u001b[49m\u001b[43m,\u001b[49m\u001b[43m \u001b[49m\u001b[43mbasis\u001b[49m\u001b[43m)\u001b[49m\u001b[43m,\u001b[49m\n\u001b[1;32m    180\u001b[0m \u001b[43m                                         \u001b[49m\u001b[43mreturn_wfn\u001b[49m\u001b[38;5;241;43m=\u001b[39;49m\u001b[38;5;28;43;01mTrue\u001b[39;49;00m\u001b[43m)\u001b[49m\n\u001b[1;32m    181\u001b[0m     \u001b[38;5;66;03m# energy comes for free\u001b[39;00m\n\u001b[1;32m    182\u001b[0m     energy \u001b[38;5;241m=\u001b[39m wf\u001b[38;5;241m.\u001b[39menergy()\n",
      "File \u001b[0;32m~/miniconda3/envs/fastforce/lib/python3.10/site-packages/psi4/driver/driver.py:619\u001b[0m, in \u001b[0;36mgradient\u001b[0;34m(name, **kwargs)\u001b[0m\n\u001b[1;32m    617\u001b[0m logger\u001b[38;5;241m.\u001b[39minfo(\u001b[38;5;124mf\u001b[39m\u001b[38;5;124m\"\u001b[39m\u001b[38;5;124mCompute gradient(): method=\u001b[39m\u001b[38;5;132;01m{\u001b[39;00mlowername\u001b[38;5;132;01m}\u001b[39;00m\u001b[38;5;124m, basis=\u001b[39m\u001b[38;5;132;01m{\u001b[39;00mcore\u001b[38;5;241m.\u001b[39mget_global_option(\u001b[38;5;124m'\u001b[39m\u001b[38;5;124mBASIS\u001b[39m\u001b[38;5;124m'\u001b[39m)\u001b[38;5;241m.\u001b[39mlower()\u001b[38;5;132;01m}\u001b[39;00m\u001b[38;5;124m, molecule=\u001b[39m\u001b[38;5;132;01m{\u001b[39;00mmolecule\u001b[38;5;241m.\u001b[39mname()\u001b[38;5;132;01m}\u001b[39;00m\u001b[38;5;124m, nre=\u001b[39m\u001b[38;5;132;01m{\u001b[39;00m\u001b[38;5;124m'\u001b[39m\u001b[38;5;124mw/EFP\u001b[39m\u001b[38;5;124m'\u001b[39m \u001b[38;5;28;01mif\u001b[39;00m \u001b[38;5;28mhasattr\u001b[39m(molecule, \u001b[38;5;124m'\u001b[39m\u001b[38;5;124mEFP\u001b[39m\u001b[38;5;124m'\u001b[39m) \u001b[38;5;28;01melse\u001b[39;00m molecule\u001b[38;5;241m.\u001b[39mnuclear_repulsion_energy()\u001b[38;5;132;01m}\u001b[39;00m\u001b[38;5;124m\"\u001b[39m)\n\u001b[1;32m    618\u001b[0m logger\u001b[38;5;241m.\u001b[39mdebug(\u001b[38;5;124m\"\u001b[39m\u001b[38;5;124mw/EFP\u001b[39m\u001b[38;5;124m\"\u001b[39m \u001b[38;5;28;01mif\u001b[39;00m \u001b[38;5;28mhasattr\u001b[39m(molecule, \u001b[38;5;124m\"\u001b[39m\u001b[38;5;124mEFP\u001b[39m\u001b[38;5;124m\"\u001b[39m) \u001b[38;5;28;01melse\u001b[39;00m pp\u001b[38;5;241m.\u001b[39mpformat(molecule\u001b[38;5;241m.\u001b[39mto_dict()))\n\u001b[0;32m--> 619\u001b[0m wfn \u001b[38;5;241m=\u001b[39m \u001b[43mprocedures\u001b[49m\u001b[43m[\u001b[49m\u001b[38;5;124;43m'\u001b[39;49m\u001b[38;5;124;43mgradient\u001b[39;49m\u001b[38;5;124;43m'\u001b[39;49m\u001b[43m]\u001b[49m\u001b[43m[\u001b[49m\u001b[43mlowername\u001b[49m\u001b[43m]\u001b[49m\u001b[43m(\u001b[49m\u001b[43mlowername\u001b[49m\u001b[43m,\u001b[49m\u001b[43m \u001b[49m\u001b[43mmolecule\u001b[49m\u001b[38;5;241;43m=\u001b[39;49m\u001b[43mmolecule\u001b[49m\u001b[43m,\u001b[49m\u001b[43m \u001b[49m\u001b[38;5;241;43m*\u001b[39;49m\u001b[38;5;241;43m*\u001b[39;49m\u001b[43mkwargs\u001b[49m\u001b[43m)\u001b[49m\n\u001b[1;32m    620\u001b[0m logger\u001b[38;5;241m.\u001b[39minfo(\u001b[38;5;124mf\u001b[39m\u001b[38;5;124m\"\u001b[39m\u001b[38;5;124mReturn gradient(): \u001b[39m\u001b[38;5;132;01m{\u001b[39;00mcore\u001b[38;5;241m.\u001b[39mvariable(\u001b[38;5;124m'\u001b[39m\u001b[38;5;124mCURRENT ENERGY\u001b[39m\u001b[38;5;124m'\u001b[39m)\u001b[38;5;132;01m}\u001b[39;00m\u001b[38;5;124m\"\u001b[39m)\n\u001b[1;32m    621\u001b[0m logger\u001b[38;5;241m.\u001b[39minfo(nppp(wfn\u001b[38;5;241m.\u001b[39mgradient()\u001b[38;5;241m.\u001b[39mnp))\n",
      "File \u001b[0;32m~/miniconda3/envs/fastforce/lib/python3.10/site-packages/psi4/driver/procrouting/proc.py:90\u001b[0m, in \u001b[0;36mselect_scf_gradient\u001b[0;34m(name, **kwargs)\u001b[0m\n\u001b[1;32m     88\u001b[0m     \u001b[38;5;28;01mreturn\u001b[39;00m\n\u001b[1;32m     89\u001b[0m \u001b[38;5;28;01melse\u001b[39;00m:\n\u001b[0;32m---> 90\u001b[0m     \u001b[38;5;28;01mreturn\u001b[39;00m \u001b[43mfunc\u001b[49m\u001b[43m(\u001b[49m\u001b[43mname\u001b[49m\u001b[43m,\u001b[49m\u001b[43m \u001b[49m\u001b[38;5;241;43m*\u001b[39;49m\u001b[38;5;241;43m*\u001b[39;49m\u001b[43mkwargs\u001b[49m\u001b[43m)\u001b[49m\n",
      "File \u001b[0;32m~/miniconda3/envs/fastforce/lib/python3.10/site-packages/psi4/driver/procrouting/proc.py:2550\u001b[0m, in \u001b[0;36mrun_scf_gradient\u001b[0;34m(name, **kwargs)\u001b[0m\n\u001b[1;32m   2548\u001b[0m ref_wfn \u001b[38;5;241m=\u001b[39m kwargs\u001b[38;5;241m.\u001b[39mget(\u001b[38;5;124m'\u001b[39m\u001b[38;5;124mref_wfn\u001b[39m\u001b[38;5;124m'\u001b[39m, \u001b[38;5;28;01mNone\u001b[39;00m)\n\u001b[1;32m   2549\u001b[0m \u001b[38;5;28;01mif\u001b[39;00m ref_wfn \u001b[38;5;129;01mis\u001b[39;00m \u001b[38;5;28;01mNone\u001b[39;00m:\n\u001b[0;32m-> 2550\u001b[0m     ref_wfn \u001b[38;5;241m=\u001b[39m \u001b[43mrun_scf\u001b[49m\u001b[43m(\u001b[49m\u001b[43mname\u001b[49m\u001b[43m,\u001b[49m\u001b[43m \u001b[49m\u001b[38;5;241;43m*\u001b[39;49m\u001b[38;5;241;43m*\u001b[39;49m\u001b[43mkwargs\u001b[49m\u001b[43m)\u001b[49m\n\u001b[1;32m   2552\u001b[0m \u001b[38;5;28;01mif\u001b[39;00m core\u001b[38;5;241m.\u001b[39mget_option(\u001b[38;5;124m'\u001b[39m\u001b[38;5;124mSCF\u001b[39m\u001b[38;5;124m'\u001b[39m, \u001b[38;5;124m'\u001b[39m\u001b[38;5;124mREFERENCE\u001b[39m\u001b[38;5;124m'\u001b[39m) \u001b[38;5;129;01min\u001b[39;00m [\u001b[38;5;124m'\u001b[39m\u001b[38;5;124mROHF\u001b[39m\u001b[38;5;124m'\u001b[39m, \u001b[38;5;124m'\u001b[39m\u001b[38;5;124mCUHF\u001b[39m\u001b[38;5;124m'\u001b[39m]:\n\u001b[1;32m   2553\u001b[0m     ref_wfn\u001b[38;5;241m.\u001b[39msemicanonicalize()\n",
      "File \u001b[0;32m~/miniconda3/envs/fastforce/lib/python3.10/site-packages/psi4/driver/procrouting/proc.py:2455\u001b[0m, in \u001b[0;36mrun_scf\u001b[0;34m(name, **kwargs)\u001b[0m\n\u001b[1;32m   2452\u001b[0m \u001b[38;5;28;01mif\u001b[39;00m \u001b[38;5;129;01mnot\u001b[39;00m core\u001b[38;5;241m.\u001b[39mhas_global_option_changed(\u001b[38;5;124m'\u001b[39m\u001b[38;5;124mSCF_TYPE\u001b[39m\u001b[38;5;124m'\u001b[39m):\n\u001b[1;32m   2453\u001b[0m     core\u001b[38;5;241m.\u001b[39mset_global_option(\u001b[38;5;124m'\u001b[39m\u001b[38;5;124mSCF_TYPE\u001b[39m\u001b[38;5;124m'\u001b[39m, \u001b[38;5;124m'\u001b[39m\u001b[38;5;124mDF\u001b[39m\u001b[38;5;124m'\u001b[39m)\n\u001b[0;32m-> 2455\u001b[0m scf_wfn \u001b[38;5;241m=\u001b[39m \u001b[43mscf_helper\u001b[49m\u001b[43m(\u001b[49m\u001b[43mname\u001b[49m\u001b[43m,\u001b[49m\u001b[43m \u001b[49m\u001b[43mpost_scf\u001b[49m\u001b[38;5;241;43m=\u001b[39;49m\u001b[38;5;28;43;01mFalse\u001b[39;49;00m\u001b[43m,\u001b[49m\u001b[43m \u001b[49m\u001b[38;5;241;43m*\u001b[39;49m\u001b[38;5;241;43m*\u001b[39;49m\u001b[43mkwargs\u001b[49m\u001b[43m)\u001b[49m\n\u001b[1;32m   2456\u001b[0m returnvalue \u001b[38;5;241m=\u001b[39m scf_wfn\u001b[38;5;241m.\u001b[39menergy()\n\u001b[1;32m   2458\u001b[0m ssuper \u001b[38;5;241m=\u001b[39m scf_wfn\u001b[38;5;241m.\u001b[39mfunctional()\n",
      "File \u001b[0;32m~/miniconda3/envs/fastforce/lib/python3.10/site-packages/psi4/driver/procrouting/proc.py:1670\u001b[0m, in \u001b[0;36mscf_helper\u001b[0;34m(name, post_scf, **kwargs)\u001b[0m\n\u001b[1;32m   1662\u001b[0m     core\u001b[38;5;241m.\u001b[39mprint_out(\u001b[38;5;124mf\u001b[39m\u001b[38;5;124m\"\"\"\u001b[39m\u001b[38;5;124m Using potential file\u001b[39m\n\u001b[1;32m   1663\u001b[0m \u001b[38;5;124m                   \u001b[39m\u001b[38;5;132;01m{\u001b[39;00mpol_embed_options[\u001b[38;5;124m\"\u001b[39m\u001b[38;5;124mpotfile\u001b[39m\u001b[38;5;124m\"\u001b[39m]\u001b[38;5;132;01m}\u001b[39;00m\n\u001b[1;32m   1664\u001b[0m \u001b[38;5;124m                   for Polarizable Embedding calculation.\u001b[39m\u001b[38;5;130;01m\\n\u001b[39;00m\u001b[38;5;124m\"\"\"\u001b[39m)\n\u001b[1;32m   1665\u001b[0m     scf_wfn\u001b[38;5;241m.\u001b[39mpe_state \u001b[38;5;241m=\u001b[39m solvent\u001b[38;5;241m.\u001b[39mpol_embed\u001b[38;5;241m.\u001b[39mCppeInterface(\n\u001b[1;32m   1666\u001b[0m         molecule\u001b[38;5;241m=\u001b[39mscf_molecule, options\u001b[38;5;241m=\u001b[39mpol_embed_options,\n\u001b[1;32m   1667\u001b[0m         basisset\u001b[38;5;241m=\u001b[39mscf_wfn\u001b[38;5;241m.\u001b[39mbasisset()\n\u001b[1;32m   1668\u001b[0m     )\n\u001b[0;32m-> 1670\u001b[0m e_scf \u001b[38;5;241m=\u001b[39m \u001b[43mscf_wfn\u001b[49m\u001b[38;5;241;43m.\u001b[39;49m\u001b[43mcompute_energy\u001b[49m\u001b[43m(\u001b[49m\u001b[43m)\u001b[49m\n\u001b[1;32m   1671\u001b[0m \u001b[38;5;28;01mfor\u001b[39;00m obj \u001b[38;5;129;01min\u001b[39;00m [core, scf_wfn]:\n\u001b[1;32m   1672\u001b[0m     \u001b[38;5;66;03m# set_variable(\"SCF TOTAL ENERGY\")  # P::e SCF\u001b[39;00m\n\u001b[1;32m   1673\u001b[0m     \u001b[38;5;28;01mfor\u001b[39;00m pv \u001b[38;5;129;01min\u001b[39;00m [\u001b[38;5;124m\"\u001b[39m\u001b[38;5;124mSCF TOTAL ENERGY\u001b[39m\u001b[38;5;124m\"\u001b[39m, \u001b[38;5;124m\"\u001b[39m\u001b[38;5;124mCURRENT ENERGY\u001b[39m\u001b[38;5;124m\"\u001b[39m, \u001b[38;5;124m\"\u001b[39m\u001b[38;5;124mCURRENT REFERENCE ENERGY\u001b[39m\u001b[38;5;124m\"\u001b[39m]:\n",
      "File \u001b[0;32m~/miniconda3/envs/fastforce/lib/python3.10/site-packages/psi4/driver/procrouting/scf_proc/scf_iterator.py:86\u001b[0m, in \u001b[0;36mscf_compute_energy\u001b[0;34m(self)\u001b[0m\n\u001b[1;32m     83\u001b[0m     \u001b[38;5;28mself\u001b[39m\u001b[38;5;241m.\u001b[39minitialize()\n\u001b[1;32m     85\u001b[0m \u001b[38;5;28;01mtry\u001b[39;00m:\n\u001b[0;32m---> 86\u001b[0m     \u001b[38;5;28;43mself\u001b[39;49m\u001b[38;5;241;43m.\u001b[39;49m\u001b[43miterations\u001b[49m\u001b[43m(\u001b[49m\u001b[43m)\u001b[49m\n\u001b[1;32m     87\u001b[0m \u001b[38;5;28;01mexcept\u001b[39;00m SCFConvergenceError \u001b[38;5;28;01mas\u001b[39;00m e:\n\u001b[1;32m     88\u001b[0m     \u001b[38;5;28;01mif\u001b[39;00m core\u001b[38;5;241m.\u001b[39mget_option(\u001b[38;5;124m\"\u001b[39m\u001b[38;5;124mSCF\u001b[39m\u001b[38;5;124m\"\u001b[39m, \u001b[38;5;124m\"\u001b[39m\u001b[38;5;124mFAIL_ON_MAXITER\u001b[39m\u001b[38;5;124m\"\u001b[39m):\n",
      "File \u001b[0;32m~/miniconda3/envs/fastforce/lib/python3.10/site-packages/psi4/driver/procrouting/scf_proc/scf_iterator.py:298\u001b[0m, in \u001b[0;36mscf_iterate\u001b[0;34m(self, e_conv, d_conv)\u001b[0m\n\u001b[1;32m    296\u001b[0m \u001b[38;5;66;03m# Two-electron contribution to Fock matrix from self.jk()\u001b[39;00m\n\u001b[1;32m    297\u001b[0m core\u001b[38;5;241m.\u001b[39mtimer_on(\u001b[38;5;124m\"\u001b[39m\u001b[38;5;124mHF: Form G\u001b[39m\u001b[38;5;124m\"\u001b[39m)\n\u001b[0;32m--> 298\u001b[0m \u001b[38;5;28;43mself\u001b[39;49m\u001b[38;5;241;43m.\u001b[39;49m\u001b[43mform_G\u001b[49m\u001b[43m(\u001b[49m\u001b[43m)\u001b[49m\n\u001b[1;32m    299\u001b[0m core\u001b[38;5;241m.\u001b[39mtimer_off(\u001b[38;5;124m\"\u001b[39m\u001b[38;5;124mHF: Form G\u001b[39m\u001b[38;5;124m\"\u001b[39m)\n\u001b[1;32m    301\u001b[0m \u001b[38;5;66;03m# Check if special J/K construction algorithms were used\u001b[39;00m\n",
      "\u001b[0;31mKeyboardInterrupt\u001b[0m: "
     ]
    }
   ],
   "source": [
    "out_dir.mkdir(exist_ok=True)\n",
    "for name, calc in [('dft', psi4)]:\n",
    "    for temp in [100, 300, 900]:\n",
    "        with connect('methane-added.db') as db:\n",
    "            for row in tqdm(db.select('', limit=4)):\n",
    "                out_path = out_dir / f'{name}_n={(row.natoms - 2) // 3}_T={temp}K-{row.filename}.db'\n",
    "                if out_path.is_file():\n",
    "                    continue\n",
    "\n",
    "                # Read the structure and initialize it at 100K\n",
    "                atoms = row.toatoms()\n",
    "                MaxwellBoltzmannDistribution(atoms, temperature_K=temp * 2,\n",
    "                                             rng=np.random.RandomState(1))\n",
    "\n",
    "                # Run it for a few timesteps\n",
    "                with warnings.catch_warnings():\n",
    "                    warnings.simplefilter('ignore')\n",
    "                    _, traj = MolecularDynamics().run_sampling(atoms, 32, calc, timestep=0.1, log_interval=2)\n",
    "\n",
    "                # Save it to disk\n",
    "                write(str(out_path), traj)"
   ]
  },
  {
   "cell_type": "code",
   "execution_count": null,
   "id": "19f69adf-e203-4658-b795-e4a115b561bb",
   "metadata": {},
   "outputs": [],
   "source": []
  }
 ],
 "metadata": {
  "kernelspec": {
   "display_name": "Python 3 (ipykernel)",
   "language": "python",
   "name": "python3"
  },
  "language_info": {
   "codemirror_mode": {
    "name": "ipython",
    "version": 3
   },
   "file_extension": ".py",
   "mimetype": "text/x-python",
   "name": "python",
   "nbconvert_exporter": "python",
   "pygments_lexer": "ipython3",
   "version": "3.10.8"
  }
 },
 "nbformat": 4,
 "nbformat_minor": 5
}
