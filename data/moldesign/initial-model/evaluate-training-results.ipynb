{
 "cells": [
  {
   "cell_type": "markdown",
   "metadata": {},
   "source": [
    "# Evaluate MPNN Performance\n",
    "Review the models which have been trained and pick one for our application."
   ]
  },
  {
   "cell_type": "code",
   "execution_count": 1,
   "metadata": {},
   "outputs": [],
   "source": [
    "%matplotlib inline\n",
    "from matplotlib import pyplot as plt\n",
    "from glob import glob\n",
    "import pandas as pd\n",
    "import numpy as np\n",
    "import json\n",
    "import os"
   ]
  },
  {
   "cell_type": "markdown",
   "metadata": {},
   "source": [
    "## Load in the Models\n",
    "They are all located in a directory with a `test_summary.json` file"
   ]
  },
  {
   "cell_type": "code",
   "execution_count": 2,
   "metadata": {},
   "outputs": [
    {
     "name": "stdout",
     "output_type": "stream",
     "text": [
      "Found 18 model directories\n"
     ]
    }
   ],
   "source": [
    "model_dirs = list(map(os.path.dirname, glob(os.path.join('networks', '**', 'test_summary.json'))))\n",
    "print(f'Found {len(model_dirs)} model directories')"
   ]
  },
  {
   "cell_type": "code",
   "execution_count": 3,
   "metadata": {},
   "outputs": [],
   "source": [
    "def get_summary(path):\n",
    "    \"\"\"Get the summary of a run\"\"\"\n",
    "    \n",
    "    output = {'path': path}\n",
    "    \n",
    "    # Load the config\n",
    "    with open(os.path.join(path, 'config.json')) as fp:\n",
    "        output.update(json.load(fp))\n",
    "        \n",
    "    # Load in the run summary\n",
    "    with open(os.path.join(path, 'test_summary.json')) as fp:\n",
    "        output.update(json.load(fp))\n",
    "    return output"
   ]
  },
  {
   "cell_type": "code",
   "execution_count": 4,
   "metadata": {},
   "outputs": [
    {
     "data": {
      "text/html": [
       "<div>\n",
       "<style scoped>\n",
       "    .dataframe tbody tr th:only-of-type {\n",
       "        vertical-align: middle;\n",
       "    }\n",
       "\n",
       "    .dataframe tbody tr th {\n",
       "        vertical-align: top;\n",
       "    }\n",
       "\n",
       "    .dataframe thead th {\n",
       "        text-align: right;\n",
       "    }\n",
       "</style>\n",
       "<table border=\"1\" class=\"dataframe\">\n",
       "  <thead>\n",
       "    <tr style=\"text-align: right;\">\n",
       "      <th></th>\n",
       "      <th>path</th>\n",
       "      <th>atom_features</th>\n",
       "      <th>num_messages</th>\n",
       "      <th>output_layers</th>\n",
       "      <th>batch_size</th>\n",
       "      <th>num_epochs</th>\n",
       "      <th>system</th>\n",
       "      <th>lr_start</th>\n",
       "      <th>reduce_op</th>\n",
       "      <th>atomwise</th>\n",
       "      <th>runtime</th>\n",
       "      <th>r2_score</th>\n",
       "      <th>spearmanr</th>\n",
       "      <th>kendall_tau</th>\n",
       "      <th>mae</th>\n",
       "      <th>rmse</th>\n",
       "    </tr>\n",
       "  </thead>\n",
       "  <tbody>\n",
       "    <tr>\n",
       "      <th>1</th>\n",
       "      <td>networks/gpu_b16_n256_Rsum_cbd46e</td>\n",
       "      <td>64</td>\n",
       "      <td>6</td>\n",
       "      <td>[512, 256, 128]</td>\n",
       "      <td>16</td>\n",
       "      <td>256</td>\n",
       "      <td>gpu</td>\n",
       "      <td>0.001</td>\n",
       "      <td>sum</td>\n",
       "      <td>False</td>\n",
       "      <td>367.356733</td>\n",
       "      <td>0.904274</td>\n",
       "      <td>0.957978</td>\n",
       "      <td>0.830779</td>\n",
       "      <td>0.182403</td>\n",
       "      <td>0.266382</td>\n",
       "    </tr>\n",
       "    <tr>\n",
       "      <th>2</th>\n",
       "      <td>networks/gpu_b16_n256_Rsum_9eb813</td>\n",
       "      <td>64</td>\n",
       "      <td>4</td>\n",
       "      <td>[512, 256, 128]</td>\n",
       "      <td>16</td>\n",
       "      <td>256</td>\n",
       "      <td>gpu</td>\n",
       "      <td>0.001</td>\n",
       "      <td>sum</td>\n",
       "      <td>False</td>\n",
       "      <td>300.565175</td>\n",
       "      <td>0.908244</td>\n",
       "      <td>0.963184</td>\n",
       "      <td>0.839491</td>\n",
       "      <td>0.190486</td>\n",
       "      <td>0.267309</td>\n",
       "    </tr>\n",
       "    <tr>\n",
       "      <th>10</th>\n",
       "      <td>networks/gpu_b16_n256_Rsum_e12c99</td>\n",
       "      <td>64</td>\n",
       "      <td>8</td>\n",
       "      <td>[512, 256, 128]</td>\n",
       "      <td>16</td>\n",
       "      <td>256</td>\n",
       "      <td>gpu</td>\n",
       "      <td>0.001</td>\n",
       "      <td>sum</td>\n",
       "      <td>False</td>\n",
       "      <td>634.556888</td>\n",
       "      <td>0.852825</td>\n",
       "      <td>0.937831</td>\n",
       "      <td>0.809784</td>\n",
       "      <td>0.205228</td>\n",
       "      <td>0.330503</td>\n",
       "    </tr>\n",
       "    <tr>\n",
       "      <th>14</th>\n",
       "      <td>networks/gpu_b16_n256_Rsum_e62d30</td>\n",
       "      <td>16</td>\n",
       "      <td>8</td>\n",
       "      <td>[512, 256, 128]</td>\n",
       "      <td>16</td>\n",
       "      <td>256</td>\n",
       "      <td>gpu</td>\n",
       "      <td>0.001</td>\n",
       "      <td>sum</td>\n",
       "      <td>False</td>\n",
       "      <td>648.147453</td>\n",
       "      <td>0.842795</td>\n",
       "      <td>0.932949</td>\n",
       "      <td>0.805643</td>\n",
       "      <td>0.206372</td>\n",
       "      <td>0.344457</td>\n",
       "    </tr>\n",
       "    <tr>\n",
       "      <th>11</th>\n",
       "      <td>networks/gpu_b16_n256_Rmin_b97c6b</td>\n",
       "      <td>32</td>\n",
       "      <td>8</td>\n",
       "      <td>[512, 256, 128]</td>\n",
       "      <td>16</td>\n",
       "      <td>256</td>\n",
       "      <td>gpu</td>\n",
       "      <td>0.001</td>\n",
       "      <td>min</td>\n",
       "      <td>False</td>\n",
       "      <td>429.959445</td>\n",
       "      <td>0.842717</td>\n",
       "      <td>0.940514</td>\n",
       "      <td>0.806265</td>\n",
       "      <td>0.208273</td>\n",
       "      <td>0.338672</td>\n",
       "    </tr>\n",
       "  </tbody>\n",
       "</table>\n",
       "</div>"
      ],
      "text/plain": [
       "                                 path  atom_features  num_messages  \\\n",
       "1   networks/gpu_b16_n256_Rsum_cbd46e             64             6   \n",
       "2   networks/gpu_b16_n256_Rsum_9eb813             64             4   \n",
       "10  networks/gpu_b16_n256_Rsum_e12c99             64             8   \n",
       "14  networks/gpu_b16_n256_Rsum_e62d30             16             8   \n",
       "11  networks/gpu_b16_n256_Rmin_b97c6b             32             8   \n",
       "\n",
       "      output_layers  batch_size  num_epochs system  lr_start reduce_op  \\\n",
       "1   [512, 256, 128]          16         256    gpu     0.001       sum   \n",
       "2   [512, 256, 128]          16         256    gpu     0.001       sum   \n",
       "10  [512, 256, 128]          16         256    gpu     0.001       sum   \n",
       "14  [512, 256, 128]          16         256    gpu     0.001       sum   \n",
       "11  [512, 256, 128]          16         256    gpu     0.001       min   \n",
       "\n",
       "    atomwise     runtime  r2_score  spearmanr  kendall_tau       mae      rmse  \n",
       "1      False  367.356733  0.904274   0.957978     0.830779  0.182403  0.266382  \n",
       "2      False  300.565175  0.908244   0.963184     0.839491  0.190486  0.267309  \n",
       "10     False  634.556888  0.852825   0.937831     0.809784  0.205228  0.330503  \n",
       "14     False  648.147453  0.842795   0.932949     0.805643  0.206372  0.344457  \n",
       "11     False  429.959445  0.842717   0.940514     0.806265  0.208273  0.338672  "
      ]
     },
     "execution_count": 4,
     "metadata": {},
     "output_type": "execute_result"
    }
   ],
   "source": [
    "models = pd.DataFrame(get_summary(p) for p in model_dirs).sort_values('mae', ascending=True)\n",
    "models.head(5)"
   ]
  },
  {
   "cell_type": "markdown",
   "metadata": {},
   "source": [
    "## Validate the Model\n",
    "Visualize the results on the hold-out set of 10% of our data"
   ]
  },
  {
   "cell_type": "code",
   "execution_count": 5,
   "metadata": {},
   "outputs": [],
   "source": [
    "best_model = models.iloc[0]"
   ]
  },
  {
   "cell_type": "code",
   "execution_count": 6,
   "metadata": {},
   "outputs": [
    {
     "data": {
      "text/plain": [
       "path             networks/gpu_b16_n256_Rsum_cbd46e\n",
       "atom_features                                   64\n",
       "num_messages                                     6\n",
       "output_layers                      [512, 256, 128]\n",
       "batch_size                                      16\n",
       "num_epochs                                     256\n",
       "system                                         gpu\n",
       "lr_start                                     0.001\n",
       "reduce_op                                      sum\n",
       "atomwise                                     False\n",
       "runtime                                 367.356733\n",
       "r2_score                                  0.904274\n",
       "spearmanr                                 0.957978\n",
       "kendall_tau                               0.830779\n",
       "mae                                       0.182403\n",
       "rmse                                      0.266382\n",
       "Name: 1, dtype: object"
      ]
     },
     "execution_count": 6,
     "metadata": {},
     "output_type": "execute_result"
    }
   ],
   "source": [
    "best_model"
   ]
  },
  {
   "cell_type": "markdown",
   "metadata": {},
   "source": [
    "Print the predicted-vs-acutal"
   ]
  },
  {
   "cell_type": "code",
   "execution_count": 7,
   "metadata": {},
   "outputs": [],
   "source": [
    "test_data = pd.read_csv(os.path.join(best_model['path'], 'test_results.csv'))"
   ]
  },
  {
   "cell_type": "code",
   "execution_count": 8,
   "metadata": {},
   "outputs": [
    {
     "data": {
      "image/png": "[encoded data removed]",
      "text/plain": [
       "<Figure size 650x250 with 2 Axes>"
      ]
     },
     "metadata": {},
     "output_type": "display_data"
    }
   ],
   "source": [
    "fig, axs = plt.subplots(1, 2, figsize=(6.5, 2.5))\n",
    "\n",
    "errors = (test_data['pred'] - test_data['true'])\n",
    "\n",
    "ax = axs[0]\n",
    "ax.scatter(test_data['true'], test_data['pred'], s=5, alpha=0.7, edgecolor='none')\n",
    "ax.text(0.05, 0.95, f'$R^2$:{best_model[\"r2_score\"]: .2f}\\nMAE:{errors.abs().mean(): .2f} V', \n",
    "       transform=ax.transAxes, va='top', ha='left')\n",
    "\n",
    "ax.set_xlim(ax.get_xlim())\n",
    "ax.set_ylim(ax.get_xlim())\n",
    "\n",
    "ax.plot(ax.get_xlim(), ax.get_xlim(), 'k--')\n",
    "\n",
    "ax.set_xlabel('IP, XTB (V)')\n",
    "ax.set_ylabel('IP, MPNN (V)')\n",
    "\n",
    "ax = axs[1]\n",
    "\n",
    "\n",
    "ax.hist(errors, bins=np.linspace(-2, 2, 32))\n",
    "ax.text(1, 0.95, f'', \n",
    "       transform=ax.transAxes, va='top', ha='right')\n",
    "\n",
    "ax.set_ylim(ax.get_ylim())\n",
    "ax.plot([-1, -1], ax.get_ylim(), 'k--')\n",
    "ax.plot([1, 1], ax.get_ylim(), 'k--')\n",
    "\n",
    "ax.set_xlabel('Error (V)')\n",
    "ax.set_ylabel('Frequency')\n",
    "fig.tight_layout()"
   ]
  },
  {
   "cell_type": "markdown",
   "metadata": {},
   "source": [
    "Print the training log"
   ]
  },
  {
   "cell_type": "code",
   "execution_count": 9,
   "metadata": {},
   "outputs": [],
   "source": [
    "train_log = pd.read_csv(os.path.join(best_model['path'], 'train_log.csv'))"
   ]
  },
  {
   "cell_type": "code",
   "execution_count": 10,
   "metadata": {},
   "outputs": [
    {
     "data": {
      "text/plain": [
       "Text(0, 0.5, 'Loss')"
      ]
     },
     "execution_count": 10,
     "metadata": {},
     "output_type": "execute_result"
    },
    {
     "data": {
      "image/png": "[encoded data removed]",
      "text/plain": [
       "<Figure size 350x250 with 1 Axes>"
      ]
     },
     "metadata": {},
     "output_type": "display_data"
    }
   ],
   "source": [
    "fig, ax = plt.subplots(figsize=(3.5, 2.5))\n",
    "\n",
    "ax.semilogy(train_log.index, train_log['loss'], 'k-', label='Train')\n",
    "ax.semilogy(train_log.index, train_log['val_loss'], 'r-', label='Valid')\n",
    "\n",
    "ax.set_xlabel('Epoch')\n",
    "ax.set_ylabel('Loss')"
   ]
  },
  {
   "cell_type": "code",
   "execution_count": null,
   "metadata": {},
   "outputs": [],
   "source": []
  },
  {
   "cell_type": "code",
   "execution_count": null,
   "metadata": {},
   "outputs": [],
   "source": []
  }
 ],
 "metadata": {
  "kernelspec": {
   "display_name": "Python 3 (ipykernel)",
   "language": "python",
   "name": "python3"
  },
  "language_info": {
   "codemirror_mode": {
    "name": "ipython",
    "version": 3
   },
   "file_extension": ".py",
   "mimetype": "text/x-python",
   "name": "python",
   "nbconvert_exporter": "python",
   "pygments_lexer": "ipython3",
   "version": "3.9.16"
  }
 },
 "nbformat": 4,
 "nbformat_minor": 4
}
