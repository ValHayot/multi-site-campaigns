{
 "cells": [
  {
   "cell_type": "markdown",
   "id": "b997a5bf-4057-4bbc-943d-7ab83d59d7ed",
   "metadata": {},
   "source": [
    "# Assess Task Compute Time and Data Sizes\n",
    "To get a better idea how they are each different and provide quantitative descriptions in the paper"
   ]
  },
  {
   "cell_type": "code",
   "execution_count": 1,
   "id": "345d4f36-8187-4726-8728-d8228282ed5b",
   "metadata": {},
   "outputs": [],
   "source": [
    "from pathlib import Path\n",
    "import pandas as pd"
   ]
  },
  {
   "cell_type": "markdown",
   "id": "485f43b9-a3ca-4e14-9f51-9a68d3361836",
   "metadata": {},
   "source": [
    "Configuration"
   ]
  },
  {
   "cell_type": "code",
   "execution_count": 2,
   "id": "989c7c5e-1e75-4a92-8c2d-1bc8c74fcc69",
   "metadata": {},
   "outputs": [],
   "source": [
    "run_dir = Path('prod-runs/8KNL-20T4-no-ps/')  # Use the proxy-free version"
   ]
  },
  {
   "cell_type": "markdown",
   "id": "ca3d2be9-589e-4da5-9dc2-3f25ae4ac331",
   "metadata": {},
   "source": [
    "## Load in Each Type of Task\n",
    "We'll need the runtimes and method sizes"
   ]
  },
  {
   "cell_type": "code",
   "execution_count": 3,
   "id": "7d3613ce-b1fb-4ddf-b3ab-04804647d02a",
   "metadata": {},
   "outputs": [
    {
     "name": "stdout",
     "output_type": "stream",
     "text": [
      "Loaded 1680 tasks\n"
     ]
    }
   ],
   "source": [
    "tasks = []\n",
    "for path in run_dir.glob('*-result*.json'):\n",
    "    records = pd.read_json(path, lines=True)\n",
    "    records['total_size'] = records['message_sizes'].apply(lambda x: sum(x.values())) / 1e6\n",
    "    tasks.append(records[['method', 'time_running', 'total_size']])\n",
    "tasks = pd.concat(tasks)\n",
    "print(f'Loaded {len(tasks)} tasks')"
   ]
  },
  {
   "cell_type": "markdown",
   "id": "c94b14a3-d8dd-4a59-8da0-26280b5ba612",
   "metadata": {},
   "source": [
    "## Group by Method\n",
    "Get the median and mean for each type of task"
   ]
  },
  {
   "cell_type": "code",
   "execution_count": 4,
   "id": "193bb53b-e816-4b84-9456-315d41f07e62",
   "metadata": {},
   "outputs": [
    {
     "data": {
      "text/html": [
       "<div>\n",
       "<style scoped>\n",
       "    .dataframe tbody tr th:only-of-type {\n",
       "        vertical-align: middle;\n",
       "    }\n",
       "\n",
       "    .dataframe tbody tr th {\n",
       "        vertical-align: top;\n",
       "    }\n",
       "\n",
       "    .dataframe thead tr th {\n",
       "        text-align: left;\n",
       "    }\n",
       "\n",
       "    .dataframe thead tr:last-of-type th {\n",
       "        text-align: right;\n",
       "    }\n",
       "</style>\n",
       "<table border=\"1\" class=\"dataframe\">\n",
       "  <thead>\n",
       "    <tr>\n",
       "      <th></th>\n",
       "      <th colspan=\"6\" halign=\"left\">time_running</th>\n",
       "      <th colspan=\"6\" halign=\"left\">total_size</th>\n",
       "    </tr>\n",
       "    <tr>\n",
       "      <th></th>\n",
       "      <th>count</th>\n",
       "      <th>mean</th>\n",
       "      <th>std</th>\n",
       "      <th>min</th>\n",
       "      <th>50%</th>\n",
       "      <th>max</th>\n",
       "      <th>count</th>\n",
       "      <th>mean</th>\n",
       "      <th>std</th>\n",
       "      <th>min</th>\n",
       "      <th>50%</th>\n",
       "      <th>max</th>\n",
       "    </tr>\n",
       "    <tr>\n",
       "      <th>method</th>\n",
       "      <th></th>\n",
       "      <th></th>\n",
       "      <th></th>\n",
       "      <th></th>\n",
       "      <th></th>\n",
       "      <th></th>\n",
       "      <th></th>\n",
       "      <th></th>\n",
       "      <th></th>\n",
       "      <th></th>\n",
       "      <th></th>\n",
       "      <th></th>\n",
       "    </tr>\n",
       "  </thead>\n",
       "  <tbody>\n",
       "    <tr>\n",
       "      <th>evaluate_mpnn</th>\n",
       "      <td>1104.0</td>\n",
       "      <td>39.934202</td>\n",
       "      <td>3.057144</td>\n",
       "      <td>30.567365</td>\n",
       "      <td>39.571590</td>\n",
       "      <td>76.279101</td>\n",
       "      <td>1104.0</td>\n",
       "      <td>104.136820</td>\n",
       "      <td>2.657086</td>\n",
       "      <td>98.539011</td>\n",
       "      <td>103.594807</td>\n",
       "      <td>108.989321</td>\n",
       "    </tr>\n",
       "    <tr>\n",
       "      <th>retrain_mpnn</th>\n",
       "      <td>56.0</td>\n",
       "      <td>353.943642</td>\n",
       "      <td>93.815752</td>\n",
       "      <td>137.087016</td>\n",
       "      <td>372.137334</td>\n",
       "      <td>499.819405</td>\n",
       "      <td>56.0</td>\n",
       "      <td>5.622344</td>\n",
       "      <td>0.018184</td>\n",
       "      <td>5.595638</td>\n",
       "      <td>5.619790</td>\n",
       "      <td>5.654468</td>\n",
       "    </tr>\n",
       "    <tr>\n",
       "      <th>run_simulation</th>\n",
       "      <td>520.0</td>\n",
       "      <td>87.551868</td>\n",
       "      <td>47.670382</td>\n",
       "      <td>17.547251</td>\n",
       "      <td>78.009014</td>\n",
       "      <td>277.160734</td>\n",
       "      <td>520.0</td>\n",
       "      <td>1.485636</td>\n",
       "      <td>0.742893</td>\n",
       "      <td>0.309582</td>\n",
       "      <td>1.372107</td>\n",
       "      <td>4.323642</td>\n",
       "    </tr>\n",
       "  </tbody>\n",
       "</table>\n",
       "</div>"
      ],
      "text/plain": [
       "               time_running                                                 \\\n",
       "                      count        mean        std         min         50%   \n",
       "method                                                                       \n",
       "evaluate_mpnn        1104.0   39.934202   3.057144   30.567365   39.571590   \n",
       "retrain_mpnn           56.0  353.943642  93.815752  137.087016  372.137334   \n",
       "run_simulation        520.0   87.551868  47.670382   17.547251   78.009014   \n",
       "\n",
       "                           total_size                                   \\\n",
       "                       max      count        mean       std        min   \n",
       "method                                                                   \n",
       "evaluate_mpnn    76.279101     1104.0  104.136820  2.657086  98.539011   \n",
       "retrain_mpnn    499.819405       56.0    5.622344  0.018184   5.595638   \n",
       "run_simulation  277.160734      520.0    1.485636  0.742893   0.309582   \n",
       "\n",
       "                                        \n",
       "                       50%         max  \n",
       "method                                  \n",
       "evaluate_mpnn   103.594807  108.989321  \n",
       "retrain_mpnn      5.619790    5.654468  \n",
       "run_simulation    1.372107    4.323642  "
      ]
     },
     "execution_count": 4,
     "metadata": {},
     "output_type": "execute_result"
    }
   ],
   "source": [
    "tasks.groupby('method').describe(percentiles=[0.5])"
   ]
  },
  {
   "cell_type": "markdown",
   "id": "c6a82fd2-0c1d-4c56-8473-428301586488",
   "metadata": {
    "tags": []
   },
   "source": [
    "## Get the total amount of compute time for inference\n",
    "The time per task is not meaningful as we can choose chunk sizes"
   ]
  },
  {
   "cell_type": "code",
   "execution_count": 5,
   "id": "19a79eae-2d8e-448f-9f14-abf311290bee",
   "metadata": {},
   "outputs": [],
   "source": [
    "n_models = 8\n",
    "n_chunks = 23 "
   ]
  },
  {
   "cell_type": "code",
   "execution_count": 6,
   "id": "9a6c5ea4-4f6f-456e-b2bb-338f75508aea",
   "metadata": {},
   "outputs": [
    {
     "name": "stdout",
     "output_type": "stream",
     "text": [
      "Pulled 6.0 runs worth of data\n"
     ]
    }
   ],
   "source": [
    "inf_tasks = tasks.query(\"method=='evaluate_mpnn'\")\n",
    "n_runs = len(inf_tasks) / n_models / n_chunks\n",
    "print(f'Pulled {n_runs} runs worth of data')"
   ]
  },
  {
   "cell_type": "code",
   "execution_count": 7,
   "id": "0ebc9f42-6125-48ce-8f21-6c36175ad503",
   "metadata": {},
   "outputs": [
    {
     "data": {
      "text/plain": [
       "time_running     918.486636\n",
       "total_size      2395.146870\n",
       "dtype: float64"
      ]
     },
     "execution_count": 7,
     "metadata": {},
     "output_type": "execute_result"
    }
   ],
   "source": [
    "inf_tasks[['time_running', 'total_size']].sum() / n_models / n_runs"
   ]
  },
  {
   "cell_type": "markdown",
   "id": "675d29f3-090b-45b7-86d6-96a8b720ac4e",
   "metadata": {},
   "source": [
    "Print the molecules per second"
   ]
  },
  {
   "cell_type": "code",
   "execution_count": 8,
   "id": "8a50f305-2701-4cf9-90c2-eccd3a4ca278",
   "metadata": {},
   "outputs": [
    {
     "data": {
      "text/plain": [
       "1088.7474688686348"
      ]
     },
     "execution_count": 8,
     "metadata": {},
     "output_type": "execute_result"
    }
   ],
   "source": [
    "1e6 / (inf_tasks['time_running'].sum() / n_models / n_runs)"
   ]
  },
  {
   "cell_type": "markdown",
   "id": "caa89803-5d05-4fda-af73-3507500b21ba",
   "metadata": {},
   "source": []
  }
 ],
 "metadata": {
  "kernelspec": {
   "display_name": "Python 3 (ipykernel)",
   "language": "python",
   "name": "python3"
  },
  "language_info": {
   "codemirror_mode": {
    "name": "ipython",
    "version": 3
   },
   "file_extension": ".py",
   "mimetype": "text/x-python",
   "name": "python",
   "nbconvert_exporter": "python",
   "pygments_lexer": "ipython3",
   "version": "3.9.16"
  }
 },
 "nbformat": 4,
 "nbformat_minor": 5
}
