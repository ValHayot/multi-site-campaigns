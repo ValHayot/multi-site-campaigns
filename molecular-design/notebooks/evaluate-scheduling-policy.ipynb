{
 "cells": [
  {
   "cell_type": "markdown",
   "id": "a3680930-d198-408b-adf1-0fb2229b6666",
   "metadata": {},
   "source": [
    "# Evaluate Scheduling Policy\n",
    "Our application is designed to allow users to adjust how judiciously they use machine learning or simulation resources.\n",
    "For example, one can only run simulations after the machine learning workers finish picking the next simulations to make optimal use of simulation resources.\n",
    "Here, we assess the effect of the policy changes on using different resources."
   ]
  },
  {
   "cell_type": "code",
   "execution_count": 1,
   "id": "26d0f419-37e0-4172-adfd-339da3723749",
   "metadata": {},
   "outputs": [],
   "source": [
    "%matplotlib inline\n",
    "from matplotlib import pyplot as plt\n",
    "from pathlib import Path\n",
    "import pandas as pd\n",
    "import numpy as np\n",
    "import json"
   ]
  },
  {
   "cell_type": "markdown",
   "id": "3ee74cf1-d930-4cf9-9250-5f99627debfc",
   "metadata": {},
   "source": [
    "## Load the Runs\n",
    "We have a folder \"policy_runs\" that contains the studies of different runs"
   ]
  },
  {
   "cell_type": "code",
   "execution_count": 2,
   "id": "33903a93-5345-4bfa-b086-3cce7a2afd9c",
   "metadata": {},
   "outputs": [
    {
     "name": "stdout",
     "output_type": "stream",
     "text": [
      "Found 8 runs\n"
     ]
    }
   ],
   "source": [
    "runs = [x for x in Path('./policy-runs/').iterdir() if x.is_dir() and not x.name.startswith('.')]\n",
    "print(f'Found {len(runs)} runs')"
   ]
  },
  {
   "cell_type": "markdown",
   "id": "91a2a928-11e0-4f19-b0b2-df9fd418fecf",
   "metadata": {},
   "source": [
    "## Compute time(s) to solution\n",
    "We are going to mark finding 150 molecules with an IP above 14 as \"success.\"\n",
    "These scripts measure how many compute hours were spent to get there."
   ]
  },
  {
   "cell_type": "code",
   "execution_count": 3,
   "id": "9972890c-3c10-435d-bb8c-b3f2deba6efb",
   "metadata": {},
   "outputs": [],
   "source": [
    "def measure_solution_cost(path: Path, n_target: int = 175) -> dict:\n",
    "    \"\"\"Measure the time elapsed and the time spent to achieve a solution to the problem\n",
    "    \n",
    "    Args:\n",
    "        path: Path to a run\n",
    "    Returns:\n",
    "        Dictionary of outputs:\n",
    "            - `name`: Name of the run\n",
    "            - `group`: General policy of the run\n",
    "            - `walltime`: Walltime until the number of target molecules was found (hr)\n",
    "            - `cpu_time`: Amount of CPU node time used (node-hr)\n",
    "            - `gpu_time`: Amount of GPU time used (hr)\n",
    "    \"\"\"\n",
    "    \n",
    "    # Load in the run summary\n",
    "    sim_results = pd.read_csv(path / 'processed-results' / 'all-tasks.csv').query('task_type==\"simulation\"')\n",
    "    sim_results.sort_values('time_result_received', inplace=True)\n",
    "    \n",
    "    # Find the time when we find enough of the target molecules\n",
    "    sim_results['task_info'] = sim_results['task_info'].apply(eval)\n",
    "    sim_results['ip'] = sim_results['task_info'].map(lambda x: x.get('ip', {}).get('xtb-vacuum', None))\n",
    "    sim_results['num_found'] = (sim_results['ip'] > 14).cumsum()\n",
    "    assert max(sim_results['num_found']) >= n_target, f'Only found {sim_results[\"num_found\"].max()} for {path.name}'\n",
    "    solution_time = min(sim_results[sim_results['num_found'] >= n_target]['time_result_received'])\n",
    "                               \n",
    "    # Get the row corresponding to the time where we \"solved\" the problem\n",
    "    solution_row = sim_results.query(f'num_found == {n_target}').iloc[0]\n",
    "    \n",
    "    # Determine the walltime elapsed\n",
    "    elapsed = solution_row['walltime'] / 3600\n",
    "    \n",
    "    # Get the CPU time used (node-hrs)\n",
    "    # TODO (wardlt): Include tail-down in the costs\n",
    "    cpu_usage = solution_row['theta_usage']\n",
    "    \n",
    "    # Get the GPU time used (hrs)\n",
    "    gpu_usage = solution_row['lambda_usage']\n",
    "    \n",
    "    return {\n",
    "        'walltime': elapsed,\n",
    "        'cpu_time': cpu_usage,\n",
    "        'gpu_time': gpu_usage\n",
    "    }"
   ]
  },
  {
   "cell_type": "code",
   "execution_count": 4,
   "id": "f4440ba6-eee8-448c-b873-bedc979e2eeb",
   "metadata": {},
   "outputs": [],
   "source": [
    "def evaluate_policy(path: Path, n_target: int = 150) -> dict:\n",
    "    \"\"\"Measure the time elapsed and the time spent to achieve a solution to the problem over several runs\n",
    "    \n",
    "    Args:\n",
    "        path: Path to a run\n",
    "    Returns:\n",
    "        Dictionary of outputs:\n",
    "            - `name`: Name of the run\n",
    "            - `group`: General policy of the run\n",
    "            - `level`: Level of the tuning parameter for that policy\n",
    "            - `repeats`: Number of time the test was repeated\n",
    "            - `walltime`: Walltime until the number of target molecules was found (hr)\n",
    "            - `cpu_time`: Amount of CPU node time used (node-hr)\n",
    "            - `gpu_time`: Amount of GPU time used (hr)\n",
    "    \"\"\"\n",
    "    \n",
    "    # Get the duplicate runs\n",
    "    with (path / 'duplicates.json').open() as fp:\n",
    "        duplicates = json.load(fp)\n",
    "        \n",
    "    # Process them\n",
    "    results = []\n",
    "    for r in duplicates:\n",
    "        try:\n",
    "            results.append(measure_solution_cost(Path(r), n_target))\n",
    "        except Exception as e:\n",
    "            print(f'{path.name}: {e}')\n",
    "            continue\n",
    "                \n",
    "    \n",
    "    # Start with some basic run information\n",
    "    output = {\n",
    "        'name': path.name,\n",
    "        'group': path.name.split(\"-\")[0],\n",
    "        'level': int(path.name.split(\"-\")[1]) if '-' in path.name else None,\n",
    "        'repeats': len(results)\n",
    "     }\n",
    "    \n",
    "    # Add in the average of the per-run results\n",
    "    if len(results) > 0:\n",
    "        for k in results[0].keys():\n",
    "            output[k] = np.mean([r[k] for r in results])\n",
    "    return output"
   ]
  },
  {
   "cell_type": "markdown",
   "id": "85179567-1220-4f54-baa8-e2aa5afc3da1",
   "metadata": {},
   "source": [
    "Compute them for all of the runs"
   ]
  },
  {
   "cell_type": "code",
   "execution_count": 5,
   "id": "97ab2b13-6655-4793-9261-6054077c536f",
   "metadata": {},
   "outputs": [
    {
     "name": "stdout",
     "output_type": "stream",
     "text": [
      "interleaved-32: Only found 119 for xtb-N32-n1-644ff4-24May22-115130\n",
      "interleaved-32: Only found 103 for xtb-N32-n1-644ff4-25May22-104544\n",
      "interleaved-128: Only found 116 for xtb-N128-n1-7cdeee-23May22-155325\n",
      "interleaved-128: Only found 173 for xtb-N128-n1-7cdeee-23May22-184843\n",
      "interleaved-128: Only found 153 for xtb-N128-n1-7cdeee-23May22-225150\n"
     ]
    }
   ],
   "source": [
    "usage = pd.DataFrame(evaluate_policy(x, 175) for x in runs)"
   ]
  },
  {
   "cell_type": "code",
   "execution_count": 6,
   "id": "616d7cff-4199-48b7-b2e4-d0600d31b7ed",
   "metadata": {},
   "outputs": [
    {
     "data": {
      "text/html": [
       "<div>\n",
       "<style scoped>\n",
       "    .dataframe tbody tr th:only-of-type {\n",
       "        vertical-align: middle;\n",
       "    }\n",
       "\n",
       "    .dataframe tbody tr th {\n",
       "        vertical-align: top;\n",
       "    }\n",
       "\n",
       "    .dataframe thead th {\n",
       "        text-align: right;\n",
       "    }\n",
       "</style>\n",
       "<table border=\"1\" class=\"dataframe\">\n",
       "  <thead>\n",
       "    <tr style=\"text-align: right;\">\n",
       "      <th></th>\n",
       "      <th>name</th>\n",
       "      <th>group</th>\n",
       "      <th>level</th>\n",
       "      <th>repeats</th>\n",
       "      <th>walltime</th>\n",
       "      <th>cpu_time</th>\n",
       "      <th>gpu_time</th>\n",
       "    </tr>\n",
       "  </thead>\n",
       "  <tbody>\n",
       "    <tr>\n",
       "      <th>0</th>\n",
       "      <td>batch_retrain-32</td>\n",
       "      <td>batch_retrain</td>\n",
       "      <td>32.0</td>\n",
       "      <td>3</td>\n",
       "      <td>3.210223</td>\n",
       "      <td>7.522274</td>\n",
       "      <td>14.037621</td>\n",
       "    </tr>\n",
       "    <tr>\n",
       "      <th>7</th>\n",
       "      <td>batch_retrain-64</td>\n",
       "      <td>batch_retrain</td>\n",
       "      <td>64.0</td>\n",
       "      <td>1</td>\n",
       "      <td>2.494423</td>\n",
       "      <td>8.708751</td>\n",
       "      <td>8.254744</td>\n",
       "    </tr>\n",
       "    <tr>\n",
       "      <th>1</th>\n",
       "      <td>continuous</td>\n",
       "      <td>continuous</td>\n",
       "      <td>NaN</td>\n",
       "      <td>4</td>\n",
       "      <td>1.660128</td>\n",
       "      <td>11.026363</td>\n",
       "      <td>10.459307</td>\n",
       "    </tr>\n",
       "    <tr>\n",
       "      <th>2</th>\n",
       "      <td>delay_retrain-32</td>\n",
       "      <td>delay_retrain</td>\n",
       "      <td>32.0</td>\n",
       "      <td>3</td>\n",
       "      <td>1.606457</td>\n",
       "      <td>10.573283</td>\n",
       "      <td>7.551427</td>\n",
       "    </tr>\n",
       "    <tr>\n",
       "      <th>3</th>\n",
       "      <td>delay_retrain-64</td>\n",
       "      <td>delay_retrain</td>\n",
       "      <td>64.0</td>\n",
       "      <td>1</td>\n",
       "      <td>1.806172</td>\n",
       "      <td>11.252739</td>\n",
       "      <td>8.598245</td>\n",
       "    </tr>\n",
       "    <tr>\n",
       "      <th>4</th>\n",
       "      <td>interleaved-32</td>\n",
       "      <td>interleaved</td>\n",
       "      <td>32.0</td>\n",
       "      <td>2</td>\n",
       "      <td>2.660203</td>\n",
       "      <td>7.889268</td>\n",
       "      <td>13.896756</td>\n",
       "    </tr>\n",
       "    <tr>\n",
       "      <th>5</th>\n",
       "      <td>interleaved-64</td>\n",
       "      <td>interleaved</td>\n",
       "      <td>64.0</td>\n",
       "      <td>1</td>\n",
       "      <td>1.761851</td>\n",
       "      <td>11.151422</td>\n",
       "      <td>10.296768</td>\n",
       "    </tr>\n",
       "    <tr>\n",
       "      <th>6</th>\n",
       "      <td>interleaved-128</td>\n",
       "      <td>interleaved</td>\n",
       "      <td>128.0</td>\n",
       "      <td>0</td>\n",
       "      <td>NaN</td>\n",
       "      <td>NaN</td>\n",
       "      <td>NaN</td>\n",
       "    </tr>\n",
       "  </tbody>\n",
       "</table>\n",
       "</div>"
      ],
      "text/plain": [
       "               name          group  level  repeats  walltime   cpu_time  \\\n",
       "0  batch_retrain-32  batch_retrain   32.0        3  3.210223   7.522274   \n",
       "7  batch_retrain-64  batch_retrain   64.0        1  2.494423   8.708751   \n",
       "1        continuous     continuous    NaN        4  1.660128  11.026363   \n",
       "2  delay_retrain-32  delay_retrain   32.0        3  1.606457  10.573283   \n",
       "3  delay_retrain-64  delay_retrain   64.0        1  1.806172  11.252739   \n",
       "4    interleaved-32    interleaved   32.0        2  2.660203   7.889268   \n",
       "5    interleaved-64    interleaved   64.0        1  1.761851  11.151422   \n",
       "6   interleaved-128    interleaved  128.0        0       NaN        NaN   \n",
       "\n",
       "    gpu_time  \n",
       "0  14.037621  \n",
       "7   8.254744  \n",
       "1  10.459307  \n",
       "2   7.551427  \n",
       "3   8.598245  \n",
       "4  13.896756  \n",
       "5  10.296768  \n",
       "6        NaN  "
      ]
     },
     "execution_count": 6,
     "metadata": {},
     "output_type": "execute_result"
    }
   ],
   "source": [
    "usage.sort_values(['group', 'level'])"
   ]
  },
  {
   "cell_type": "markdown",
   "id": "6898441d-a682-495c-8d29-d4ae4864d351",
   "metadata": {},
   "source": [
    "Get the improvements over \"continuous\" in terms of each resource"
   ]
  },
  {
   "cell_type": "code",
   "execution_count": 7,
   "id": "16030a4b-1225-449b-a0f4-0c4a5334aaf4",
   "metadata": {},
   "outputs": [],
   "source": [
    "continuous = usage.query('name==\"continuous\"').iloc[0]"
   ]
  },
  {
   "cell_type": "code",
   "execution_count": 8,
   "id": "88a02183-17dd-4c8f-b89b-813197ee7c0c",
   "metadata": {},
   "outputs": [
    {
     "name": "stdout",
     "output_type": "stream",
     "text": [
      "Best GPU usage is 1.4x lower\n"
     ]
    }
   ],
   "source": [
    "best_gpu = usage.loc[usage['gpu_time'].argmin()]\n",
    "print(f'Best GPU usage is {continuous[\"gpu_time\"] / best_gpu[\"gpu_time\"]:.1f}x lower')"
   ]
  },
  {
   "cell_type": "code",
   "execution_count": 9,
   "id": "7c04e1a0-a59e-4758-88d2-27e9cd2479f2",
   "metadata": {},
   "outputs": [
    {
     "name": "stdout",
     "output_type": "stream",
     "text": [
      "Best CPU usage is 1.5x lower\n"
     ]
    }
   ],
   "source": [
    "best_cpu = usage.loc[usage['cpu_time'].argmin()]\n",
    "print(f'Best CPU usage is {continuous[\"cpu_time\"] / best_cpu[\"cpu_time\"]:.1f}x lower')"
   ]
  },
  {
   "cell_type": "markdown",
   "id": "19055d9b-5058-4824-8cb1-18c7a54ca742",
   "metadata": {},
   "source": [
    "See how much continuous is in terms of walltime"
   ]
  },
  {
   "cell_type": "code",
   "execution_count": 10,
   "id": "4334536f-99a5-491d-aefa-4cb94e94fb64",
   "metadata": {},
   "outputs": [
    {
     "name": "stdout",
     "output_type": "stream",
     "text": [
      "Slowest search is 1.9x longer\n"
     ]
    }
   ],
   "source": [
    "worst_time = usage.loc[usage['walltime'].argmax()]\n",
    "print(f'Slowest search is {worst_time[\"walltime\"] / continuous[\"walltime\"]:.1f}x longer')"
   ]
  },
  {
   "cell_type": "markdown",
   "id": "4e077106-88ed-4f1e-a190-9a3d0c59287c",
   "metadata": {},
   "source": [
    "## Create a Pareto plot\n",
    "We are interested in two different tradeoffs: CPU vs GPU time, and CPU time vs walltime elapsed"
   ]
  },
  {
   "cell_type": "code",
   "execution_count": 11,
   "id": "b4a7bdaf-7a6e-4ef9-8a51-9bfe73d2b798",
   "metadata": {},
   "outputs": [
    {
     "data": {
      "image/png": "[encoded data removed]",
      "text/plain": [
       "<Figure size 468x108 with 3 Axes>"
      ]
     },
     "metadata": {
      "needs_background": "light"
     },
     "output_type": "display_data"
    }
   ],
   "source": [
    "fig, axs = plt.subplots(1, 3, figsize=(6.5, 1.5), gridspec_kw={'width_ratios': [1, 1, 0.05]})\n",
    "\n",
    "# Define the style\n",
    "cmaps = {\n",
    "    'batch_retrain': 'Blues',\n",
    "    'interleaved': 'Reds',\n",
    "    'delay_retrain': 'Greens',\n",
    "}\n",
    "marker = {\n",
    "    'batch_retrain': 'v',\n",
    "    'interleaved': '^',\n",
    "    'delay_retrain': 's',\n",
    "}\n",
    "\n",
    "vmin_ = np.log2(usage['level'].min()) - 0.5\n",
    "vmax_ = np.log2(usage['level'].max()) + 0.1\n",
    "for gid, group in usage.query('group!=\"continuous\"').sort_values('level', ascending=False).groupby('group'):\n",
    "    group_name = gid.replace(\"_\", \" \").capitalize()\n",
    "    \n",
    "    # Define the style\n",
    "    kwargs = dict(c=np.log2(group['level']), label=group_name, vmin=vmin_, vmax=vmax_, edgecolor='k')\n",
    "    kwargs['cmap'] = cmaps[gid]\n",
    "    kwargs['marker'] = marker[gid]\n",
    "    \n",
    "    # Plot the difference metrics\n",
    "    axs[0].scatter(group['walltime'], group['cpu_time'], **kwargs)\n",
    "    axs[1].scatter(group['gpu_time'], group['cpu_time'], **kwargs)\n",
    "    \n",
    "# Remove tick labels from the second plot\n",
    "axs[1].set_yticklabels([])\n",
    "    \n",
    "# Make a colobar\n",
    "c = axs[0].scatter([], [], c=[], cmap='Greys', vmin=vmin_, vmax=vmax_)\n",
    "ticks = np.arange(int(vmin_), int(vmax_) + 1)\n",
    "cb = fig.colorbar(c, cax=axs[-1])\n",
    "cb.set_ticks(ticks)\n",
    "cb.set_ticklabels([str(i) for i in 2 ** ticks])\n",
    "axs[-1].set_ylabel('$N$')\n",
    "\n",
    "group = usage.query('group==\"continuous\"')\n",
    "axs[0].scatter(group['walltime'], group['cpu_time'], label='Continuous', color='k', marker='o')\n",
    "axs[1].scatter(group['gpu_time'], group['cpu_time'], label='Continuous', color='k', marker='o')\n",
    "    \n",
    "axs[0].legend(ncol=1, fontsize=7)\n",
    "axs[0].set_xlabel('Time to Solution (hr)')\n",
    "axs[0].set_ylabel('CPU Usage (hr)')\n",
    "axs[1].set_xlabel('GPU Usage (hr)')\n",
    "\n",
    "fig.tight_layout()\n",
    "fig.savefig('figures/policy-comparison_pareto-plot.png', dpi=320)\n",
    "fig.savefig('figures/policy-comparison_pareto-plot.pdf')"
   ]
  },
  {
   "cell_type": "markdown",
   "id": "84edd7b8-7dad-41f7-9e73-25775720e2fc",
   "metadata": {},
   "source": [
    "A bunch of things pop out:\n",
    "- You cannot get much better than continuous retraining in terms of time-to-solution. \n",
    "- Stopping simulations during model trainin is key if you're going to conserve CPU resources\n",
    "- Delaying retraining and continuing to run simulations is does save GPU resources, but not much else."
   ]
  },
  {
   "cell_type": "code",
   "execution_count": null,
   "id": "462dcd2b-8f52-4ca0-903b-0ef12a84841f",
   "metadata": {},
   "outputs": [],
   "source": []
  }
 ],
 "metadata": {
  "kernelspec": {
   "display_name": "Python 3 (ipykernel)",
   "language": "python",
   "name": "python3"
  },
  "language_info": {
   "codemirror_mode": {
    "name": "ipython",
    "version": 3
   },
   "file_extension": ".py",
   "mimetype": "text/x-python",
   "name": "python",
   "nbconvert_exporter": "python",
   "pygments_lexer": "ipython3",
   "version": "3.7.4"
  }
 },
 "nbformat": 4,
 "nbformat_minor": 5
}
