{
 "cells": [
  {
   "cell_type": "markdown",
   "id": "5f28e466-e170-48a2-8311-5faed78d9165",
   "metadata": {},
   "source": [
    "# Assess Latency\n",
    "Measure the different sources of latency using a single- and multi-site implementation of Colmena"
   ]
  },
  {
   "cell_type": "code",
   "execution_count": 1,
   "id": "db65c851-df0c-4e28-951d-7e0d72cc177e",
   "metadata": {},
   "outputs": [],
   "source": [
    "%matplotlib inline\n",
    "from matplotlib import pyplot as plt\n",
    "from datetime import datetime\n",
    "from pathlib import Path\n",
    "import pandas as pd\n",
    "import numpy as np\n",
    "import json\n",
    "import sys"
   ]
  },
  {
   "cell_type": "markdown",
   "id": "1058aa01-62d8-4878-88d0-9c37ad7c506e",
   "metadata": {},
   "source": [
    "Configuration\n"
   ]
  },
  {
   "cell_type": "code",
   "execution_count": 2,
   "id": "0750fa51-58b0-4ded-a4a2-b763e5336a6f",
   "metadata": {},
   "outputs": [],
   "source": [
    "funcx = Path('prod-runs/8KNL-8V100-continuous/')\n",
    "parsl_redis = Path('prod-runs/8KNL-8V100-continuous-parsl-redis/')"
   ]
  },
  {
   "cell_type": "markdown",
   "id": "029775ed-4edf-489a-84b0-de5ee44a1ddb",
   "metadata": {},
   "source": [
    "## Assess \"Reaction Time\" between Result Available and Processed\n",
    "We look at the time between when a result completes on the worker, it is received by the task server, and processed by the thinker"
   ]
  },
  {
   "cell_type": "code",
   "execution_count": 3,
   "id": "63c3a6c0-2a6c-4a86-b3d4-f38caa7be434",
   "metadata": {},
   "outputs": [],
   "source": [
    "def get_reaction_times(path: Path) -> pd.DataFrame:\n",
    "    \"\"\"Get the reaction times for a certain run\n",
    "    \n",
    "    Args:\n",
    "        path: Path to the run\n",
    "    Returns:\n",
    "        Many different analyses for each type of tasks. These include\n",
    "    \"\"\"\n",
    "    \n",
    "    # Load in all of the tasks\n",
    "    tasks = pd.read_csv(path / 'processed-results' / 'all-tasks.csv')\n",
    "    tasks['run'] = path.name\n",
    "    \n",
    "    # Load compute the total proxy resolution time for inputs\n",
    "    def _get_resolve_time(x):\n",
    "        x = eval(x)\n",
    "        return sum(x['resolve']['avg_time_ms'] * x['resolve']['calls'] for x in x.values()) / 1000\n",
    "    tasks['time_input_resolution'] = tasks['proxy_timing'].apply(_get_resolve_time)\n",
    "    \n",
    "    # Compute the time compute finished\n",
    "    tasks['time_compute_done'] = tasks['time_compute_started'] + tasks['time_deserialize_inputs'] + tasks['time_async_resolve_proxies'] + tasks['time_running']\n",
    "    \n",
    "    # Compute the difference between the completion time and when it was received by the thinker\n",
    "    tasks['latency_result_sending'] = tasks['time_result_received'] - tasks['time_compute_done']\n",
    "    \n",
    "    # Compute the time until the result was placed in the queue \n",
    "    tasks['latency_to_task_server'] = tasks['time_result_sent'] - tasks['time_compute_done']\n",
    "    \n",
    "    # How much of this time was communicating the result via FuncX/Parsl\n",
    "    tasks['latency_workflow'] = tasks['latency_result_sending'] - tasks['time_serialize_results']\n",
    "    \n",
    "    # Get the time waiting for the result to show up\n",
    "    def _get_resolve(x):\n",
    "        x = eval(x)\n",
    "        if 'proxy_stats' not in x:\n",
    "            return \n",
    "        return x['proxy_stats']['resolve']['avg_time_ms'] / 1000\n",
    "    tasks['latency_data'] = tasks['task_info'].apply(_get_resolve)\n",
    "    return tasks"
   ]
  },
  {
   "cell_type": "code",
   "execution_count": 4,
   "id": "b84b0212-8046-456b-abb3-6ba373aa4e9a",
   "metadata": {},
   "outputs": [],
   "source": [
    "with (funcx / 'duplicates.json').open() as fp:\n",
    "    funcx_tasks = pd.concat([get_reaction_times(Path(x)) for x in json.load(fp)], ignore_index=True)"
   ]
  },
  {
   "cell_type": "code",
   "execution_count": 5,
   "id": "bdaf94a6-2f97-463c-80b5-ff164a68f80c",
   "metadata": {},
   "outputs": [],
   "source": [
    "with (parsl_redis / 'duplicates.json').open() as fp:\n",
    "    parsl_tasks = pd.concat([get_reaction_times(Path(x)) for x in json.load(fp)], ignore_index=True)"
   ]
  },
  {
   "cell_type": "markdown",
   "id": "9734a224-f0cd-46d2-96d8-19be19dc0def",
   "metadata": {},
   "source": [
    "Compute the time between results completing and being received by the thinker. This measure conflates a few things: time to send notification and time the result is sitting in a processing backlog"
   ]
  },
  {
   "cell_type": "code",
   "execution_count": 6,
   "id": "2ed833e2-de99-4643-b305-f3a323c1c975",
   "metadata": {},
   "outputs": [
    {
     "data": {
      "image/png": "[encoded data removed]",
      "text/plain": [
       "<Figure size 252x162 with 1 Axes>"
      ]
     },
     "metadata": {
      "needs_background": "light"
     },
     "output_type": "display_data"
    }
   ],
   "source": [
    "fig, ax = plt.subplots(figsize=(3.5, 2.25), sharex=True)\n",
    "\n",
    "min_ = np.log10(max(funcx_tasks['latency_to_task_server'].min(), 1e-2))\n",
    "max_ = np.log10(funcx_tasks['latency_result_sending'].max())\n",
    "bins = np.logspace(min_ - 0.1, max_ + 0.1, 64)\n",
    "\n",
    "for task_type, group in funcx_tasks.groupby('task_type'):\n",
    "    ax.hist(group['latency_result_sending'] , bins=bins, label=task_type)\n",
    "\n",
    "ax.legend()\n",
    "ax.set_xscale('log')\n",
    "ax.set_ylabel('Frequency')\n",
    "ax.set_xlabel('Compute Done $\\\\rightarrow$ Thinker (s)')\n",
    "\n",
    "fig.tight_layout()"
   ]
  },
  {
   "cell_type": "code",
   "execution_count": 7,
   "id": "ddccddbf-c004-488f-bb14-b849ae75b57b",
   "metadata": {},
   "outputs": [
    {
     "data": {
      "text/html": [
       "<div>\n",
       "<style scoped>\n",
       "    .dataframe tbody tr th:only-of-type {\n",
       "        vertical-align: middle;\n",
       "    }\n",
       "\n",
       "    .dataframe tbody tr th {\n",
       "        vertical-align: top;\n",
       "    }\n",
       "\n",
       "    .dataframe thead th {\n",
       "        text-align: right;\n",
       "    }\n",
       "</style>\n",
       "<table border=\"1\" class=\"dataframe\">\n",
       "  <thead>\n",
       "    <tr style=\"text-align: right;\">\n",
       "      <th></th>\n",
       "      <th>count</th>\n",
       "      <th>mean</th>\n",
       "      <th>std</th>\n",
       "      <th>min</th>\n",
       "      <th>25%</th>\n",
       "      <th>50%</th>\n",
       "      <th>75%</th>\n",
       "      <th>95%</th>\n",
       "      <th>max</th>\n",
       "    </tr>\n",
       "    <tr>\n",
       "      <th>task_type</th>\n",
       "      <th></th>\n",
       "      <th></th>\n",
       "      <th></th>\n",
       "      <th></th>\n",
       "      <th></th>\n",
       "      <th></th>\n",
       "      <th></th>\n",
       "      <th></th>\n",
       "      <th></th>\n",
       "    </tr>\n",
       "  </thead>\n",
       "  <tbody>\n",
       "    <tr>\n",
       "      <th>inference</th>\n",
       "      <td>2460.0</td>\n",
       "      <td>1.921707</td>\n",
       "      <td>5.316985</td>\n",
       "      <td>0.071938</td>\n",
       "      <td>0.173368</td>\n",
       "      <td>0.677627</td>\n",
       "      <td>2.759865</td>\n",
       "      <td>4.286094</td>\n",
       "      <td>95.287084</td>\n",
       "    </tr>\n",
       "    <tr>\n",
       "      <th>simulation</th>\n",
       "      <td>1500.0</td>\n",
       "      <td>0.086137</td>\n",
       "      <td>0.920689</td>\n",
       "      <td>-0.029736</td>\n",
       "      <td>0.017826</td>\n",
       "      <td>0.038779</td>\n",
       "      <td>0.068015</td>\n",
       "      <td>0.134922</td>\n",
       "      <td>30.998672</td>\n",
       "    </tr>\n",
       "    <tr>\n",
       "      <th>training</th>\n",
       "      <td>181.0</td>\n",
       "      <td>0.538382</td>\n",
       "      <td>0.672236</td>\n",
       "      <td>-0.053026</td>\n",
       "      <td>0.243645</td>\n",
       "      <td>0.390378</td>\n",
       "      <td>0.546648</td>\n",
       "      <td>2.042788</td>\n",
       "      <td>4.701118</td>\n",
       "    </tr>\n",
       "  </tbody>\n",
       "</table>\n",
       "</div>"
      ],
      "text/plain": [
       "             count      mean       std       min       25%       50%  \\\n",
       "task_type                                                              \n",
       "inference   2460.0  1.921707  5.316985  0.071938  0.173368  0.677627   \n",
       "simulation  1500.0  0.086137  0.920689 -0.029736  0.017826  0.038779   \n",
       "training     181.0  0.538382  0.672236 -0.053026  0.243645  0.390378   \n",
       "\n",
       "                 75%       95%        max  \n",
       "task_type                                  \n",
       "inference   2.759865  4.286094  95.287084  \n",
       "simulation  0.068015  0.134922  30.998672  \n",
       "training    0.546648  2.042788   4.701118  "
      ]
     },
     "execution_count": 7,
     "metadata": {},
     "output_type": "execute_result"
    }
   ],
   "source": [
    "funcx_tasks.groupby('task_type')['latency_result_sending'].describe(percentiles=[0.25,0.50,0.75,0.95])"
   ]
  },
  {
   "cell_type": "markdown",
   "id": "53d05784-734d-4cb1-8516-95cd406cb73e",
   "metadata": {},
   "source": [
    "See the time between result completing and being acknolwedged by the task server, which removes any factor dealing with processing backlog on the thinker."
   ]
  },
  {
   "cell_type": "code",
   "execution_count": 8,
   "id": "a443a5ee-a224-4ae8-a615-f2e289fd7db1",
   "metadata": {},
   "outputs": [
    {
     "data": {
      "text/plain": [
       "Text(0.5, 0, 'Compute Done $\\\\rightarrow$ Thinker (s)')"
      ]
     },
     "execution_count": 8,
     "metadata": {},
     "output_type": "execute_result"
    },
    {
     "data": {
      "image/png": "[encoded data removed]",
      "text/plain": [
       "<Figure size 252x162 with 1 Axes>"
      ]
     },
     "metadata": {
      "needs_background": "light"
     },
     "output_type": "display_data"
    }
   ],
   "source": [
    "fig, ax = plt.subplots(figsize=(3.5, 2.25), sharex=True)\n",
    "\n",
    "min_ = np.log10(max(funcx_tasks['latency_workflow'].min(), 1e-2))\n",
    "max_ = np.log10(funcx_tasks['latency_result_sending'].max())\n",
    "bins = np.logspace(min_ - 0.1, max_ + 0.1, 64)\n",
    "\n",
    "for task_type, group in funcx_tasks.groupby('task_type'):\n",
    "    ax.hist(group['latency_to_task_server'] , bins=bins, label=task_type)\n",
    "\n",
    "ax.legend()\n",
    "ax.set_xscale('log')\n",
    "ax.set_ylabel('Frequency')\n",
    "ax.set_xlabel('Compute Done $\\\\rightarrow$ Thinker (s)')"
   ]
  },
  {
   "cell_type": "code",
   "execution_count": 9,
   "id": "29db8a95-ba0e-4253-9a83-11cde1b6b01b",
   "metadata": {},
   "outputs": [
    {
     "data": {
      "text/html": [
       "<div>\n",
       "<style scoped>\n",
       "    .dataframe tbody tr th:only-of-type {\n",
       "        vertical-align: middle;\n",
       "    }\n",
       "\n",
       "    .dataframe tbody tr th {\n",
       "        vertical-align: top;\n",
       "    }\n",
       "\n",
       "    .dataframe thead th {\n",
       "        text-align: right;\n",
       "    }\n",
       "</style>\n",
       "<table border=\"1\" class=\"dataframe\">\n",
       "  <thead>\n",
       "    <tr style=\"text-align: right;\">\n",
       "      <th></th>\n",
       "      <th>count</th>\n",
       "      <th>mean</th>\n",
       "      <th>std</th>\n",
       "      <th>min</th>\n",
       "      <th>25%</th>\n",
       "      <th>50%</th>\n",
       "      <th>75%</th>\n",
       "      <th>max</th>\n",
       "    </tr>\n",
       "    <tr>\n",
       "      <th>task_type</th>\n",
       "      <th></th>\n",
       "      <th></th>\n",
       "      <th></th>\n",
       "      <th></th>\n",
       "      <th></th>\n",
       "      <th></th>\n",
       "      <th></th>\n",
       "      <th></th>\n",
       "    </tr>\n",
       "  </thead>\n",
       "  <tbody>\n",
       "    <tr>\n",
       "      <th>inference</th>\n",
       "      <td>2460.0</td>\n",
       "      <td>0.239527</td>\n",
       "      <td>0.176549</td>\n",
       "      <td>0.068176</td>\n",
       "      <td>0.122012</td>\n",
       "      <td>0.149758</td>\n",
       "      <td>0.371141</td>\n",
       "      <td>3.151134</td>\n",
       "    </tr>\n",
       "    <tr>\n",
       "      <th>simulation</th>\n",
       "      <td>1500.0</td>\n",
       "      <td>0.080152</td>\n",
       "      <td>0.914712</td>\n",
       "      <td>-0.031114</td>\n",
       "      <td>0.016439</td>\n",
       "      <td>0.037105</td>\n",
       "      <td>0.065149</td>\n",
       "      <td>30.997886</td>\n",
       "    </tr>\n",
       "    <tr>\n",
       "      <th>training</th>\n",
       "      <td>181.0</td>\n",
       "      <td>0.369691</td>\n",
       "      <td>0.218994</td>\n",
       "      <td>-0.053857</td>\n",
       "      <td>0.239168</td>\n",
       "      <td>0.293468</td>\n",
       "      <td>0.518237</td>\n",
       "      <td>1.510511</td>\n",
       "    </tr>\n",
       "  </tbody>\n",
       "</table>\n",
       "</div>"
      ],
      "text/plain": [
       "             count      mean       std       min       25%       50%  \\\n",
       "task_type                                                              \n",
       "inference   2460.0  0.239527  0.176549  0.068176  0.122012  0.149758   \n",
       "simulation  1500.0  0.080152  0.914712 -0.031114  0.016439  0.037105   \n",
       "training     181.0  0.369691  0.218994 -0.053857  0.239168  0.293468   \n",
       "\n",
       "                 75%        max  \n",
       "task_type                        \n",
       "inference   0.371141   3.151134  \n",
       "simulation  0.065149  30.997886  \n",
       "training    0.518237   1.510511  "
      ]
     },
     "execution_count": 9,
     "metadata": {},
     "output_type": "execute_result"
    }
   ],
   "source": [
    "funcx_tasks.groupby('task_type')['latency_to_task_server'].describe()"
   ]
  },
  {
   "cell_type": "markdown",
   "id": "83b23854-2168-4023-939a-0987e43e0d81",
   "metadata": {},
   "source": [
    "See how much funcX has to do with it"
   ]
  },
  {
   "cell_type": "markdown",
   "id": "1012d4bd-85ce-45dd-b627-71ecbaed5ed0",
   "metadata": {},
   "source": [
    "See how long we're waiting for the data to transfer. Th"
   ]
  },
  {
   "cell_type": "code",
   "execution_count": 10,
   "id": "9e107419-fc07-4123-a53e-23ecad07ca70",
   "metadata": {},
   "outputs": [
    {
     "data": {
      "image/png": "[encoded data removed]",
      "text/plain": [
       "<Figure size 252x162 with 1 Axes>"
      ]
     },
     "metadata": {
      "needs_background": "light"
     },
     "output_type": "display_data"
    }
   ],
   "source": [
    "fig, ax = plt.subplots(figsize=(3.5, 2.25), sharex=True)\n",
    "\n",
    "min_ = np.log10(max(funcx_tasks['latency_data'].min(), 1e-2))\n",
    "max_ = np.log10(funcx_tasks['latency_data'].max())\n",
    "bins = np.logspace(min_ - 0.1, max_ + 0.1, 64)\n",
    "\n",
    "for task_type, group in funcx_tasks.groupby('task_type'):\n",
    "    ax.hist(group['latency_data'] , bins=bins, label=task_type)\n",
    "\n",
    "ax.legend()\n",
    "ax.set_xscale('log')\n",
    "ax.set_ylabel('Frequency')\n",
    "ax.set_xlabel('Compute Done $\\\\rightarrow$ Thinker (s)')\n",
    "\n",
    "\n",
    "fig.tight_layout()\n",
    "fig.savefig('figures/reaction-time-latency.png', dpi=320)\n",
    "fig.savefig('figures/reaction-time-latency.pdf')"
   ]
  },
  {
   "cell_type": "code",
   "execution_count": 11,
   "id": "fe443fac-3207-4a16-afc3-76df140e67fa",
   "metadata": {},
   "outputs": [
    {
     "data": {
      "text/html": [
       "<div>\n",
       "<style scoped>\n",
       "    .dataframe tbody tr th:only-of-type {\n",
       "        vertical-align: middle;\n",
       "    }\n",
       "\n",
       "    .dataframe tbody tr th {\n",
       "        vertical-align: top;\n",
       "    }\n",
       "\n",
       "    .dataframe thead th {\n",
       "        text-align: right;\n",
       "    }\n",
       "</style>\n",
       "<table border=\"1\" class=\"dataframe\">\n",
       "  <thead>\n",
       "    <tr style=\"text-align: right;\">\n",
       "      <th></th>\n",
       "      <th>count</th>\n",
       "      <th>mean</th>\n",
       "      <th>std</th>\n",
       "      <th>min</th>\n",
       "      <th>25%</th>\n",
       "      <th>50%</th>\n",
       "      <th>75%</th>\n",
       "      <th>max</th>\n",
       "    </tr>\n",
       "    <tr>\n",
       "      <th>task_type</th>\n",
       "      <th></th>\n",
       "      <th></th>\n",
       "      <th></th>\n",
       "      <th></th>\n",
       "      <th></th>\n",
       "      <th></th>\n",
       "      <th></th>\n",
       "      <th></th>\n",
       "    </tr>\n",
       "  </thead>\n",
       "  <tbody>\n",
       "    <tr>\n",
       "      <th>inference</th>\n",
       "      <td>768.0</td>\n",
       "      <td>2.726777</td>\n",
       "      <td>1.383215</td>\n",
       "      <td>0.203997</td>\n",
       "      <td>1.380551</td>\n",
       "      <td>3.392376</td>\n",
       "      <td>3.635236</td>\n",
       "      <td>7.617401</td>\n",
       "    </tr>\n",
       "    <tr>\n",
       "      <th>simulation</th>\n",
       "      <td>500.0</td>\n",
       "      <td>0.145743</td>\n",
       "      <td>0.634839</td>\n",
       "      <td>0.046018</td>\n",
       "      <td>0.095683</td>\n",
       "      <td>0.107667</td>\n",
       "      <td>0.122227</td>\n",
       "      <td>14.264698</td>\n",
       "    </tr>\n",
       "    <tr>\n",
       "      <th>training</th>\n",
       "      <td>55.0</td>\n",
       "      <td>3.666873</td>\n",
       "      <td>0.840574</td>\n",
       "      <td>0.265395</td>\n",
       "      <td>3.414128</td>\n",
       "      <td>3.651267</td>\n",
       "      <td>3.950404</td>\n",
       "      <td>5.601570</td>\n",
       "    </tr>\n",
       "  </tbody>\n",
       "</table>\n",
       "</div>"
      ],
      "text/plain": [
       "            count      mean       std       min       25%       50%       75%  \\\n",
       "task_type                                                                       \n",
       "inference   768.0  2.726777  1.383215  0.203997  1.380551  3.392376  3.635236   \n",
       "simulation  500.0  0.145743  0.634839  0.046018  0.095683  0.107667  0.122227   \n",
       "training     55.0  3.666873  0.840574  0.265395  3.414128  3.651267  3.950404   \n",
       "\n",
       "                  max  \n",
       "task_type              \n",
       "inference    7.617401  \n",
       "simulation  14.264698  \n",
       "training     5.601570  "
      ]
     },
     "execution_count": 11,
     "metadata": {},
     "output_type": "execute_result"
    }
   ],
   "source": [
    "funcx_tasks.groupby('task_type')['latency_data'].describe()"
   ]
  },
  {
   "cell_type": "markdown",
   "id": "af664968-95a2-46b8-a51f-ac0f58596e5b",
   "metadata": {},
   "source": [
    "Compile the two into a single figure"
   ]
  },
  {
   "cell_type": "code",
   "execution_count": 12,
   "id": "ec177eab-b7b7-45ac-b4ab-03ff7c737ee8",
   "metadata": {},
   "outputs": [
    {
     "data": {
      "text/html": [
       "<div>\n",
       "<style scoped>\n",
       "    .dataframe tbody tr th:only-of-type {\n",
       "        vertical-align: middle;\n",
       "    }\n",
       "\n",
       "    .dataframe tbody tr th {\n",
       "        vertical-align: top;\n",
       "    }\n",
       "\n",
       "    .dataframe thead th {\n",
       "        text-align: right;\n",
       "    }\n",
       "</style>\n",
       "<table border=\"1\" class=\"dataframe\">\n",
       "  <thead>\n",
       "    <tr style=\"text-align: right;\">\n",
       "      <th></th>\n",
       "      <th>count</th>\n",
       "      <th>mean</th>\n",
       "      <th>std</th>\n",
       "      <th>min</th>\n",
       "      <th>25%</th>\n",
       "      <th>50%</th>\n",
       "      <th>75%</th>\n",
       "      <th>max</th>\n",
       "    </tr>\n",
       "    <tr>\n",
       "      <th>task_type</th>\n",
       "      <th></th>\n",
       "      <th></th>\n",
       "      <th></th>\n",
       "      <th></th>\n",
       "      <th></th>\n",
       "      <th></th>\n",
       "      <th></th>\n",
       "      <th></th>\n",
       "    </tr>\n",
       "  </thead>\n",
       "  <tbody>\n",
       "    <tr>\n",
       "      <th>inference</th>\n",
       "      <td>2460.0</td>\n",
       "      <td>0.271509</td>\n",
       "      <td>0.169824</td>\n",
       "      <td>0.122864</td>\n",
       "      <td>0.160470</td>\n",
       "      <td>0.180977</td>\n",
       "      <td>0.407668</td>\n",
       "      <td>3.188594</td>\n",
       "    </tr>\n",
       "    <tr>\n",
       "      <th>simulation</th>\n",
       "      <td>1500.0</td>\n",
       "      <td>0.109013</td>\n",
       "      <td>0.914071</td>\n",
       "      <td>0.026319</td>\n",
       "      <td>0.053282</td>\n",
       "      <td>0.068217</td>\n",
       "      <td>0.093697</td>\n",
       "      <td>31.048142</td>\n",
       "    </tr>\n",
       "    <tr>\n",
       "      <th>training</th>\n",
       "      <td>181.0</td>\n",
       "      <td>0.405188</td>\n",
       "      <td>0.219639</td>\n",
       "      <td>0.000008</td>\n",
       "      <td>0.271643</td>\n",
       "      <td>0.319520</td>\n",
       "      <td>0.549466</td>\n",
       "      <td>1.534025</td>\n",
       "    </tr>\n",
       "  </tbody>\n",
       "</table>\n",
       "</div>"
      ],
      "text/plain": [
       "             count      mean       std       min       25%       50%  \\\n",
       "task_type                                                              \n",
       "inference   2460.0  0.271509  0.169824  0.122864  0.160470  0.180977   \n",
       "simulation  1500.0  0.109013  0.914071  0.026319  0.053282  0.068217   \n",
       "training     181.0  0.405188  0.219639  0.000008  0.271643  0.319520   \n",
       "\n",
       "                 75%        max  \n",
       "task_type                        \n",
       "inference   0.407668   3.188594  \n",
       "simulation  0.093697  31.048142  \n",
       "training    0.549466   1.534025  "
      ]
     },
     "execution_count": 12,
     "metadata": {},
     "output_type": "execute_result"
    }
   ],
   "source": [
    "funcx_tasks.groupby('task_type')['time_serialize_results'].describe()"
   ]
  },
  {
   "cell_type": "code",
   "execution_count": null,
   "id": "91733ccd-4825-485e-8259-828f65cbe1f1",
   "metadata": {},
   "outputs": [],
   "source": [
    "fig, axs = plt.subplots(2, 1, figsize=(3.5, 2.75), sharex=True, sharey=False)\n",
    "\n",
    "# Get the bins for the histogram\n",
    "min_ = -2.5\n",
    "max_ = np.log10(funcx_tasks['latency_data'].max())\n",
    "bins = np.logspace(min_ - 0.1, max_ + 0.1, 64)\n",
    "\n",
    "# Plot the data\n",
    "for task_type, group in funcx_tasks.groupby('task_type'):\n",
    "    axs[0].hist(group['latency_to_task_server'], bins=bins, label=task_type, edgecolor='k')\n",
    "    axs[1].hist(group['latency_data'], bins=bins, label=task_type, edgecolor='k')\n",
    "\n",
    "# Label the axes\n",
    "for ax in axs:\n",
    "    ax.set_xscale('log')\n",
    "    ax.set_ylabel('Frequency')\n",
    "axs[1].set_xlabel('Latency (s)')\n",
    "\n",
    "# Label the plots\n",
    "axs[0].set_title('Notification', loc='left', fontsize=9)\n",
    "axs[1].set_title('Access', loc='left', fontsize=9)\n",
    "\n",
    "axs[1].legend(fontsize=7)\n",
    "\n",
    "fig.tight_layout()\n",
    "fig.savefig('figures/latency-analysis_reaction-time.png', dpi=320)\n",
    "fig.savefig('figures/latency-analysis_reaction-time.pdf')"
   ]
  },
  {
   "cell_type": "markdown",
   "id": "9f85b734-c690-4f53-a817-0bb03772b791",
   "metadata": {},
   "source": [
    "We see latencies never above 10s for either of the types of latency."
   ]
  },
  {
   "cell_type": "markdown",
   "id": "57cc7e77-b146-4141-bb02-d2fa842f110e",
   "metadata": {},
   "source": [
    "Repeat the analysis with Parsl"
   ]
  },
  {
   "cell_type": "code",
   "execution_count": null,
   "id": "528538a6-3541-45fd-af8e-d96707df493f",
   "metadata": {},
   "outputs": [],
   "source": [
    "fig, axs = plt.subplots(2, 1, figsize=(3.5, 2.75), sharex=True, sharey=False)\n",
    "\n",
    "# Get the bins for the histogram\n",
    "min_ = -3.5\n",
    "max_ = np.log10(parsl_tasks['latency_data'].max())\n",
    "bins = np.logspace(min_ - 0.1, max_ + 0.1, 64)\n",
    "\n",
    "# Plot the data\n",
    "for task_type, group in parsl_tasks.groupby('task_type'):\n",
    "    axs[0].hist(group['latency_to_task_server'], bins=bins, label=task_type, edgecolor='k')\n",
    "    axs[1].hist(group['latency_data'], bins=bins, label=task_type, edgecolor='k')\n",
    "\n",
    "# Label the axes\n",
    "for ax in axs:\n",
    "    ax.set_xscale('log')\n",
    "    ax.set_ylabel('Frequency')\n",
    "axs[1].set_xlabel('Latency (s)')\n",
    "\n",
    "# Label the plots\n",
    "axs[0].set_title('Notification', loc='left', fontsize=9)\n",
    "axs[1].set_title('Access', loc='left', fontsize=9)\n",
    "\n",
    "axs[1].legend(fontsize=7)\n",
    "\n",
    "fig.tight_layout()\n",
    "fig.savefig('figures/latency-analysis_reaction-time-parsl.png', dpi=320)\n",
    "fig.savefig('figures/latency-analysis_reaction-time-parsl.pdf')"
   ]
  },
  {
   "cell_type": "code",
   "execution_count": null,
   "id": "e574e01f-1b8e-4ed5-950e-9f492fe3a443",
   "metadata": {},
   "outputs": [],
   "source": [
    "parsl_tasks.groupby('task_type')['latency_data'].describe()"
   ]
  },
  {
   "cell_type": "code",
   "execution_count": null,
   "id": "e6344c9e-c67e-42ed-931e-f823e21aaf7d",
   "metadata": {},
   "outputs": [],
   "source": [
    "parsl_tasks.groupby('task_type')['latency_to_task_server'].describe()"
   ]
  },
  {
   "cell_type": "markdown",
   "id": "9f2fd81a-77ee-4ddb-85c0-1eeeb706f8fb",
   "metadata": {},
   "source": [
    "Parsl with Redis is _much_ better for the resolution times. Not that we should be too surprised."
   ]
  },
  {
   "cell_type": "markdown",
   "id": "09402b9e-dbb4-423a-97b2-0b25ad5c716c",
   "metadata": {
    "tags": []
   },
   "source": [
    "## Measure Time to Decisions\n",
    "We have a few steps where the Thinker must quickly decide the next task.\n",
    "\n",
    "### Simulation Deployment\n",
    "We are going to measure the time in the log file between when a simulation finishes and the next is received by the task server.latency_result_sending"
   ]
  },
  {
   "cell_type": "code",
   "execution_count": null,
   "id": "6b28e525-1d8a-4ebe-9537-a2087165e6f1",
   "metadata": {},
   "outputs": [],
   "source": [
    "def get_simulation_decision_times(path: Path) -> pd.DataFrame:\n",
    "    \"\"\"Compute the time between when a simulation is received\n",
    "    and the next one sent off\n",
    "    \n",
    "    Args:\n",
    "        path: Path to run directory\n",
    "    Returns:\n",
    "        Dataframe with a 'to_task_server' and 'to_funcx' column\n",
    "    \"\"\"\n",
    "\n",
    "    # Get the times\n",
    "    receive_times = []\n",
    "    to_task = []\n",
    "    to_funcx = []\n",
    "    with open(path / 'runtime.log') as fp:\n",
    "        for x in fp:\n",
    "            if 'Client received a run_simulation' in x: \n",
    "                receive_times.append(datetime.strptime(x.split(\" - \")[0], \"%Y-%m-%d %H:%M:%S,%f\").timestamp())\n",
    "            elif 'Client sent a run_simulation ' in x:\n",
    "                to_task.append(datetime.strptime(x.split(\" - \")[0], \"%Y-%m-%d %H:%M:%S,%f\").timestamp())\n",
    "            elif 'Submitted run_simulation to run on ' in x:\n",
    "                to_funcx.append(datetime.strptime(x.split(\" - \")[0], \"%Y-%m-%d %H:%M:%S,%f\").timestamp())\n",
    "    \n",
    "    # Compute the reaction times\n",
    "    to_task = np.array(to_task)\n",
    "    to_funcx = np.array(to_funcx)\n",
    "    decision_times = [\n",
    "        np.min(to_task[to_task > x] - x) for x in receive_times\n",
    "    ]\n",
    "    funcx_times = [\n",
    "        np.min(to_funcx[to_funcx > x] - x) for x in receive_times\n",
    "    ]\n",
    "    \n",
    "    return pd.DataFrame({\n",
    "        'to_decision': decision_times,\n",
    "        'to_funcx': funcx_times\n",
    "    })\n",
    "funcx_sim_decision = get_simulation_decision_times(funcx)"
   ]
  },
  {
   "cell_type": "code",
   "execution_count": null,
   "id": "d28de1a0-ce17-47af-acd4-047b7f90375a",
   "metadata": {},
   "outputs": [],
   "source": [
    "funcx_sim_decision.describe([0.25, 0.50, 0.95])"
   ]
  },
  {
   "cell_type": "markdown",
   "id": "e320e447-1c63-44bf-8428-7d2b0c8f087d",
   "metadata": {},
   "source": [
    "### Training Response\n",
    "How long between trained model and the first evaluate_mpnn submitted."
   ]
  },
  {
   "cell_type": "code",
   "execution_count": null,
   "id": "ea58df3d-72bc-43bc-bb6f-7e9355db72a9",
   "metadata": {},
   "outputs": [],
   "source": [
    "def get_training_decision_times(path: Path) -> pd.DataFrame:\n",
    "    \"\"\"Compute the time between when a simulation is received\n",
    "    and the next one sent off\n",
    "    \n",
    "    Args:\n",
    "        path: Path to run directory\n",
    "    Returns:\n",
    "        Dataframe with a 'to_task_server' and 'to_funcx' column\n",
    "    \"\"\"\n",
    "\n",
    "    # Get the times\n",
    "    receive_times = []\n",
    "    done_times = []\n",
    "    to_process = []\n",
    "    to_task = []\n",
    "    to_funcx = []\n",
    "    with open(path / 'runtime.log') as fp:\n",
    "        for x in fp:\n",
    "            if 'Client received a retrain_mpnn' in x: \n",
    "                receive_times.append(datetime.strptime(x.split(\" - \")[0], \"%Y-%m-%d %H:%M:%S,%f\").timestamp())\n",
    "            elif 'left to go' in x: \n",
    "                to_process.append(datetime.strptime(x.split(\" - \")[0], \"%Y-%m-%d %H:%M:%S,%f\").timestamp())\n",
    "            elif 'Client sent a evaluate_mpnn ' in x:\n",
    "                to_task.append(datetime.strptime(x.split(\" - \")[0], \"%Y-%m-%d %H:%M:%S,%f\").timestamp())\n",
    "            elif 'Submitted evaluate_mpnn to run on ' in x:\n",
    "                to_funcx.append(datetime.strptime(x.split(\" - \")[0], \"%Y-%m-%d %H:%M:%S,%f\").timestamp())\n",
    "    \n",
    "    # Compute the reaction times\n",
    "    to_task = np.array(to_task)\n",
    "    to_funcx = np.array(to_funcx)\n",
    "    to_process = np.array(to_process)\n",
    "    resolve_times = [\n",
    "        np.min(to_process[to_process > x] - x) for x in receive_times\n",
    "    ]\n",
    "    decision_times = [\n",
    "        np.min(to_task[to_task > x] - x) for x in receive_times\n",
    "    ]\n",
    "    funcx_times = [\n",
    "        np.min(to_funcx[to_funcx > x] - x) for x in receive_times\n",
    "    ]\n",
    "    \n",
    "    return pd.DataFrame({\n",
    "        'to_resolve': resolve_times,\n",
    "        'to_inference': decision_times,\n",
    "        'to_funcx': funcx_times\n",
    "    })\n",
    "funcx_train_decision = get_training_decision_times(funcx)"
   ]
  },
  {
   "cell_type": "code",
   "execution_count": null,
   "id": "c240405d-2bc3-4612-9f3f-932108dabef2",
   "metadata": {},
   "outputs": [],
   "source": [
    "funcx_train_decision.describe([0.25, 0.50, 0.95])"
   ]
  },
  {
   "cell_type": "markdown",
   "id": "e9ac23db-696f-4b12-833d-724e65f28bc9",
   "metadata": {},
   "source": [
    "### Inference Decision\n",
    "Measure the time between when we get the last inference result and finish processing it"
   ]
  },
  {
   "cell_type": "code",
   "execution_count": 21,
   "id": "6ca1b7c2-19ac-4cd5-8b78-58fec97fea74",
   "metadata": {},
   "outputs": [],
   "source": [
    "def get_inference_decision_times(path: Path) -> pd.DataFrame:\n",
    "    \"\"\"Compute the time between when a simulation is received\n",
    "    and the next one sent off\n",
    "    \n",
    "    Args:\n",
    "        path: Path to run directory\n",
    "    Returns:\n",
    "        Dataframe with a 'to_task_server' and 'to_funcx' column\n",
    "    \"\"\"\n",
    "\n",
    "    # Get the times\n",
    "    receive_times = []\n",
    "    process_times = []\n",
    "    to_task = []\n",
    "    with open(path / 'runtime.log') as fp:\n",
    "        for x in fp:\n",
    "            if 'Received inference task 96/96' in x: \n",
    "                receive_times.append(datetime.strptime(x.split(\" - \")[0], \"%Y-%m-%d %H:%M:%S,%f\").timestamp())\n",
    "            elif 'Processed inference task 96/96' in x:\n",
    "                process_times.append(datetime.strptime(x.split(\" - \")[0], \"%Y-%m-%d %H:%M:%S,%f\").timestamp())\n",
    "            elif 'Updated task list' in x:\n",
    "                to_task.append(datetime.strptime(x.split(\" - \")[0], \"%Y-%m-%d %H:%M:%S,%f\").timestamp())\n",
    "    # Compute the reaction times\n",
    "    to_task = np.array(to_task)\n",
    "    decision_times = np.subtract(to_task, process_times)\n",
    "    process_times = np.subtract(process_times, receive_times)\n",
    "    \n",
    "    return pd.DataFrame({\n",
    "        'to_process': process_times,\n",
    "        'to_update': decision_times,\n",
    "        'total': process_times + decision_times\n",
    "    })\n",
    "with (funcx / 'duplicates.json').open() as fp:\n",
    "    funcx_inf_decision = pd.concat([get_inference_decision_times(Path(x)) for x in json.load(fp)], ignore_index=True)"
   ]
  },
  {
   "cell_type": "code",
   "execution_count": 22,
   "id": "3e9e59d1-cacf-4637-9c33-af504359bf61",
   "metadata": {},
   "outputs": [
    {
     "data": {
      "text/html": [
       "<div>\n",
       "<style scoped>\n",
       "    .dataframe tbody tr th:only-of-type {\n",
       "        vertical-align: middle;\n",
       "    }\n",
       "\n",
       "    .dataframe tbody tr th {\n",
       "        vertical-align: top;\n",
       "    }\n",
       "\n",
       "    .dataframe thead th {\n",
       "        text-align: right;\n",
       "    }\n",
       "</style>\n",
       "<table border=\"1\" class=\"dataframe\">\n",
       "  <thead>\n",
       "    <tr style=\"text-align: right;\">\n",
       "      <th></th>\n",
       "      <th>to_process</th>\n",
       "      <th>to_update</th>\n",
       "      <th>total</th>\n",
       "    </tr>\n",
       "  </thead>\n",
       "  <tbody>\n",
       "    <tr>\n",
       "      <th>count</th>\n",
       "      <td>25.000000</td>\n",
       "      <td>25.000000</td>\n",
       "      <td>25.000000</td>\n",
       "    </tr>\n",
       "    <tr>\n",
       "      <th>mean</th>\n",
       "      <td>2.990320</td>\n",
       "      <td>0.972760</td>\n",
       "      <td>3.963080</td>\n",
       "    </tr>\n",
       "    <tr>\n",
       "      <th>std</th>\n",
       "      <td>1.359422</td>\n",
       "      <td>0.073181</td>\n",
       "      <td>1.362772</td>\n",
       "    </tr>\n",
       "    <tr>\n",
       "      <th>min</th>\n",
       "      <td>0.240000</td>\n",
       "      <td>0.898000</td>\n",
       "      <td>1.174000</td>\n",
       "    </tr>\n",
       "    <tr>\n",
       "      <th>25%</th>\n",
       "      <td>2.373000</td>\n",
       "      <td>0.918000</td>\n",
       "      <td>3.344000</td>\n",
       "    </tr>\n",
       "    <tr>\n",
       "      <th>50%</th>\n",
       "      <td>3.448000</td>\n",
       "      <td>0.945000</td>\n",
       "      <td>4.468000</td>\n",
       "    </tr>\n",
       "    <tr>\n",
       "      <th>95%</th>\n",
       "      <td>4.477200</td>\n",
       "      <td>1.095200</td>\n",
       "      <td>5.481400</td>\n",
       "    </tr>\n",
       "    <tr>\n",
       "      <th>max</th>\n",
       "      <td>4.727000</td>\n",
       "      <td>1.213000</td>\n",
       "      <td>5.664000</td>\n",
       "    </tr>\n",
       "  </tbody>\n",
       "</table>\n",
       "</div>"
      ],
      "text/plain": [
       "       to_process  to_update      total\n",
       "count   25.000000  25.000000  25.000000\n",
       "mean     2.990320   0.972760   3.963080\n",
       "std      1.359422   0.073181   1.362772\n",
       "min      0.240000   0.898000   1.174000\n",
       "25%      2.373000   0.918000   3.344000\n",
       "50%      3.448000   0.945000   4.468000\n",
       "95%      4.477200   1.095200   5.481400\n",
       "max      4.727000   1.213000   5.664000"
      ]
     },
     "execution_count": 22,
     "metadata": {},
     "output_type": "execute_result"
    }
   ],
   "source": [
    "funcx_inf_decision.describe([0.25, 0.50, 0.95])"
   ]
  },
  {
   "cell_type": "markdown",
   "id": "2e678e47-69e6-4c37-8e17-b79686682f18",
   "metadata": {},
   "source": [
    "## Dispatch Time\n",
    "The final source of latency is the time it takes to dispatch compute onto a waiting worker"
   ]
  },
  {
   "cell_type": "markdown",
   "id": "fae8f61c-5110-4c77-8e71-f17781a366b4",
   "metadata": {},
   "source": [
    "### Training Tasks\n",
    "Determine the time it takes for FuncX workers to start the training process. We know the nodes are empty at this point, so this latency is form of underutilization."
   ]
  },
  {
   "cell_type": "code",
   "execution_count": 23,
   "id": "87365789-dc06-4c48-a8a8-e2db682796a9",
   "metadata": {},
   "outputs": [],
   "source": [
    "def assess_training_startup(tasks: pd.DataFrame) -> pd.DataFrame:\n",
    "    \"\"\"Assess the latencies in starting up a model training\n",
    "    \n",
    "    Args:\n",
    "        tasks: List of tasks to be assessed\n",
    "    Returns:\n",
    "        Associated latencies\n",
    "    \"\"\"\n",
    "    \n",
    "    train_tasks = tasks.query('task_type==\"training\"').copy()\n",
    "    \n",
    "    # Compute the time a process is blocking while waiting for a proxy to resolve\n",
    "    def get_proxy_resolve_time(x):\n",
    "        \"\"\"Get \"\"\"\n",
    "        data = eval(x)\n",
    "        return sum([\n",
    "            i['resolve']['calls'] * i['resolve']['avg_time_ms'] / 1000 for i in data.values()\n",
    "        ])\n",
    "    train_tasks['time_resolve'] = train_tasks['proxy_timing'].map(get_proxy_resolve_time)\n",
    "    train_tasks['total_serialization'] = (train_tasks.time_deserialize_inputs + train_tasks.time_serialize_inputs \n",
    "                                          + train_tasks.time_async_resolve_proxies)\n",
    "    train_tasks['funcx_communication'] = train_tasks['time_compute_started'] - train_tasks['time_input_received']\n",
    "    train_tasks['total_latency'] = (train_tasks['time_compute_started']  - train_tasks['time_created'] + train_tasks['time_resolve'])\n",
    "    \n",
    "    return train_tasks[['total_serialization', 'time_resolve', 'funcx_communication', 'total_latency', 'time_running']]\n",
    "funcx_train_startup = assess_training_startup(funcx_tasks)"
   ]
  },
  {
   "cell_type": "code",
   "execution_count": 24,
   "id": "93634680-8739-4ab7-9714-999b7a918dde",
   "metadata": {},
   "outputs": [
    {
     "data": {
      "text/html": [
       "<div>\n",
       "<style scoped>\n",
       "    .dataframe tbody tr th:only-of-type {\n",
       "        vertical-align: middle;\n",
       "    }\n",
       "\n",
       "    .dataframe tbody tr th {\n",
       "        vertical-align: top;\n",
       "    }\n",
       "\n",
       "    .dataframe thead th {\n",
       "        text-align: right;\n",
       "    }\n",
       "</style>\n",
       "<table border=\"1\" class=\"dataframe\">\n",
       "  <thead>\n",
       "    <tr style=\"text-align: right;\">\n",
       "      <th></th>\n",
       "      <th>total_serialization</th>\n",
       "      <th>time_resolve</th>\n",
       "      <th>funcx_communication</th>\n",
       "      <th>total_latency</th>\n",
       "      <th>time_running</th>\n",
       "    </tr>\n",
       "  </thead>\n",
       "  <tbody>\n",
       "    <tr>\n",
       "      <th>count</th>\n",
       "      <td>181.000000</td>\n",
       "      <td>181.000000</td>\n",
       "      <td>181.000000</td>\n",
       "      <td>181.000000</td>\n",
       "      <td>181.000000</td>\n",
       "    </tr>\n",
       "    <tr>\n",
       "      <th>mean</th>\n",
       "      <td>0.176190</td>\n",
       "      <td>9.048219</td>\n",
       "      <td>1.329639</td>\n",
       "      <td>10.830834</td>\n",
       "      <td>363.473154</td>\n",
       "    </tr>\n",
       "    <tr>\n",
       "      <th>std</th>\n",
       "      <td>0.065515</td>\n",
       "      <td>5.217912</td>\n",
       "      <td>3.146360</td>\n",
       "      <td>4.726309</td>\n",
       "      <td>112.261424</td>\n",
       "    </tr>\n",
       "    <tr>\n",
       "      <th>min</th>\n",
       "      <td>0.117758</td>\n",
       "      <td>0.000011</td>\n",
       "      <td>0.277888</td>\n",
       "      <td>3.619219</td>\n",
       "      <td>26.438116</td>\n",
       "    </tr>\n",
       "    <tr>\n",
       "      <th>25%</th>\n",
       "      <td>0.149435</td>\n",
       "      <td>5.138523</td>\n",
       "      <td>0.304361</td>\n",
       "      <td>6.318944</td>\n",
       "      <td>299.638613</td>\n",
       "    </tr>\n",
       "    <tr>\n",
       "      <th>50%</th>\n",
       "      <td>0.163751</td>\n",
       "      <td>8.688819</td>\n",
       "      <td>0.327231</td>\n",
       "      <td>10.587398</td>\n",
       "      <td>370.891441</td>\n",
       "    </tr>\n",
       "    <tr>\n",
       "      <th>75%</th>\n",
       "      <td>0.179048</td>\n",
       "      <td>13.159922</td>\n",
       "      <td>0.362847</td>\n",
       "      <td>14.721599</td>\n",
       "      <td>433.144257</td>\n",
       "    </tr>\n",
       "    <tr>\n",
       "      <th>max</th>\n",
       "      <td>0.567132</td>\n",
       "      <td>23.175323</td>\n",
       "      <td>16.890086</td>\n",
       "      <td>23.914046</td>\n",
       "      <td>630.256901</td>\n",
       "    </tr>\n",
       "  </tbody>\n",
       "</table>\n",
       "</div>"
      ],
      "text/plain": [
       "       total_serialization  time_resolve  funcx_communication  total_latency  \\\n",
       "count           181.000000    181.000000           181.000000     181.000000   \n",
       "mean              0.176190      9.048219             1.329639      10.830834   \n",
       "std               0.065515      5.217912             3.146360       4.726309   \n",
       "min               0.117758      0.000011             0.277888       3.619219   \n",
       "25%               0.149435      5.138523             0.304361       6.318944   \n",
       "50%               0.163751      8.688819             0.327231      10.587398   \n",
       "75%               0.179048     13.159922             0.362847      14.721599   \n",
       "max               0.567132     23.175323            16.890086      23.914046   \n",
       "\n",
       "       time_running  \n",
       "count    181.000000  \n",
       "mean     363.473154  \n",
       "std      112.261424  \n",
       "min       26.438116  \n",
       "25%      299.638613  \n",
       "50%      370.891441  \n",
       "75%      433.144257  \n",
       "max      630.256901  "
      ]
     },
     "execution_count": 24,
     "metadata": {},
     "output_type": "execute_result"
    }
   ],
   "source": [
    "funcx_train_startup.describe()"
   ]
  },
  {
   "cell_type": "markdown",
   "id": "e8ba40ba-0eaf-48ba-898c-10c35abea208",
   "metadata": {},
   "source": [
    "### Inference Tasks\n",
    "When the first model finishes training, there is under utilization between when the model finishes training and the results are sent"
   ]
  },
  {
   "cell_type": "code",
   "execution_count": 25,
   "id": "4ee15a14-8909-4f2f-b3a6-5630a130f347",
   "metadata": {},
   "outputs": [],
   "source": [
    "def assess_inference_initilization(tasks: pd.DataFrame, tasks_per_batch: int = 96) -> pd.DataFrame:\n",
    "    \"\"\"Assess the latencies in starting up a model training\n",
    "    \n",
    "    Args:\n",
    "        tasks: List of tasks to be assessed\n",
    "        tasks_per_batch: Number of tasks per inference batch\n",
    "    Returns:\n",
    "        Associated latencies\n",
    "    \"\"\"\n",
    "    \n",
    "    # Get the inference tasks\n",
    "    inf_tasks = tasks.query('task_type==\"inference\"').copy()\n",
    "    inf_tasks.sort_values('time_created', inplace=True)\n",
    "    \n",
    "    # Assign them a batch ID\n",
    "    inf_tasks['batch_id'] = None\n",
    "    for gid, group in inf_tasks.groupby('run'):\n",
    "        n_batches = len(group) // tasks_per_batch + 1\n",
    "        batch_id = np.repeat(range(n_batches), tasks_per_batch)\n",
    "        inf_tasks.loc[group.index, 'batch_id'] = batch_id[:len(group)]\n",
    "    \n",
    "    # Remove the first batch\n",
    "    #inf_tasks.query('batch_id > 0', inplace=True)\n",
    "    \n",
    "    # Get the first one to start for each batch\n",
    "    inf_tasks.sort_values('time_compute_started', inplace=True, ascending=True)\n",
    "    inf_tasks.drop_duplicates(['run', 'batch_id'], inplace=True, keep='first')\n",
    "    inf_tasks['total_serialization'] = inf_tasks.time_deserialize_inputs + inf_tasks.time_serialize_inputs + inf_tasks.time_async_resolve_proxies\n",
    "    inf_tasks['funcx_communication'] = inf_tasks['time_compute_started'] - inf_tasks['time_created']\n",
    "    inf_tasks['total_startup'] = inf_tasks['funcx_communication'] + inf_tasks['time_input_resolution']\n",
    "    \n",
    "    return inf_tasks[['batch_id', 'total_serialization', 'funcx_communication', 'time_input_resolution',\n",
    "                      'total_startup', 'time_running', 'proxy_timing']]\n",
    "funcx_inf_startup = assess_inference_initilization(funcx_tasks)"
   ]
  },
  {
   "cell_type": "code",
   "execution_count": 26,
   "id": "6f97627e-9a5c-477f-89eb-87b631d9e931",
   "metadata": {},
   "outputs": [
    {
     "data": {
      "text/html": [
       "<div>\n",
       "<style scoped>\n",
       "    .dataframe tbody tr th:only-of-type {\n",
       "        vertical-align: middle;\n",
       "    }\n",
       "\n",
       "    .dataframe tbody tr th {\n",
       "        vertical-align: top;\n",
       "    }\n",
       "\n",
       "    .dataframe thead th {\n",
       "        text-align: right;\n",
       "    }\n",
       "</style>\n",
       "<table border=\"1\" class=\"dataframe\">\n",
       "  <thead>\n",
       "    <tr style=\"text-align: right;\">\n",
       "      <th></th>\n",
       "      <th>total_serialization</th>\n",
       "      <th>funcx_communication</th>\n",
       "      <th>time_input_resolution</th>\n",
       "      <th>total_startup</th>\n",
       "      <th>time_running</th>\n",
       "    </tr>\n",
       "  </thead>\n",
       "  <tbody>\n",
       "    <tr>\n",
       "      <th>count</th>\n",
       "      <td>26.000000</td>\n",
       "      <td>26.000000</td>\n",
       "      <td>26.000000</td>\n",
       "      <td>26.000000</td>\n",
       "      <td>26.000000</td>\n",
       "    </tr>\n",
       "    <tr>\n",
       "      <th>mean</th>\n",
       "      <td>0.001123</td>\n",
       "      <td>1.557016</td>\n",
       "      <td>33.932867</td>\n",
       "      <td>35.489883</td>\n",
       "      <td>65.429306</td>\n",
       "    </tr>\n",
       "    <tr>\n",
       "      <th>std</th>\n",
       "      <td>0.001079</td>\n",
       "      <td>3.418110</td>\n",
       "      <td>39.350121</td>\n",
       "      <td>42.573477</td>\n",
       "      <td>39.121892</td>\n",
       "    </tr>\n",
       "    <tr>\n",
       "      <th>min</th>\n",
       "      <td>0.000417</td>\n",
       "      <td>0.293904</td>\n",
       "      <td>17.026262</td>\n",
       "      <td>17.401203</td>\n",
       "      <td>48.027490</td>\n",
       "    </tr>\n",
       "    <tr>\n",
       "      <th>25%</th>\n",
       "      <td>0.000496</td>\n",
       "      <td>0.315723</td>\n",
       "      <td>19.493679</td>\n",
       "      <td>19.789771</td>\n",
       "      <td>51.073515</td>\n",
       "    </tr>\n",
       "    <tr>\n",
       "      <th>50%</th>\n",
       "      <td>0.000609</td>\n",
       "      <td>0.340847</td>\n",
       "      <td>20.442806</td>\n",
       "      <td>20.784294</td>\n",
       "      <td>52.324877</td>\n",
       "    </tr>\n",
       "    <tr>\n",
       "      <th>75%</th>\n",
       "      <td>0.000812</td>\n",
       "      <td>0.393915</td>\n",
       "      <td>23.637177</td>\n",
       "      <td>23.956700</td>\n",
       "      <td>55.351683</td>\n",
       "    </tr>\n",
       "    <tr>\n",
       "      <th>max</th>\n",
       "      <td>0.003625</td>\n",
       "      <td>11.535918</td>\n",
       "      <td>186.622899</td>\n",
       "      <td>197.221613</td>\n",
       "      <td>218.047165</td>\n",
       "    </tr>\n",
       "  </tbody>\n",
       "</table>\n",
       "</div>"
      ],
      "text/plain": [
       "       total_serialization  funcx_communication  time_input_resolution  \\\n",
       "count            26.000000            26.000000              26.000000   \n",
       "mean              0.001123             1.557016              33.932867   \n",
       "std               0.001079             3.418110              39.350121   \n",
       "min               0.000417             0.293904              17.026262   \n",
       "25%               0.000496             0.315723              19.493679   \n",
       "50%               0.000609             0.340847              20.442806   \n",
       "75%               0.000812             0.393915              23.637177   \n",
       "max               0.003625            11.535918             186.622899   \n",
       "\n",
       "       total_startup  time_running  \n",
       "count      26.000000     26.000000  \n",
       "mean       35.489883     65.429306  \n",
       "std        42.573477     39.121892  \n",
       "min        17.401203     48.027490  \n",
       "25%        19.789771     51.073515  \n",
       "50%        20.784294     52.324877  \n",
       "75%        23.956700     55.351683  \n",
       "max       197.221613    218.047165  "
      ]
     },
     "execution_count": 26,
     "metadata": {},
     "output_type": "execute_result"
    }
   ],
   "source": [
    "funcx_inf_startup.describe()"
   ]
  },
  {
   "cell_type": "markdown",
   "id": "f0b32f91-192d-4640-af1d-8223033692a8",
   "metadata": {},
   "source": [
    "The time to start an inference task is limited by the model arriving at the worker."
   ]
  },
  {
   "cell_type": "code",
   "execution_count": 27,
   "id": "6f1ac503-4c32-40aa-aafb-47fa3d2004c3",
   "metadata": {},
   "outputs": [
    {
     "data": {
      "text/plain": [
       "Text(0, 0.5, 'Startup Time')"
      ]
     },
     "execution_count": 27,
     "metadata": {},
     "output_type": "execute_result"
    },
    {
     "data": {
      "image/png": "[encoded data removed]",
      "text/plain": [
       "<Figure size 252x180 with 1 Axes>"
      ]
     },
     "metadata": {
      "needs_background": "light"
     },
     "output_type": "display_data"
    }
   ],
   "source": [
    "fig, ax = plt.subplots(figsize=(3.5, 2.5))\n",
    "\n",
    "stats = funcx_inf_startup.groupby('batch_id')['total_startup'].describe()\n",
    "ax.plot(stats.index, stats['mean'], '--o', label='Total startup')\n",
    "\n",
    "stats = funcx_inf_startup.groupby('batch_id')['time_input_resolution'].describe()\n",
    "ax.plot(stats.index, stats['mean'], '--s', label='Proxy resolution')\n",
    "\n",
    "\n",
    "ax.legend()\n",
    "ax.set_xlabel('Batch ID')\n",
    "ax.set_ylabel('Startup Time')"
   ]
  },
  {
   "cell_type": "markdown",
   "id": "e052677a-8849-4ab6-b403-2b8fd60c38f3",
   "metadata": {},
   "source": [
    "We can see that the time to start the first batch is much larger, where we have to send both the model and search space"
   ]
  },
  {
   "cell_type": "markdown",
   "id": "fbdb8506-c99c-4ae0-8bf2-651e4d8d836a",
   "metadata": {},
   "source": [
    "### Simulation Tasks\n",
    "The time between when a simulation task is created and placed on the node"
   ]
  },
  {
   "cell_type": "code",
   "execution_count": 28,
   "id": "3d13559a-6589-4529-9474-1414bc6a13bc",
   "metadata": {},
   "outputs": [],
   "source": [
    "sim_tasks = funcx_tasks.query('task_type==\"simulation\"')"
   ]
  },
  {
   "cell_type": "code",
   "execution_count": 29,
   "id": "da8b16bc-b2bc-4619-a287-7c2303095d2f",
   "metadata": {},
   "outputs": [
    {
     "data": {
      "text/plain": [
       "count    1500.000000\n",
       "mean        2.767259\n",
       "std        14.440596\n",
       "min         0.279935\n",
       "25%         0.313713\n",
       "50%         0.330484\n",
       "75%         0.360958\n",
       "max       101.124794\n",
       "dtype: float64"
      ]
     },
     "execution_count": 29,
     "metadata": {},
     "output_type": "execute_result"
    }
   ],
   "source": [
    "(sim_tasks.time_compute_started - sim_tasks.time_created).describe()"
   ]
  },
  {
   "cell_type": "markdown",
   "id": "2e3c3f06-5658-475d-85cf-4937ef0a7e00",
   "metadata": {},
   "source": [
    "The median is only 330ms. There is a high maximum, but we are not getting charged for the job waiting in queue."
   ]
  },
  {
   "cell_type": "code",
   "execution_count": null,
   "id": "af78acd8-8b43-4f27-a156-6c2e74f35790",
   "metadata": {},
   "outputs": [],
   "source": []
  }
 ],
 "metadata": {
  "kernelspec": {
   "display_name": "Python 3 (ipykernel)",
   "language": "python",
   "name": "python3"
  },
  "language_info": {
   "codemirror_mode": {
    "name": "ipython",
    "version": 3
   },
   "file_extension": ".py",
   "mimetype": "text/x-python",
   "name": "python",
   "nbconvert_exporter": "python",
   "pygments_lexer": "ipython3",
   "version": "3.7.4"
  }
 },
 "nbformat": 4,
 "nbformat_minor": 5
}
