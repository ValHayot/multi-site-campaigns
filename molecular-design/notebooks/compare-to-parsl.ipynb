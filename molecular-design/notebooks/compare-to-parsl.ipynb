{
 "cells": [
  {
   "cell_type": "markdown",
   "id": "ed6a301c-61cb-403e-9ca2-7598f27671ed",
   "metadata": {},
   "source": [
    "# Compare to Parsl with and without ProxyStore\n",
    "Parsl is a workflow engine that, unlike FuncX, sents tasks and results directly between sites. \n",
    "While this requires network configuration or SSH tunnels, removing a third-party for routing tasks could have performance advantages.\n",
    "Here, we attempt to quantify them"
   ]
  },
  {
   "cell_type": "code",
   "execution_count": 1,
   "id": "3e030b1e-3ee7-40b0-8117-6aa34973d2f5",
   "metadata": {},
   "outputs": [],
   "source": [
    "%matplotlib inline\n",
    "from matplotlib import pyplot as plt\n",
    "from scipy.interpolate import interp1d\n",
    "from datetime import datetime\n",
    "from itertools import repeat\n",
    "from pathlib import Path\n",
    "import pandas as pd\n",
    "import numpy as np\n",
    "import json"
   ]
  },
  {
   "cell_type": "markdown",
   "id": "027fca0c-d889-4bf6-864a-a58d485a7196",
   "metadata": {},
   "source": [
    "## Load in the results\n",
    "We want the FuncX, and Parsl with and without ProxyStore"
   ]
  },
  {
   "cell_type": "code",
   "execution_count": 2,
   "id": "c1c88468-f82b-4218-9cbf-99171d60ca64",
   "metadata": {},
   "outputs": [],
   "source": [
    "runs = {\n",
    "    'Parsl': Path('./prod-runs/8KNL-8V100-continuous-no-ps/'),\n",
    "    'Parsl+Redis': Path('./prod-runs/8KNL-8V100-continuous-parsl-redis/'),\n",
    "    'FuncX+Globus': Path('./prod-runs/8KNL-8V100-continuous/'),\n",
    "}"
   ]
  },
  {
   "cell_type": "markdown",
   "id": "2c6b65af-3cd5-48f2-a322-2adb051922a7",
   "metadata": {},
   "source": [
    "## Get the time to complete training\n",
    "Rather than looking at individual sources of latency, let's look at the measure of where it matters: how long does it take to go from \"Start updating task list\" to \"Task list updated.\""
   ]
  },
  {
   "cell_type": "code",
   "execution_count": 3,
   "id": "b486b3b3-c093-42b0-a275-dc59500bd916",
   "metadata": {},
   "outputs": [],
   "source": [
    "def get_training_spans(run_path: Path) -> np.ndarray:\n",
    "    \"\"\"Get the time between when trainings stops and updated models are used to reorder task queue\n",
    "    \n",
    "    Args:\n",
    "        run_path: Path to a production run folder\n",
    "    Returns:\n",
    "        List of times for all replicants of this production run\n",
    "    \"\"\"\n",
    "    \n",
    "    # Prepare storage \n",
    "    output = []\n",
    "    \n",
    "    # Loop over all duplicates\n",
    "    repeats = map(Path, json.loads((run_path / 'duplicates.json').read_text()))\n",
    "    \n",
    "    for path in repeats:\n",
    "        # Determine when the training started / update completed\n",
    "        start_update = []\n",
    "        end_update = []\n",
    "        with open(path / 'runtime.log') as fp:\n",
    "            for x in fp:\n",
    "                if 'thinker.train_models - INFO - Started retraining' in x: \n",
    "                    start_update.append(datetime.strptime(x.split(\" - \")[0], \"%Y-%m-%d %H:%M:%S,%f\").timestamp())\n",
    "                elif 'thinker.selector - INFO - Updated task list' in x:\n",
    "                    end_update.append(datetime.strptime(x.split(\" - \")[0], \"%Y-%m-%d %H:%M:%S,%f\").timestamp())\n",
    "\n",
    "        # The first \"end update\" occurs without a training, so we're going to ignore it\n",
    "        assert len(end_update) > 0, f'No results for {path}'\n",
    "        end_update.pop(0)\n",
    "\n",
    "        # Compute the time spent during each span\n",
    "        makespan = np.subtract(end_update, start_update[:len(end_update)])\n",
    "        \n",
    "        # Add to the total output\n",
    "        output.extend(makespan)\n",
    "    \n",
    "    return np.array(output)"
   ]
  },
  {
   "cell_type": "markdown",
   "id": "8d7185a9-4244-4c7a-b807-41d9398ea8ed",
   "metadata": {},
   "source": [
    "Run the computations"
   ]
  },
  {
   "cell_type": "code",
   "execution_count": 4,
   "id": "e53f8251-8507-455b-ba7e-59c4beafd777",
   "metadata": {},
   "outputs": [
    {
     "data": {
      "image/png": "[encoded data removed]",
      "text/plain": [
       "<Figure size 252x144 with 1 Axes>"
      ]
     },
     "metadata": {
      "needs_background": "light"
     },
     "output_type": "display_data"
    }
   ],
   "source": [
    "spans = dict((k, get_training_spans(v)) for k, v in runs.items())\n",
    "fig, ax = plt.subplots(figsize=(3.5, 2.))\n",
    "\n",
    "medians = [np.median(v) for v in spans.values()]\n",
    "errors = np.abs([np.percentile(v, [40, 60]) - np.median(v) for v in spans.values()])\n",
    "ax.bar(range(len(spans)), medians, yerr=errors.T)\n",
    "\n",
    "ax.set_xticks(range(len(spans)))\n",
    "ax.set_xticklabels(map(str.capitalize, runs))\n",
    "\n",
    "ax.set_ylabel('Makespan (s)')\n",
    "fig.tight_layout()\n",
    "fig.savefig('figures/parsl-comparision_training-responsiveness.png', dpi=320)\n",
    "fig.savefig('figures/parsl-comparision_training-responsiveness.pdf')"
   ]
  },
  {
   "cell_type": "markdown",
   "id": "5e85dc0f-a172-413b-8071-d0be5b6c937e",
   "metadata": {},
   "source": [
    "*Finding*: Better performance the more SSH tunnels we use, with a big caveat: Parsl without ProxyStore suffers large performance problems."
   ]
  },
  {
   "cell_type": "markdown",
   "id": "72d413de-175c-481c-8fdc-5b005ad3439e",
   "metadata": {},
   "source": [
    "## Plot time between worker finishing work and getting next\n",
    "See how well we are keeping the simulation utilized"
   ]
  },
  {
   "cell_type": "code",
   "execution_count": 5,
   "id": "eabfff94-ce29-446e-86f9-dd0ddd728a8a",
   "metadata": {},
   "outputs": [],
   "source": [
    "def get_idle_times(run_path: Path) -> np.ndarray:\n",
    "    \"\"\"Get the lengths of time a QC worker sits idle \n",
    "    \n",
    "    Args:\n",
    "        path: Path to the run\n",
    "    Returns:\n",
    "        Length of time workers sat idle\n",
    "    \"\"\"\n",
    "    \n",
    "    # Prepare storage \n",
    "    output = []\n",
    "    \n",
    "    # Loop over all duplicates\n",
    "    repeats = map(Path, json.loads((run_path / 'duplicates.json').read_text()))\n",
    "    \n",
    "    for path in repeats:\n",
    "        # Load in the simulation records\n",
    "        results = pd.read_json(path / 'simulation-results.json', lines=True)\n",
    "\n",
    "        # Get the hostname for the worker\n",
    "        results['hostname'] = results['worker_info'].apply(lambda x: x.get('hostname') if x is not None else None)\n",
    "        results = results[~ results['hostname'].isnull()]\n",
    "\n",
    "        # Compute the time a job finished\n",
    "        results['time_compute_finished'] = results['time_compute_started'] + results['time_running']\n",
    "\n",
    "        # Collect the idle times\n",
    "        idle_times = []\n",
    "        for host, group in results.sort_values('time_compute_started').groupby('hostname'):\n",
    "            # It is the time between when a worker started a task and the previous one finished\n",
    "            my_idle = group['time_compute_started'].iloc[1:].values - group['time_compute_finished'].values[:len(group)-1]\n",
    "            idle_times.extend(my_idle)\n",
    "\n",
    "        idle_times = [x for x in idle_times if x < 60.]  # >30 means the workers are in different jobs (i.e., stop and started in between)\n",
    "\n",
    "        # Add to the total output\n",
    "        output.extend(idle_times)\n",
    "        \n",
    "    return np.array(idle_times)"
   ]
  },
  {
   "cell_type": "code",
   "execution_count": 6,
   "id": "c4b87585-8fb8-44b5-98c8-c30e08e66eea",
   "metadata": {},
   "outputs": [],
   "source": [
    "def get_comm_times(path: Path) -> pd.DataFrame:\n",
    "    \"\"\"Get the times to communicate results between each of the workers servers\"\"\"\n",
    "    \n",
    "    results = pd.read_json(path / 'simulation-results.json', lines=True)\n",
    "    \n",
    "    # Get the time a result finished\n",
    "    results['time_compute_finished'] = results['time_compute_started'] + results['time_running']\n",
    "    \n",
    "    # Get the time between when a result was completed and recieved by Parsl\n",
    "    results['result_comm_time'] = results['time_result_sent'] - results['time_compute_finished']\n",
    "    results['request_comm_time'] = results['time_compute_started'] - results['time_input_received']\n",
    "    \n",
    "    return results[['result_comm_time', 'request_comm_time']]"
   ]
  },
  {
   "cell_type": "code",
   "execution_count": 7,
   "id": "9fd79f92-5542-449b-8d29-2291abc2970f",
   "metadata": {},
   "outputs": [
    {
     "name": "stdout",
     "output_type": "stream",
     "text": [
      "{'Parsl': 0.2563643455505371, 'Parsl+Redis': 0.09589064121246338, 'FuncX+Globus': 0.377052903175354}\n"
     ]
    },
    {
     "data": {
      "image/png": "[encoded data removed]",
      "text/plain": [
       "<Figure size 252x144 with 1 Axes>"
      ]
     },
     "metadata": {
      "needs_background": "light"
     },
     "output_type": "display_data"
    }
   ],
   "source": [
    "spans = dict((k, get_idle_times(v)) for k, v in runs.items())\n",
    "fig, ax = plt.subplots(figsize=(3.5, 2.))\n",
    "\n",
    "medians = [np.median(v) for v in spans.values()]\n",
    "errors = np.abs([np.percentile(v, [40, 60]) - np.median(v) for v in spans.values()])\n",
    "print(dict(zip(spans.keys(), medians)))\n",
    "ax.bar(range(len(spans)), medians, yerr=errors.T)\n",
    "\n",
    "ax.set_xticks(range(len(spans)))\n",
    "ax.set_xticklabels(map(str.capitalize, runs))\n",
    "\n",
    "ax.set_ylabel('Idle Time (s)')\n",
    "fig.tight_layout()\n",
    "fig.savefig('figures/parsl-comparision_simulator-downtime.png', dpi=320)\n",
    "fig.savefig('figures/parsl-comparision_simulator-downtime.pdf')"
   ]
  },
  {
   "cell_type": "markdown",
   "id": "ad6cb318-d48d-47d1-b790-1d771615d3c5",
   "metadata": {},
   "source": [
    "*Finding*: FuncX is optimized for low latency submissions of tasks to workers, which overcomes any communication overheads involving tasks being routed through AWS"
   ]
  },
  {
   "cell_type": "markdown",
   "id": "1571ce03-6ef4-4747-ae27-a0892fc69edf",
   "metadata": {},
   "source": [
    "### Make a composite plot\n",
    "We are going to show simulation uptime and ML makespan in the same chart"
   ]
  },
  {
   "cell_type": "code",
   "execution_count": 8,
   "id": "71426380-ef9f-4f46-bd0e-2b90cfe68ce4",
   "metadata": {},
   "outputs": [
    {
     "data": {
      "image/png": "[encoded data removed]",
      "text/plain": [
       "<Figure size 252x144 with 2 Axes>"
      ]
     },
     "metadata": {
      "needs_background": "light"
     },
     "output_type": "display_data"
    }
   ],
   "source": [
    "fig, ax = plt.subplots(figsize=(3.5, 2.))\n",
    "\n",
    "ax.text(1, 1, '(a)', ha='right', va='top', transform=ax.transAxes)\n",
    "\n",
    "# Plot the ML makespan\n",
    "spans = dict((k, get_training_spans(v)) for k, v in runs.items())\n",
    "medians = [np.median(v) for v in spans.values()]\n",
    "errors = np.abs([np.percentile(v, [40, 60]) - np.median(v) for v in spans.values()])\n",
    "ax.bar(np.arange(len(spans)) - 0.4, medians, yerr=errors.T, color='maroon', width=0.4, align='edge')\n",
    "\n",
    "ax.set_ylabel('ML Time-to-Solution (s)', color='maroon')\n",
    "\n",
    "# Plot the QC idletime\n",
    "ax2 = ax.twinx()\n",
    "spans = dict((k, get_idle_times(v)) for k, v in runs.items())\n",
    "medians = [np.median(v) for v in spans.values()]\n",
    "errors = np.abs([np.percentile(v, [40, 60]) - np.median(v) for v in spans.values()])\n",
    "ax2.bar(range(len(spans)), medians, yerr=errors.T, color='darkslateblue', width=0.4, align='edge')\n",
    "\n",
    "ax2.set_ylabel('Worker Idle Time, Mean (s)', color='darkslateblue')\n",
    "\n",
    "ax.set_xticks(range(len(spans)))\n",
    "ax.set_xticklabels(runs, fontsize=8)\n",
    "\n",
    "fig.tight_layout()\n",
    "fig.savefig('figures/parsl-comparision_latencies.png', dpi=320)\n",
    "fig.savefig('figures/parsl-comparision_latencies.pdf')"
   ]
  },
  {
   "cell_type": "markdown",
   "id": "ee87de24-3d40-4413-a23e-5d09c6858a1f",
   "metadata": {},
   "source": [
    "## Plot the Performance over Time\n",
    "See which approach gives better science results"
   ]
  },
  {
   "cell_type": "code",
   "execution_count": 9,
   "id": "b65c6f54-9ce7-4290-91ac-dc3d844c4677",
   "metadata": {},
   "outputs": [],
   "source": [
    "def get_simulation_outcome(path) -> pd.DataFrame:\n",
    "    \"\"\"Get the IP count as a function of node hours expended\n",
    "    \n",
    "    Args:\n",
    "        path: Path to the run directory\n",
    "    Returns:\n",
    "        Dataframe with at least a few columns:\n",
    "            - `nodehours_used`: Number of node hours consume by the workflow\n",
    "            - `mols_found`: Number of molecules found with an IP above 14\n",
    "    \"\"\"\n",
    "    \n",
    "    # Read the simulation runs\n",
    "    data = pd.read_json(path / 'simulation-results.json', lines=True).sort_values('time_created').query('success')\n",
    "    data['ip'] = data['task_info'].apply(lambda x: x['ip']['xtb-vacuum'])\n",
    "    \n",
    "    # Count the number of nodes available at any moment\n",
    "    changes = list(zip(data['time_compute_started'], repeat(1), repeat(0)))\n",
    "    changes.extend(zip(data['time_compute_started'] + data['time_running'], repeat(-1), (data['ip'] > 14).map(int)))\n",
    "    changes = sorted(changes, key=lambda x: x[0])\n",
    "    \n",
    "    # Add them together into an output dataframe\n",
    "    changes = pd.DataFrame(changes, columns=['walltime', 'node_changes', 'new_found'])\n",
    "    changes['walltime'] -= changes['walltime'].min()\n",
    "    \n",
    "    # Compute current utilization and number found\n",
    "    changes['num_found'] = changes['new_found'].cumsum()\n",
    "    changes['active_nodes'] = changes['node_changes'].cumsum()\n",
    "    \n",
    "    # Compute the node hours used, factoring out when the system was in queue\n",
    "    #  Method: Count all nodes being used if any task is active during a time interval\n",
    "    max_nodes = changes['active_nodes'].max()\n",
    "    last_segment_active = changes['active_nodes'].iloc[0:-1] > 1\n",
    "    walltime_usage = np.diff(changes['walltime']) * last_segment_active * max_nodes\n",
    "    changes['node_hours_used'] = [0] + np.cumsum(walltime_usage).tolist()\n",
    "    changes['node_hours_used'] /= 3600\n",
    "    \n",
    "    return changes"
   ]
  },
  {
   "cell_type": "code",
   "execution_count": 10,
   "id": "b92d9597-90d9-4825-8ff7-2b7a3fd08661",
   "metadata": {},
   "outputs": [
    {
     "name": "stdout",
     "output_type": "stream",
     "text": [
      "Parsl finds 169.7 after 12 node-hours\n",
      "Parsl+Redis finds 185.0 after 12 node-hours\n",
      "FuncX+Globus finds 178.8 after 12 node-hours\n"
     ]
    },
    {
     "data": {
      "image/png": "[encoded data removed]",
      "text/plain": [
       "<Figure size 252x144 with 1 Axes>"
      ]
     },
     "metadata": {
      "needs_background": "light"
     },
     "output_type": "display_data"
    }
   ],
   "source": [
    "fig, ax = plt.subplots(figsize=(3.5, 2.))\n",
    "\n",
    "ax.text(0, 1, '(b)', ha='left', va='top', transform=ax.transAxes)\n",
    "\n",
    "length = 13\n",
    "for name, run_path in runs.items():\n",
    "    # Make an interpolator for the trajectory for each duplicate run\n",
    "    # Loop over all duplicates\n",
    "    repeats = map(Path, json.loads((run_path / 'duplicates.json').read_text()))\n",
    "    interps = []\n",
    "    for path in repeats:\n",
    "        data = get_simulation_outcome(path)\n",
    "        assert data['node_hours_used'].max() > length, f'Run not yet finished. {path.name}. Only used {data.node_hours_used.max():.2f}'\n",
    "        interps.append(\n",
    "            interp1d(data['node_hours_used'], data['num_found'], kind='previous')\n",
    "        )\n",
    "        \n",
    "    # Plot the mean over the runs\n",
    "    points = np.linspace(0, length, 128)\n",
    "    score = np.mean(\n",
    "        [i(points) for i in interps], axis=0\n",
    "    )\n",
    "    print(f'{name} finds {np.mean([i(12) for i in interps]):.1f} after 12 node-hours')\n",
    "    \n",
    "    ax.plot(points, score, label=name)\n",
    "    \n",
    "# Plot the baseline\n",
    "data = get_simulation_outcome(Path('./prod-runs/8KNL-8V100-no-retrain/'))\n",
    "ax.plot(data['node_hours_used'], data['num_found'], 'k--', label='Baseline')\n",
    "\n",
    "ax.set_xlim(0, length)\n",
    "    \n",
    "ax.legend(ncol=2, fontsize=7)\n",
    "ax.set_xlabel('Node Hours Expended (hr)')\n",
    "ax.set_ylabel('Molecules Found')\n",
    "\n",
    "fig.tight_layout()\n",
    "fig.savefig('figures/parsl-comparision_active-learning-performance.png', dpi=320)\n",
    "fig.savefig('figures/parsl-comparision_active-learning-performance.pdf')"
   ]
  },
  {
   "cell_type": "markdown",
   "id": "5f48e046-c389-4f6c-a25d-c21688d93a6b",
   "metadata": {},
   "source": [
    "Moving to FuncX doesn't harm our scientific outcomes significnatly. The Parsl+Redis solution finds 3% more compounds at the end of 12 node-hours."
   ]
  },
  {
   "cell_type": "code",
   "execution_count": null,
   "id": "646299ae-808c-4132-bf77-050227615245",
   "metadata": {},
   "outputs": [],
   "source": []
  }
 ],
 "metadata": {
  "kernelspec": {
   "display_name": "Python 3 (ipykernel)",
   "language": "python",
   "name": "python3"
  },
  "language_info": {
   "codemirror_mode": {
    "name": "ipython",
    "version": 3
   },
   "file_extension": ".py",
   "mimetype": "text/x-python",
   "name": "python",
   "nbconvert_exporter": "python",
   "pygments_lexer": "ipython3",
   "version": "3.7.4"
  }
 },
 "nbformat": 4,
 "nbformat_minor": 5
}
