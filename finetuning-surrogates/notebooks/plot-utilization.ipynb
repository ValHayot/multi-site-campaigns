{
 "cells": [
  {
   "cell_type": "markdown",
   "id": "aa34bdb9-a295-4b25-8c47-37edb02adabb",
   "metadata": {},
   "source": [
    "# Plot Utilization and Network Use over Time\n",
    "Give an idea about how much our app uses multiple resources and the network"
   ]
  },
  {
   "cell_type": "code",
   "execution_count": 1,
   "id": "77e0d2af-99fb-4a0e-be12-ddaeea904152",
   "metadata": {},
   "outputs": [],
   "source": [
    "%matplotlib inline\n",
    "from matplotlib import pyplot as plt\n",
    "import pandas as pd"
   ]
  },
  {
   "cell_type": "markdown",
   "id": "778b3b23-123a-4a84-abb0-88d792f5dfa9",
   "metadata": {},
   "source": [
    "Configuration"
   ]
  },
  {
   "cell_type": "code",
   "execution_count": 2,
   "id": "43caac66-0525-4ce3-a063-c5f58369639b",
   "metadata": {},
   "outputs": [],
   "source": [
    "colors = {\n",
    "    'inference': 'deepskyblue',\n",
    "    'simulation': 'goldenrod',\n",
    "    'training': 'maroon',\n",
    "    'sampling': 'dimgray'\n",
    "}"
   ]
  },
  {
   "cell_type": "markdown",
   "id": "c001e74f-b016-4b2e-8781-d7df5ad2f075",
   "metadata": {},
   "source": [
    "## Import Data\n",
    "We're going to use the utilization data from the baseline, Parsl-only application because it's easier to track what's happening"
   ]
  },
  {
   "cell_type": "code",
   "execution_count": 3,
   "id": "84d5e1e3-5454-4177-b38f-77b59de6c0ad",
   "metadata": {},
   "outputs": [
    {
     "data": {
      "text/html": [
       "<div>\n",
       "<style scoped>\n",
       "    .dataframe tbody tr th:only-of-type {\n",
       "        vertical-align: middle;\n",
       "    }\n",
       "\n",
       "    .dataframe tbody tr th {\n",
       "        vertical-align: top;\n",
       "    }\n",
       "\n",
       "    .dataframe thead th {\n",
       "        text-align: right;\n",
       "    }\n",
       "</style>\n",
       "<table border=\"1\" class=\"dataframe\">\n",
       "  <thead>\n",
       "    <tr style=\"text-align: right;\">\n",
       "      <th></th>\n",
       "      <th>task_type</th>\n",
       "      <th>timestamp</th>\n",
       "      <th>machine</th>\n",
       "      <th>hostname</th>\n",
       "      <th>change</th>\n",
       "      <th>walltime</th>\n",
       "      <th>theta</th>\n",
       "      <th>venti</th>\n",
       "      <th>inference</th>\n",
       "      <th>simulation</th>\n",
       "      <th>sampling</th>\n",
       "      <th>training</th>\n",
       "      <th>total</th>\n",
       "      <th>time_queueing</th>\n",
       "    </tr>\n",
       "  </thead>\n",
       "  <tbody>\n",
       "    <tr>\n",
       "      <th>0</th>\n",
       "      <td>training</td>\n",
       "      <td>1.675638e+09</td>\n",
       "      <td>venti</td>\n",
       "      <td>venti</td>\n",
       "      <td>1</td>\n",
       "      <td>0.000000</td>\n",
       "      <td>0</td>\n",
       "      <td>1</td>\n",
       "      <td>0</td>\n",
       "      <td>0</td>\n",
       "      <td>0</td>\n",
       "      <td>1</td>\n",
       "      <td>1</td>\n",
       "      <td>0.0</td>\n",
       "    </tr>\n",
       "    <tr>\n",
       "      <th>1</th>\n",
       "      <td>training</td>\n",
       "      <td>1.675638e+09</td>\n",
       "      <td>venti</td>\n",
       "      <td>venti</td>\n",
       "      <td>1</td>\n",
       "      <td>0.040696</td>\n",
       "      <td>0</td>\n",
       "      <td>2</td>\n",
       "      <td>0</td>\n",
       "      <td>0</td>\n",
       "      <td>0</td>\n",
       "      <td>2</td>\n",
       "      <td>2</td>\n",
       "      <td>0.0</td>\n",
       "    </tr>\n",
       "    <tr>\n",
       "      <th>2</th>\n",
       "      <td>training</td>\n",
       "      <td>1.675638e+09</td>\n",
       "      <td>venti</td>\n",
       "      <td>venti</td>\n",
       "      <td>1</td>\n",
       "      <td>0.124151</td>\n",
       "      <td>0</td>\n",
       "      <td>3</td>\n",
       "      <td>0</td>\n",
       "      <td>0</td>\n",
       "      <td>0</td>\n",
       "      <td>3</td>\n",
       "      <td>3</td>\n",
       "      <td>0.0</td>\n",
       "    </tr>\n",
       "    <tr>\n",
       "      <th>3</th>\n",
       "      <td>training</td>\n",
       "      <td>1.675638e+09</td>\n",
       "      <td>venti</td>\n",
       "      <td>venti</td>\n",
       "      <td>1</td>\n",
       "      <td>0.253925</td>\n",
       "      <td>0</td>\n",
       "      <td>4</td>\n",
       "      <td>0</td>\n",
       "      <td>0</td>\n",
       "      <td>0</td>\n",
       "      <td>4</td>\n",
       "      <td>4</td>\n",
       "      <td>0.0</td>\n",
       "    </tr>\n",
       "    <tr>\n",
       "      <th>4</th>\n",
       "      <td>training</td>\n",
       "      <td>1.675638e+09</td>\n",
       "      <td>venti</td>\n",
       "      <td>venti</td>\n",
       "      <td>1</td>\n",
       "      <td>0.306709</td>\n",
       "      <td>0</td>\n",
       "      <td>5</td>\n",
       "      <td>0</td>\n",
       "      <td>0</td>\n",
       "      <td>0</td>\n",
       "      <td>5</td>\n",
       "      <td>5</td>\n",
       "      <td>0.0</td>\n",
       "    </tr>\n",
       "  </tbody>\n",
       "</table>\n",
       "</div>"
      ],
      "text/plain": [
       "  task_type     timestamp machine hostname  change  walltime  theta  venti  \\\n",
       "0  training  1.675638e+09   venti    venti       1  0.000000      0      1   \n",
       "1  training  1.675638e+09   venti    venti       1  0.040696      0      2   \n",
       "2  training  1.675638e+09   venti    venti       1  0.124151      0      3   \n",
       "3  training  1.675638e+09   venti    venti       1  0.253925      0      4   \n",
       "4  training  1.675638e+09   venti    venti       1  0.306709      0      5   \n",
       "\n",
       "   inference  simulation  sampling  training  total  time_queueing  \n",
       "0          0           0         0         1      1            0.0  \n",
       "1          0           0         0         2      2            0.0  \n",
       "2          0           0         0         3      3            0.0  \n",
       "3          0           0         0         4      4            0.0  \n",
       "4          0           0         0         5      5            0.0  "
      ]
     },
     "execution_count": 3,
     "metadata": {},
     "output_type": "execute_result"
    }
   ],
   "source": [
    "utilization = pd.read_csv('prod-runs/baseline_retrain-8/processed-results/utilization.csv')\n",
    "utilization.head()"
   ]
  },
  {
   "cell_type": "code",
   "execution_count": 4,
   "id": "be2e63cb-0836-4b16-86db-16f8c6175b66",
   "metadata": {},
   "outputs": [
    {
     "data": {
      "text/html": [
       "<div>\n",
       "<style scoped>\n",
       "    .dataframe tbody tr th:only-of-type {\n",
       "        vertical-align: middle;\n",
       "    }\n",
       "\n",
       "    .dataframe tbody tr th {\n",
       "        vertical-align: top;\n",
       "    }\n",
       "\n",
       "    .dataframe thead th {\n",
       "        text-align: right;\n",
       "    }\n",
       "</style>\n",
       "<table border=\"1\" class=\"dataframe\">\n",
       "  <thead>\n",
       "    <tr style=\"text-align: right;\">\n",
       "      <th></th>\n",
       "      <th>task_id</th>\n",
       "      <th>method</th>\n",
       "      <th>success</th>\n",
       "      <th>task_info</th>\n",
       "      <th>resources</th>\n",
       "      <th>failure_info</th>\n",
       "      <th>worker_info</th>\n",
       "      <th>time_created</th>\n",
       "      <th>time_input_received</th>\n",
       "      <th>time_compute_started</th>\n",
       "      <th>...</th>\n",
       "      <th>proxystore_kwargs</th>\n",
       "      <th>proxystore_threshold</th>\n",
       "      <th>task</th>\n",
       "      <th>hostname</th>\n",
       "      <th>machine</th>\n",
       "      <th>task_type</th>\n",
       "      <th>walltime</th>\n",
       "      <th>time_queueing</th>\n",
       "      <th>theta_usage</th>\n",
       "      <th>venti_usage</th>\n",
       "    </tr>\n",
       "  </thead>\n",
       "  <tbody>\n",
       "    <tr>\n",
       "      <th>7</th>\n",
       "      <td>24dc94b1-9591-4a0e-bf5c-cf30c78b4344</td>\n",
       "      <td>train</td>\n",
       "      <td>True</td>\n",
       "      <td>{'model_id': 2, 'training_round': 1, 'train_si...</td>\n",
       "      <td>{'node_count': 1, 'cpu_processes': 1, 'cpu_thr...</td>\n",
       "      <td>NaN</td>\n",
       "      <td>{'hostname': 'venti', 'PARSL_WORKER_POOL_ID': ...</td>\n",
       "      <td>1.675638e+09</td>\n",
       "      <td>1.675638e+09</td>\n",
       "      <td>1.675638e+09</td>\n",
       "      <td>...</td>\n",
       "      <td>NaN</td>\n",
       "      <td>NaN</td>\n",
       "      <td>training</td>\n",
       "      <td>venti</td>\n",
       "      <td>venti</td>\n",
       "      <td>training</td>\n",
       "      <td>180.805466</td>\n",
       "      <td>86.068909</td>\n",
       "      <td>0.0</td>\n",
       "      <td>0.016073</td>\n",
       "    </tr>\n",
       "    <tr>\n",
       "      <th>4</th>\n",
       "      <td>3d5d4601-5fde-400d-b857-c697145483d3</td>\n",
       "      <td>train</td>\n",
       "      <td>True</td>\n",
       "      <td>{'model_id': 3, 'training_round': 1, 'train_si...</td>\n",
       "      <td>{'node_count': 1, 'cpu_processes': 1, 'cpu_thr...</td>\n",
       "      <td>NaN</td>\n",
       "      <td>{'hostname': 'venti', 'PARSL_WORKER_POOL_ID': ...</td>\n",
       "      <td>1.675638e+09</td>\n",
       "      <td>1.675638e+09</td>\n",
       "      <td>1.675638e+09</td>\n",
       "      <td>...</td>\n",
       "      <td>NaN</td>\n",
       "      <td>NaN</td>\n",
       "      <td>training</td>\n",
       "      <td>venti</td>\n",
       "      <td>venti</td>\n",
       "      <td>training</td>\n",
       "      <td>259.857251</td>\n",
       "      <td>0.000000</td>\n",
       "      <td>0.0</td>\n",
       "      <td>0.001550</td>\n",
       "    </tr>\n",
       "    <tr>\n",
       "      <th>1</th>\n",
       "      <td>030cb187-6ddb-42ae-acf5-cb668dabe19a</td>\n",
       "      <td>train</td>\n",
       "      <td>True</td>\n",
       "      <td>{'model_id': 5, 'training_round': 1, 'train_si...</td>\n",
       "      <td>{'node_count': 1, 'cpu_processes': 1, 'cpu_thr...</td>\n",
       "      <td>NaN</td>\n",
       "      <td>{'hostname': 'venti', 'PARSL_WORKER_POOL_ID': ...</td>\n",
       "      <td>1.675638e+09</td>\n",
       "      <td>1.675638e+09</td>\n",
       "      <td>1.675638e+09</td>\n",
       "      <td>...</td>\n",
       "      <td>NaN</td>\n",
       "      <td>NaN</td>\n",
       "      <td>training</td>\n",
       "      <td>venti</td>\n",
       "      <td>venti</td>\n",
       "      <td>training</td>\n",
       "      <td>260.409197</td>\n",
       "      <td>0.000000</td>\n",
       "      <td>0.0</td>\n",
       "      <td>0.002776</td>\n",
       "    </tr>\n",
       "    <tr>\n",
       "      <th>2</th>\n",
       "      <td>58f4ec26-b2fe-4b34-a134-069d5e530e28</td>\n",
       "      <td>train</td>\n",
       "      <td>True</td>\n",
       "      <td>{'model_id': 6, 'training_round': 1, 'train_si...</td>\n",
       "      <td>{'node_count': 1, 'cpu_processes': 1, 'cpu_thr...</td>\n",
       "      <td>NaN</td>\n",
       "      <td>{'hostname': 'venti', 'PARSL_WORKER_POOL_ID': ...</td>\n",
       "      <td>1.675638e+09</td>\n",
       "      <td>1.675638e+09</td>\n",
       "      <td>1.675638e+09</td>\n",
       "      <td>...</td>\n",
       "      <td>NaN</td>\n",
       "      <td>NaN</td>\n",
       "      <td>training</td>\n",
       "      <td>venti</td>\n",
       "      <td>venti</td>\n",
       "      <td>training</td>\n",
       "      <td>260.474401</td>\n",
       "      <td>0.000000</td>\n",
       "      <td>0.0</td>\n",
       "      <td>0.002921</td>\n",
       "    </tr>\n",
       "    <tr>\n",
       "      <th>6</th>\n",
       "      <td>05837ccb-5056-4928-a96e-d5119974f2be</td>\n",
       "      <td>train</td>\n",
       "      <td>True</td>\n",
       "      <td>{'model_id': 1, 'training_round': 1, 'train_si...</td>\n",
       "      <td>{'node_count': 1, 'cpu_processes': 1, 'cpu_thr...</td>\n",
       "      <td>NaN</td>\n",
       "      <td>{'hostname': 'venti', 'PARSL_WORKER_POOL_ID': ...</td>\n",
       "      <td>1.675638e+09</td>\n",
       "      <td>1.675638e+09</td>\n",
       "      <td>1.675638e+09</td>\n",
       "      <td>...</td>\n",
       "      <td>NaN</td>\n",
       "      <td>NaN</td>\n",
       "      <td>training</td>\n",
       "      <td>venti</td>\n",
       "      <td>venti</td>\n",
       "      <td>training</td>\n",
       "      <td>260.689306</td>\n",
       "      <td>0.000000</td>\n",
       "      <td>0.0</td>\n",
       "      <td>0.003399</td>\n",
       "    </tr>\n",
       "  </tbody>\n",
       "</table>\n",
       "<p>5 rows × 38 columns</p>\n",
       "</div>"
      ],
      "text/plain": [
       "                                task_id method  success  \\\n",
       "7  24dc94b1-9591-4a0e-bf5c-cf30c78b4344  train     True   \n",
       "4  3d5d4601-5fde-400d-b857-c697145483d3  train     True   \n",
       "1  030cb187-6ddb-42ae-acf5-cb668dabe19a  train     True   \n",
       "2  58f4ec26-b2fe-4b34-a134-069d5e530e28  train     True   \n",
       "6  05837ccb-5056-4928-a96e-d5119974f2be  train     True   \n",
       "\n",
       "                                           task_info  \\\n",
       "7  {'model_id': 2, 'training_round': 1, 'train_si...   \n",
       "4  {'model_id': 3, 'training_round': 1, 'train_si...   \n",
       "1  {'model_id': 5, 'training_round': 1, 'train_si...   \n",
       "2  {'model_id': 6, 'training_round': 1, 'train_si...   \n",
       "6  {'model_id': 1, 'training_round': 1, 'train_si...   \n",
       "\n",
       "                                           resources failure_info  \\\n",
       "7  {'node_count': 1, 'cpu_processes': 1, 'cpu_thr...          NaN   \n",
       "4  {'node_count': 1, 'cpu_processes': 1, 'cpu_thr...          NaN   \n",
       "1  {'node_count': 1, 'cpu_processes': 1, 'cpu_thr...          NaN   \n",
       "2  {'node_count': 1, 'cpu_processes': 1, 'cpu_thr...          NaN   \n",
       "6  {'node_count': 1, 'cpu_processes': 1, 'cpu_thr...          NaN   \n",
       "\n",
       "                                         worker_info  time_created  \\\n",
       "7  {'hostname': 'venti', 'PARSL_WORKER_POOL_ID': ...  1.675638e+09   \n",
       "4  {'hostname': 'venti', 'PARSL_WORKER_POOL_ID': ...  1.675638e+09   \n",
       "1  {'hostname': 'venti', 'PARSL_WORKER_POOL_ID': ...  1.675638e+09   \n",
       "2  {'hostname': 'venti', 'PARSL_WORKER_POOL_ID': ...  1.675638e+09   \n",
       "6  {'hostname': 'venti', 'PARSL_WORKER_POOL_ID': ...  1.675638e+09   \n",
       "\n",
       "   time_input_received  time_compute_started  ...  proxystore_kwargs  \\\n",
       "7         1.675638e+09          1.675638e+09  ...                NaN   \n",
       "4         1.675638e+09          1.675638e+09  ...                NaN   \n",
       "1         1.675638e+09          1.675638e+09  ...                NaN   \n",
       "2         1.675638e+09          1.675638e+09  ...                NaN   \n",
       "6         1.675638e+09          1.675638e+09  ...                NaN   \n",
       "\n",
       "   proxystore_threshold      task  hostname  machine  task_type    walltime  \\\n",
       "7                   NaN  training     venti    venti   training  180.805466   \n",
       "4                   NaN  training     venti    venti   training  259.857251   \n",
       "1                   NaN  training     venti    venti   training  260.409197   \n",
       "2                   NaN  training     venti    venti   training  260.474401   \n",
       "6                   NaN  training     venti    venti   training  260.689306   \n",
       "\n",
       "   time_queueing  theta_usage  venti_usage  \n",
       "7      86.068909          0.0     0.016073  \n",
       "4       0.000000          0.0     0.001550  \n",
       "1       0.000000          0.0     0.002776  \n",
       "2       0.000000          0.0     0.002921  \n",
       "6       0.000000          0.0     0.003399  \n",
       "\n",
       "[5 rows x 38 columns]"
      ]
     },
     "execution_count": 4,
     "metadata": {},
     "output_type": "execute_result"
    }
   ],
   "source": [
    "all_tasks = pd.read_csv('prod-runs/baseline_retrain-8/processed-results/all-tasks.csv').sort_values('walltime')\n",
    "all_tasks.head()"
   ]
  },
  {
   "cell_type": "markdown",
   "id": "a9b81bb5-d8f6-49e0-98bf-c970a887cd14",
   "metadata": {},
   "source": [
    "## Compute the Amount of Data Moved at Each Timestep\n",
    "We want the amount moved to each site over time"
   ]
  },
  {
   "cell_type": "code",
   "execution_count": 5,
   "id": "bc1bdcb9-28ad-47e5-8511-c8c6895ca1ef",
   "metadata": {},
   "outputs": [],
   "source": [
    "all_tasks['data_inputs'] = all_tasks['message_sizes'].apply(lambda x: eval(x).get('inputs'))"
   ]
  },
  {
   "cell_type": "code",
   "execution_count": 6,
   "id": "a6a90777-2ca2-446b-aa76-0a0168140460",
   "metadata": {},
   "outputs": [],
   "source": [
    "all_tasks['data_value'] = all_tasks['message_sizes'].apply(lambda x: eval(x).get('value'))"
   ]
  },
  {
   "cell_type": "markdown",
   "id": "5094f2e9-111e-4eec-bdd6-226166e6f2e2",
   "metadata": {},
   "source": [
    "Add it to the utilization dataframe"
   ]
  },
  {
   "cell_type": "code",
   "execution_count": 7,
   "id": "c9d03f55-b508-45f9-96b9-db75ad541446",
   "metadata": {},
   "outputs": [],
   "source": [
    "def get_total_data_moved(timestamp: float, tasks: pd.DataFrame):\n",
    "    \"\"\"Gather how much data was moved before a certain timestamp\n",
    "    \n",
    "    Args:\n",
    "        timestamp: Time at which to make measurement\n",
    "        tasks: Subset of the tasks to consider\n",
    "    Returns:\n",
    "        How much data has been moved (units: bytes)\n",
    "    \"\"\"\n",
    "    \n",
    "    total_inputs = tasks[tasks['time_compute_started'] < timestamp]['data_inputs'].sum()\n",
    "    total_values = tasks[tasks['time_result_received'] < timestamp]['data_value'].sum()\n",
    "    return total_inputs + total_values"
   ]
  },
  {
   "cell_type": "code",
   "execution_count": 8,
   "id": "867c5f88-1c8b-4228-a5b8-3c53ef5856c1",
   "metadata": {},
   "outputs": [
    {
     "data": {
      "text/plain": [
       "213.11662"
      ]
     },
     "execution_count": 8,
     "metadata": {},
     "output_type": "execute_result"
    }
   ],
   "source": [
    "get_total_data_moved(utilization['timestamp'].iloc[50], all_tasks) / 1e6"
   ]
  },
  {
   "cell_type": "markdown",
   "id": "8eaf5359-05bf-40ca-9a27-383b3f4fd456",
   "metadata": {},
   "source": [
    "Separate into CPU and GPU tasks"
   ]
  },
  {
   "cell_type": "code",
   "execution_count": 9,
   "id": "8a3011c3-9564-4b4d-8cf4-5675cbe216a0",
   "metadata": {},
   "outputs": [],
   "source": [
    "gpu_tasks = all_tasks[all_tasks['method'].apply(lambda x: x in ['train', 'evaluate'])]\n",
    "cpu_tasks = all_tasks[all_tasks['method'].apply(lambda x: x in ['run_calculator', 'run_sampling'])]\n",
    "assert len(gpu_tasks) + len(cpu_tasks) == len(all_tasks)"
   ]
  },
  {
   "cell_type": "markdown",
   "id": "0107aec5-fd4f-407c-a271-3ee30055ef9c",
   "metadata": {},
   "source": [
    "Compute the data moved at each time"
   ]
  },
  {
   "cell_type": "code",
   "execution_count": 10,
   "id": "093dc917-d44d-4763-bbe4-017d5d149ec0",
   "metadata": {},
   "outputs": [
    {
     "name": "stdout",
     "output_type": "stream",
     "text": [
      "CPU times: user 582 ms, sys: 1.06 ms, total: 583 ms\n",
      "Wall time: 562 ms\n"
     ]
    }
   ],
   "source": [
    "%%time\n",
    "utilization['data_to_gpu'] = utilization['timestamp'].apply(lambda x: get_total_data_moved(x, gpu_tasks))"
   ]
  },
  {
   "cell_type": "code",
   "execution_count": 11,
   "id": "99aae352-94da-466d-b389-dca637eac9b7",
   "metadata": {},
   "outputs": [],
   "source": [
    "utilization['data_to_cpu'] = utilization['timestamp'].apply(lambda x: get_total_data_moved(x, cpu_tasks))"
   ]
  },
  {
   "cell_type": "markdown",
   "id": "bb13d5d0-3645-4b67-b60e-661637a17c71",
   "metadata": {},
   "source": [
    "## Plot CPU and GPU on Separate Subplots\n",
    "So that we can show them more clearly"
   ]
  },
  {
   "cell_type": "code",
   "execution_count": 13,
   "id": "c27bd748-0f24-48b9-b692-a7f0c0c7f2a1",
   "metadata": {},
   "outputs": [
    {
     "data": {
      "image/png": "[encoded data removed]",
      "text/plain": [
       "<Figure size 350x200 with 2 Axes>"
      ]
     },
     "metadata": {},
     "output_type": "display_data"
    }
   ],
   "source": [
    "fig, axs = plt.subplots(2, 1, figsize=(3.5, 2.), sharex=True, sharey=True)\n",
    "\n",
    "# Plot the CPU tasks\n",
    "ax = axs[1]\n",
    "task_types = ['simulation', 'sampling']\n",
    "for i, task_type in enumerate(task_types):\n",
    "    other_types = utilization[task_types[:i]].sum(axis=1)\n",
    "    ax.fill_between(utilization['walltime'] / 3600, other_types, utilization[task_type] + other_types, \n",
    "                    color=colors[task_type], edgecolor='none',\n",
    "                    step='post', label=task_type.capitalize())\n",
    "ax.set_ylabel('Active Workers', y=1, horizontalalignment='center')\n",
    "\n",
    "    \n",
    "# Plot the GPU tasks\n",
    "ax = axs[0]\n",
    "task_types = ['training', 'inference']\n",
    "for i, task_type in enumerate(task_types):\n",
    "    other_types = utilization[task_types[:i]].sum(axis=1)\n",
    "    ax.fill_between(utilization['walltime'] / 3600, other_types, utilization[task_type] + other_types,\n",
    "                    color=colors[task_type], edgecolor='none',\n",
    "                    step='post', label=task_type.capitalize())\n",
    "\n",
    "# Plot the axes\n",
    "axs[1].set_xlabel('Walltime (hr)')\n",
    "axs[1].set_xlim(0, 3.5)\n",
    "fig.legend(ncol=4, loc=[0.15, 0.55], alignment='center', fontsize=6.5, columnspacing=1, framealpha=1)\n",
    "ax.set_ylim(0, 8)\n",
    "ax.set_yticks([0, 4, 8])\n",
    "\n",
    "fig.tight_layout()\n",
    "fig.savefig('figures/resource-utilization.png')"
   ]
  },
  {
   "cell_type": "markdown",
   "id": "9bc15b14-c3a0-4b7d-aa6c-4be8933f057a",
   "metadata": {},
   "source": [
    "## Plot the Data Movement\n",
    "As it's own separate plot"
   ]
  },
  {
   "cell_type": "code",
   "execution_count": 14,
   "id": "9e71c6aa-7def-423a-9dac-94559123c5c3",
   "metadata": {},
   "outputs": [
    {
     "data": {
      "image/png": "[encoded data removed]",
      "text/plain": [
       "<Figure size 350x150 with 1 Axes>"
      ]
     },
     "metadata": {},
     "output_type": "display_data"
    }
   ],
   "source": [
    "fig, ax = plt.subplots(figsize=(3.5, 1.5))\n",
    "\n",
    "ax.plot(utilization['walltime'], utilization['data_to_gpu'] / 1e9, label='GPU')\n",
    "ax.plot(utilization['walltime'], utilization['data_to_cpu'] / 1e9, label='CPU')\n",
    "ax.set_xlabel('Walltime (s)')\n",
    "ax.set_ylabel('Data Moved (GiB)')\n",
    "\n",
    "fig.tight_layout()"
   ]
  },
  {
   "cell_type": "markdown",
   "id": "9d54fb06-e866-4dfb-a9ac-e6d0a317979f",
   "metadata": {},
   "source": [
    "## A combined plot\n",
    "To save space"
   ]
  },
  {
   "cell_type": "code",
   "execution_count": 22,
   "id": "e03df009-fd31-439b-a7f6-cb61285cf432",
   "metadata": {},
   "outputs": [
    {
     "data": {
      "image/png": "[encoded data removed]",
      "text/plain": [
       "<Figure size 350x200 with 3 Axes>"
      ]
     },
     "metadata": {},
     "output_type": "display_data"
    }
   ],
   "source": [
    "fig, axs = plt.subplots(3, 1, figsize=(3.5, 2.), sharex=True, sharey=False)\n",
    "\n",
    "fig.subplots_adjust(hspace=0, top=1)\n",
    "\n",
    "## Utilization\n",
    "util_handles = []\n",
    "# Plot the CPU tasks\n",
    "ax = axs[1]\n",
    "task_types = ['simulation', 'sampling']\n",
    "\n",
    "for i, task_type in enumerate(task_types):\n",
    "    other_types = utilization[task_types[:i]].sum(axis=1)\n",
    "    handle = ax.fill_between(utilization['walltime'] / 3600, other_types, utilization[task_type] + other_types, \n",
    "                             color=colors[task_type], edgecolor='none',\n",
    "                             step='post', label=task_type.capitalize())\n",
    "    util_handles.append(handle)\n",
    "ax.set_ylabel('Active Workers', y=1.2, horizontalalignment='center')\n",
    "ax.set_ylim([0, 8])\n",
    "ax.set_yticks([0, 4, 8])\n",
    "ax.text(.9, 0.95, 'CPU', fontsize=7, va='top', bbox=dict(boxstyle=\"round\", fc='white'),\n",
    "       transform=ax.transAxes)\n",
    "    \n",
    "# Plot the GPU tasks\n",
    "ax = axs[0]\n",
    "task_types = ['training', 'inference']\n",
    "for i, task_type in enumerate(task_types):\n",
    "    other_types = utilization[task_types[:i]].sum(axis=1)\n",
    "    handle = ax.fill_between(utilization['walltime'] / 3600, other_types, utilization[task_type] + other_types,\n",
    "                             color=colors[task_type], edgecolor='none',\n",
    "                             step='post', label=task_type.capitalize())\n",
    "    util_handles.append(handle)\n",
    "ax.set_ylim(0, 8)\n",
    "ax.set_yticks([0, 4, 8])\n",
    "fig.legend(handles=util_handles, \n",
    "           ncol=4, loc=[0.1, 0.64], alignment='center', fontsize=6.5, columnspacing=1, framealpha=1)\n",
    "ax.text(.9, 0.95, 'GPU', fontsize=7, va='top', bbox=dict(boxstyle=\"round\", fc='white'),\n",
    "       transform=ax.transAxes)\n",
    "    \n",
    "## Data Movement\n",
    "ax = axs[2]\n",
    "ax.plot(utilization['walltime'] / 3600, utilization['data_to_gpu'] / 1e9, label='GPU', color='crimson')\n",
    "ax.plot(utilization['walltime'] / 3600, utilization['data_to_cpu'] / 1e9, label='CPU', color='indigo')\n",
    "ax.legend(fontsize=6.5, ncol=2)\n",
    "ax.set_ylabel('Data (GB)')\n",
    "\n",
    "# Plot the axes\n",
    "axs[-1].set_xlabel('Walltime (hr)')\n",
    "axs[1].set_xlim(0, 3)\n",
    "\n",
    "axs[0].set_title('Surrogate Finetuning', fontsize=8, fontweight='bold', loc='left')\n",
    "fig.tight_layout(pad=0.2)\n",
    "fig.savefig('figures/resource-utilization-and-data.png', dpi=320)\n",
    "fig.savefig('figures/resource-utilization-and-data.pdf', dpi=320)"
   ]
  },
  {
   "cell_type": "code",
   "execution_count": null,
   "id": "4fbb2d42-a9a5-4e7e-b147-d48c4091bdc1",
   "metadata": {},
   "outputs": [],
   "source": []
  }
 ],
 "metadata": {
  "kernelspec": {
   "display_name": "Python 3 (ipykernel)",
   "language": "python",
   "name": "python3"
  },
  "language_info": {
   "codemirror_mode": {
    "name": "ipython",
    "version": 3
   },
   "file_extension": ".py",
   "mimetype": "text/x-python",
   "name": "python",
   "nbconvert_exporter": "python",
   "pygments_lexer": "ipython3",
   "version": "3.10.8"
  }
 },
 "nbformat": 4,
 "nbformat_minor": 5
}
