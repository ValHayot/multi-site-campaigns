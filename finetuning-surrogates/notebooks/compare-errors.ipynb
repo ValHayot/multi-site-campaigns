{
 "cells": [
  {
   "cell_type": "markdown",
   "id": "deaf6928-0b63-43b2-a9d8-e3700dbf7db8",
   "metadata": {},
   "source": [
    "# Compare Model Performance\n",
    "Get the performance of the models across"
   ]
  },
  {
   "cell_type": "code",
   "execution_count": 1,
   "id": "bc58a5a9-421c-4fe5-8183-83c7292def29",
   "metadata": {
    "tags": []
   },
   "outputs": [],
   "source": [
    "%matplotlib inline\n",
    "from matplotlib import pyplot as plt\n",
    "from scipy.stats import sem\n",
    "from pathlib import Path\n",
    "import pandas as pd\n",
    "import numpy as np\n",
    "import json"
   ]
  },
  {
   "cell_type": "markdown",
   "id": "a81608e2-0458-48f5-8056-c11d1166a6dc",
   "metadata": {},
   "source": [
    "Configuration"
   ]
  },
  {
   "cell_type": "code",
   "execution_count": 2,
   "id": "6e4f371a-3a6c-4a05-874b-a58d32055582",
   "metadata": {
    "tags": []
   },
   "outputs": [],
   "source": [
    "runs = {\n",
    "    'Parsl': Path('./prod-runs/baseline_retrain-8/'),\n",
    "    'Parsl+Redis': Path('./prod-runs/parsl_retrain-8/'),\n",
    "    'FuncX+Globus': Path('./prod-runs/funcx_retrain-8/'),\n",
    "}"
   ]
  },
  {
   "cell_type": "markdown",
   "id": "77ad495b-5a05-4644-b2ee-2400533ff2fd",
   "metadata": {},
   "source": [
    "## Load in Benchmarking Dataframes\n",
    "We stored the results of each dataframe"
   ]
  },
  {
   "cell_type": "code",
   "execution_count": 3,
   "id": "1e099400-f53f-483d-9de1-c0254c7df956",
   "metadata": {
    "tags": []
   },
   "outputs": [],
   "source": [
    "results = dict(\n",
    "    (k, pd.read_csv(v / 'processed-results' / 'benchmark.csv')) for k, v in runs.items()\n",
    ")"
   ]
  },
  {
   "cell_type": "markdown",
   "id": "df519508-f5a5-4164-8525-e4ee8a7fe3a4",
   "metadata": {},
   "source": [
    "Get the mean from the duplicate runs"
   ]
  },
  {
   "cell_type": "code",
   "execution_count": 4,
   "id": "8a1120ce-e424-44c0-a2bd-25abc5d1eeba",
   "metadata": {
    "tags": []
   },
   "outputs": [],
   "source": [
    "observed_rmsd = {}\n",
    "for k, path in runs.items():\n",
    "    # Get the duplicates\n",
    "    with open(path / 'duplicates.json') as fp:\n",
    "        dupes = json.load(fp)\n",
    "    \n",
    "    # Compute the mean RMSD for each run\n",
    "    means = []\n",
    "    for path in dupes:\n",
    "        data = pd.read_csv(Path(path) / 'processed-results' / 'benchmark.csv')\n",
    "        means.append(data['force_rmsd'].mean())\n",
    "    observed_rmsd[k] = means"
   ]
  },
  {
   "cell_type": "code",
   "execution_count": 5,
   "id": "2ab4440e-8471-4941-b631-56b86d420fe9",
   "metadata": {
    "tags": []
   },
   "outputs": [
    {
     "data": {
      "text/plain": [
       "{'Parsl': [1.6477820162070715,\n",
       "  1.6386614785025817,\n",
       "  1.573603471620391,\n",
       "  2.1058956722061724],\n",
       " 'Parsl+Redis': [1.584983679625605,\n",
       "  2.0909248850728868,\n",
       "  1.3229246988174466,\n",
       "  1.46946533808315],\n",
       " 'FuncX+Globus': [1.6055118157204953,\n",
       "  1.3993035185827185,\n",
       "  1.8110018285929332,\n",
       "  1.4564077622014178]}"
      ]
     },
     "execution_count": 5,
     "metadata": {},
     "output_type": "execute_result"
    }
   ],
   "source": [
    "observed_rmsd"
   ]
  },
  {
   "cell_type": "markdown",
   "id": "5b051f07-0f57-45f5-be82-54471ed64227",
   "metadata": {},
   "source": [
    "## Make a histogram\n",
    "Show the distribution of errors for one of the runs"
   ]
  },
  {
   "cell_type": "code",
   "execution_count": 6,
   "id": "7a9c790a-a083-4317-bd58-37a4556691ba",
   "metadata": {
    "tags": []
   },
   "outputs": [
    {
     "name": "stdout",
     "output_type": "stream",
     "text": [
      "Parsl 1.741485659634054 0.12258747602287764\n",
      "Parsl+Redis 1.617074650399772 0.16680242264514247\n",
      "FuncX+Globus 1.5680562312743913 0.09190953103904194\n",
      "init 1.7904648965584313\n"
     ]
    },
    {
     "data": {
      "image/png": "[encoded data removed]",
      "text/plain": [
       "<Figure size 350x175 with 1 Axes>"
      ]
     },
     "metadata": {},
     "output_type": "display_data"
    }
   ],
   "source": [
    "fig, ax = plt.subplots(figsize=(3.5, 1.75))\n",
    "\n",
    "colors = {\n",
    "    'Parsl': 'steelblue',\n",
    "    'FuncX+Globus': 'crimson',\n",
    "    'Parsl+Redis': 'indigo'\n",
    "}\n",
    "\n",
    "bins = np.linspace(0, 10, 32)\n",
    "stack_dist = 0.75\n",
    "for i, (name, result) in enumerate(results.items()):\n",
    "    ax.hist(result['force_rmsd'], density=True, color=colors[name], bins=bins, label=name, bottom=i * stack_dist)\n",
    "    mean = result['force_rmsd'].mean()\n",
    "    ax.text(bins.mean(), i * stack_dist + stack_dist / 4, f'Mean: {mean:.2f} eV/$\\\\AA$', fontsize=8)\n",
    "    print(name, np.mean(observed_rmsd[name]), sem(observed_rmsd[name]))\n",
    "    \n",
    "print('init', result['force_rmsd-init'].mean())\n",
    "\n",
    "fig.legend(ncol=3, fontsize=8, loc='upper center')\n",
    "\n",
    "ax.set_yticks([])\n",
    "ax.set_xlim(0, bins.max())\n",
    "ax.set_ylim(0, stack_dist * 3)\n",
    "\n",
    "ax.set_ylabel('Freq.')\n",
    "ax.set_xlabel('RMSD (eV/$\\\\AA$)')\n",
    "ax.text(1, 0.1, '(b)', ha='right', va='bottom', transform=ax.transAxes, fontsize=8)\n",
    "\n",
    "fig.tight_layout()\n",
    "fig.savefig('figures/error-comparison.png', dpi=320)\n",
    "fig.savefig('figures/error-comparison.pdf')"
   ]
  },
  {
   "cell_type": "markdown",
   "id": "a4bf56e2-0b01-4cce-8207-93fb0ced07c0",
   "metadata": {},
   "source": [
    "## Make a Bar Chart\n",
    "So we can show the error with respect to the original"
   ]
  },
  {
   "cell_type": "code",
   "execution_count": 7,
   "id": "27f3d51d-9dea-49d1-a532-0f8a97fd118b",
   "metadata": {
    "tags": []
   },
   "outputs": [
    {
     "name": "stdout",
     "output_type": "stream",
     "text": [
      "[1.741485659634054, 1.617074650399772, 1.5680562312743913] [0.12258747602287764, 0.16680242264514247, 0.09190953103904194]\n"
     ]
    },
    {
     "data": {
      "image/png": "[encoded data removed]",
      "text/plain": [
       "<Figure size 350x115 with 1 Axes>"
      ]
     },
     "metadata": {},
     "output_type": "display_data"
    }
   ],
   "source": [
    "fig, ax = plt.subplots(figsize=(3.5, 1.15))\n",
    "\n",
    "stack_dist = 0.75\n",
    "\n",
    "# Make the bar plot\n",
    "name_lst = list(results.keys())\n",
    "lengths = [np.mean(observed_rmsd[k]) for k in results]\n",
    "errs = [sem(observed_rmsd[k]) for k in results]\n",
    "colors_lst = [colors[k] for k in results]\n",
    "\n",
    "ax.barh([0, 1, 2], lengths, color=colors_lst, xerr=errs, ecolor='gray')\n",
    "print(lengths, errs)\n",
    "\n",
    "ax.set_ylim(ax.get_ylim())\n",
    "ax.set_yticks(range(3))\n",
    "ax.set_yticklabels(results)\n",
    "ax.set_xlim([0, 2])#  np.add(lengths, errs).max()])\n",
    "\n",
    "ax.plot([result['force_rmsd-init'].mean()]*2, ax.get_ylim(), 'k:', lw=1)\n",
    "\n",
    "ax.set_xlabel('RMSD (eV/$\\\\AA$)')\n",
    "ax.text(0.99, 0.95, '(a)', ha='right', va='top', transform=ax.transAxes, fontsize=8)\n",
    "\n",
    "fig.tight_layout()\n",
    "fig.savefig('figures/error-comparison-barh.png', dpi=320)\n",
    "fig.savefig('figures/error-comparison-barh.pdf')"
   ]
  },
  {
   "cell_type": "code",
   "execution_count": null,
   "id": "a7a53dbe-77ad-4ea2-85c3-dc2d4c3e522a",
   "metadata": {},
   "outputs": [],
   "source": []
  }
 ],
 "metadata": {
  "kernelspec": {
   "display_name": "Python 3 (ipykernel)",
   "language": "python",
   "name": "python3"
  },
  "language_info": {
   "codemirror_mode": {
    "name": "ipython",
    "version": 3
   },
   "file_extension": ".py",
   "mimetype": "text/x-python",
   "name": "python",
   "nbconvert_exporter": "python",
   "pygments_lexer": "ipython3",
   "version": "3.9.16"
  }
 },
 "nbformat": 4,
 "nbformat_minor": 5
}
