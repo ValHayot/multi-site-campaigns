{
 "cells": [
  {
   "cell_type": "markdown",
   "id": "b997a5bf-4057-4bbc-943d-7ab83d59d7ed",
   "metadata": {},
   "source": [
    "# Assess Task Compute Time and Data Sizes\n",
    "To get a better idea how they are each different and provide quantitative descriptions in the paper"
   ]
  },
  {
   "cell_type": "code",
   "execution_count": 1,
   "id": "345d4f36-8187-4726-8728-d8228282ed5b",
   "metadata": {},
   "outputs": [],
   "source": [
    "from pathlib import Path\n",
    "import pandas as pd\n",
    "import json"
   ]
  },
  {
   "cell_type": "markdown",
   "id": "485f43b9-a3ca-4e14-9f51-9a68d3361836",
   "metadata": {},
   "source": [
    "Configuration"
   ]
  },
  {
   "cell_type": "code",
   "execution_count": 2,
   "id": "989c7c5e-1e75-4a92-8c2d-1bc8c74fcc69",
   "metadata": {},
   "outputs": [],
   "source": [
    "run_dir = Path('prod-runs/baseline_retrain-8/')"
   ]
  },
  {
   "cell_type": "markdown",
   "id": "ca3d2be9-589e-4da5-9dc2-3f25ae4ac331",
   "metadata": {},
   "source": [
    "## Load in Each Type of Task\n",
    "We'll need the runtimes and method sizes"
   ]
  },
  {
   "cell_type": "code",
   "execution_count": 3,
   "id": "7d3613ce-b1fb-4ddf-b3ab-04804647d02a",
   "metadata": {},
   "outputs": [],
   "source": [
    "tasks = []\n",
    "for path in run_dir.glob('*-results.json'):\n",
    "    records = pd.read_json(path, lines=True)\n",
    "    records['total_size'] = records['message_sizes'].apply(lambda x: sum(x.values())) / 1e6\n",
    "    tasks.append(records[['method', 'time_running', 'total_size', 'message_sizes']])\n",
    "tasks = pd.concat(tasks)"
   ]
  },
  {
   "cell_type": "markdown",
   "id": "c94b14a3-d8dd-4a59-8da0-26280b5ba612",
   "metadata": {},
   "source": [
    "## Group by Mean\n",
    "Print out the statistics"
   ]
  },
  {
   "cell_type": "code",
   "execution_count": 4,
   "id": "193bb53b-e816-4b84-9456-315d41f07e62",
   "metadata": {},
   "outputs": [
    {
     "data": {
      "text/html": [
       "<div>\n",
       "<style scoped>\n",
       "    .dataframe tbody tr th:only-of-type {\n",
       "        vertical-align: middle;\n",
       "    }\n",
       "\n",
       "    .dataframe tbody tr th {\n",
       "        vertical-align: top;\n",
       "    }\n",
       "\n",
       "    .dataframe thead tr th {\n",
       "        text-align: left;\n",
       "    }\n",
       "\n",
       "    .dataframe thead tr:last-of-type th {\n",
       "        text-align: right;\n",
       "    }\n",
       "</style>\n",
       "<table border=\"1\" class=\"dataframe\">\n",
       "  <thead>\n",
       "    <tr>\n",
       "      <th></th>\n",
       "      <th colspan=\"6\" halign=\"left\">time_running</th>\n",
       "      <th colspan=\"6\" halign=\"left\">total_size</th>\n",
       "    </tr>\n",
       "    <tr>\n",
       "      <th></th>\n",
       "      <th>count</th>\n",
       "      <th>mean</th>\n",
       "      <th>std</th>\n",
       "      <th>min</th>\n",
       "      <th>50%</th>\n",
       "      <th>max</th>\n",
       "      <th>count</th>\n",
       "      <th>mean</th>\n",
       "      <th>std</th>\n",
       "      <th>min</th>\n",
       "      <th>50%</th>\n",
       "      <th>max</th>\n",
       "    </tr>\n",
       "    <tr>\n",
       "      <th>method</th>\n",
       "      <th></th>\n",
       "      <th></th>\n",
       "      <th></th>\n",
       "      <th></th>\n",
       "      <th></th>\n",
       "      <th></th>\n",
       "      <th></th>\n",
       "      <th></th>\n",
       "      <th></th>\n",
       "      <th></th>\n",
       "      <th></th>\n",
       "      <th></th>\n",
       "    </tr>\n",
       "  </thead>\n",
       "  <tbody>\n",
       "    <tr>\n",
       "      <th>evaluate</th>\n",
       "      <td>24.0</td>\n",
       "      <td>1.299441</td>\n",
       "      <td>0.115573</td>\n",
       "      <td>1.167516</td>\n",
       "      <td>1.276802</td>\n",
       "      <td>1.548957</td>\n",
       "      <td>24.0</td>\n",
       "      <td>9.920089</td>\n",
       "      <td>0.130585</td>\n",
       "      <td>9.751855</td>\n",
       "      <td>9.946885</td>\n",
       "      <td>10.061527</td>\n",
       "    </tr>\n",
       "    <tr>\n",
       "      <th>run_calculator</th>\n",
       "      <td>212.0</td>\n",
       "      <td>364.078799</td>\n",
       "      <td>300.695078</td>\n",
       "      <td>7.020325</td>\n",
       "      <td>315.904662</td>\n",
       "      <td>1077.205258</td>\n",
       "      <td>215.0</td>\n",
       "      <td>0.019430</td>\n",
       "      <td>0.007756</td>\n",
       "      <td>0.005884</td>\n",
       "      <td>0.021130</td>\n",
       "      <td>0.031874</td>\n",
       "    </tr>\n",
       "    <tr>\n",
       "      <th>run_sampling</th>\n",
       "      <td>146.0</td>\n",
       "      <td>10.024775</td>\n",
       "      <td>4.893819</td>\n",
       "      <td>1.054254</td>\n",
       "      <td>11.555648</td>\n",
       "      <td>17.632953</td>\n",
       "      <td>146.0</td>\n",
       "      <td>3.290176</td>\n",
       "      <td>0.119985</td>\n",
       "      <td>3.103596</td>\n",
       "      <td>3.301844</td>\n",
       "      <td>3.552560</td>\n",
       "    </tr>\n",
       "    <tr>\n",
       "      <th>train</th>\n",
       "      <td>88.0</td>\n",
       "      <td>262.904165</td>\n",
       "      <td>6.502937</td>\n",
       "      <td>251.004341</td>\n",
       "      <td>261.928531</td>\n",
       "      <td>275.500636</td>\n",
       "      <td>88.0</td>\n",
       "      <td>20.947684</td>\n",
       "      <td>0.611232</td>\n",
       "      <td>19.986104</td>\n",
       "      <td>20.934614</td>\n",
       "      <td>21.918548</td>\n",
       "    </tr>\n",
       "  </tbody>\n",
       "</table>\n",
       "</div>"
      ],
      "text/plain": [
       "               time_running                                                  \\\n",
       "                      count        mean         std         min         50%   \n",
       "method                                                                        \n",
       "evaluate               24.0    1.299441    0.115573    1.167516    1.276802   \n",
       "run_calculator        212.0  364.078799  300.695078    7.020325  315.904662   \n",
       "run_sampling          146.0   10.024775    4.893819    1.054254   11.555648   \n",
       "train                  88.0  262.904165    6.502937  251.004341  261.928531   \n",
       "\n",
       "                            total_size                                  \\\n",
       "                        max      count       mean       std        min   \n",
       "method                                                                   \n",
       "evaluate           1.548957       24.0   9.920089  0.130585   9.751855   \n",
       "run_calculator  1077.205258      215.0   0.019430  0.007756   0.005884   \n",
       "run_sampling      17.632953      146.0   3.290176  0.119985   3.103596   \n",
       "train            275.500636       88.0  20.947684  0.611232  19.986104   \n",
       "\n",
       "                                      \n",
       "                      50%        max  \n",
       "method                                \n",
       "evaluate         9.946885  10.061527  \n",
       "run_calculator   0.021130   0.031874  \n",
       "run_sampling     3.301844   3.552560  \n",
       "train           20.934614  21.918548  "
      ]
     },
     "execution_count": 4,
     "metadata": {},
     "output_type": "execute_result"
    }
   ],
   "source": [
    "tasks.groupby('method').describe(percentiles=[0.5])"
   ]
  },
  {
   "cell_type": "markdown",
   "id": "3b7d26f6-6152-45b5-b42b-74b2db7949d1",
   "metadata": {},
   "source": [
    "## Get the size of the inference task\n",
    "How many structures per chunk"
   ]
  },
  {
   "cell_type": "code",
   "execution_count": 5,
   "id": "f157b7cd-8d03-4147-a588-361ba523e2f9",
   "metadata": {},
   "outputs": [],
   "source": [
    "with (run_dir / 'runparams.json').open() as fp:\n",
    "    config = json.load(fp)"
   ]
  },
  {
   "cell_type": "code",
   "execution_count": 6,
   "id": "88127aad-9c9b-4e3d-b9b2-564cb3358512",
   "metadata": {},
   "outputs": [
    {
     "data": {
      "text/plain": [
       "500"
      ]
     },
     "execution_count": 6,
     "metadata": {},
     "output_type": "execute_result"
    }
   ],
   "source": [
    "config['infer_chunk_size']"
   ]
  },
  {
   "cell_type": "code",
   "execution_count": null,
   "id": "5754a366-3541-4ccf-bf6e-7ff99d7245db",
   "metadata": {},
   "outputs": [],
   "source": []
  }
 ],
 "metadata": {
  "kernelspec": {
   "display_name": "Python 3 (ipykernel)",
   "language": "python",
   "name": "python3"
  },
  "language_info": {
   "codemirror_mode": {
    "name": "ipython",
    "version": 3
   },
   "file_extension": ".py",
   "mimetype": "text/x-python",
   "name": "python",
   "nbconvert_exporter": "python",
   "pygments_lexer": "ipython3",
   "version": "3.10.8"
  }
 },
 "nbformat": 4,
 "nbformat_minor": 5
}
