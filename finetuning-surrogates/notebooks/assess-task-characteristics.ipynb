{
 "cells": [
  {
   "cell_type": "markdown",
   "id": "b997a5bf-4057-4bbc-943d-7ab83d59d7ed",
   "metadata": {},
   "source": [
    "# Assess Task Compute Time and Data Sizes\n",
    "To get a better idea how they are each different and provide quantitative descriptions in the paper"
   ]
  },
  {
   "cell_type": "code",
   "execution_count": 1,
   "id": "345d4f36-8187-4726-8728-d8228282ed5b",
   "metadata": {},
   "outputs": [],
   "source": [
    "from pathlib import Path\n",
    "import pandas as pd\n",
    "import json"
   ]
  },
  {
   "cell_type": "markdown",
   "id": "485f43b9-a3ca-4e14-9f51-9a68d3361836",
   "metadata": {},
   "source": [
    "Configuration"
   ]
  },
  {
   "cell_type": "code",
   "execution_count": 2,
   "id": "989c7c5e-1e75-4a92-8c2d-1bc8c74fcc69",
   "metadata": {},
   "outputs": [],
   "source": [
    "run_dir = Path('prod-runs/baseline_retrain-20/')"
   ]
  },
  {
   "cell_type": "markdown",
   "id": "ca3d2be9-589e-4da5-9dc2-3f25ae4ac331",
   "metadata": {},
   "source": [
    "## Load in Each Type of Task\n",
    "We'll need the runtimes and method sizes"
   ]
  },
  {
   "cell_type": "code",
   "execution_count": 3,
   "id": "7d3613ce-b1fb-4ddf-b3ab-04804647d02a",
   "metadata": {},
   "outputs": [],
   "source": [
    "tasks = []\n",
    "for path in run_dir.glob('*-results.json'):\n",
    "    records = pd.read_json(path, lines=True)\n",
    "    records['total_size'] = records['message_sizes'].apply(lambda x: sum(x.values())) / 1e6\n",
    "    tasks.append(records[['method', 'time_running', 'total_size', 'message_sizes']])\n",
    "tasks = pd.concat(tasks)"
   ]
  },
  {
   "cell_type": "markdown",
   "id": "c94b14a3-d8dd-4a59-8da0-26280b5ba612",
   "metadata": {},
   "source": [
    "## Group by Mean\n",
    "Print out the statistics"
   ]
  },
  {
   "cell_type": "code",
   "execution_count": 4,
   "id": "193bb53b-e816-4b84-9456-315d41f07e62",
   "metadata": {},
   "outputs": [
    {
     "data": {
      "text/html": [
       "<div>\n",
       "<style scoped>\n",
       "    .dataframe tbody tr th:only-of-type {\n",
       "        vertical-align: middle;\n",
       "    }\n",
       "\n",
       "    .dataframe tbody tr th {\n",
       "        vertical-align: top;\n",
       "    }\n",
       "\n",
       "    .dataframe thead tr th {\n",
       "        text-align: left;\n",
       "    }\n",
       "\n",
       "    .dataframe thead tr:last-of-type th {\n",
       "        text-align: right;\n",
       "    }\n",
       "</style>\n",
       "<table border=\"1\" class=\"dataframe\">\n",
       "  <thead>\n",
       "    <tr>\n",
       "      <th></th>\n",
       "      <th colspan=\"6\" halign=\"left\">time_running</th>\n",
       "      <th colspan=\"6\" halign=\"left\">total_size</th>\n",
       "    </tr>\n",
       "    <tr>\n",
       "      <th></th>\n",
       "      <th>count</th>\n",
       "      <th>mean</th>\n",
       "      <th>std</th>\n",
       "      <th>min</th>\n",
       "      <th>50%</th>\n",
       "      <th>max</th>\n",
       "      <th>count</th>\n",
       "      <th>mean</th>\n",
       "      <th>std</th>\n",
       "      <th>min</th>\n",
       "      <th>50%</th>\n",
       "      <th>max</th>\n",
       "    </tr>\n",
       "    <tr>\n",
       "      <th>method</th>\n",
       "      <th></th>\n",
       "      <th></th>\n",
       "      <th></th>\n",
       "      <th></th>\n",
       "      <th></th>\n",
       "      <th></th>\n",
       "      <th></th>\n",
       "      <th></th>\n",
       "      <th></th>\n",
       "      <th></th>\n",
       "      <th></th>\n",
       "      <th></th>\n",
       "    </tr>\n",
       "  </thead>\n",
       "  <tbody>\n",
       "    <tr>\n",
       "      <th>evaluate</th>\n",
       "      <td>24.0</td>\n",
       "      <td>1.193537</td>\n",
       "      <td>0.080184</td>\n",
       "      <td>1.076494</td>\n",
       "      <td>1.167433</td>\n",
       "      <td>1.358199</td>\n",
       "      <td>24.0</td>\n",
       "      <td>9.730499</td>\n",
       "      <td>0.276886</td>\n",
       "      <td>9.365479</td>\n",
       "      <td>9.811633</td>\n",
       "      <td>10.014385</td>\n",
       "    </tr>\n",
       "    <tr>\n",
       "      <th>run_calculator</th>\n",
       "      <td>209.0</td>\n",
       "      <td>367.582606</td>\n",
       "      <td>312.969203</td>\n",
       "      <td>8.625638</td>\n",
       "      <td>299.034220</td>\n",
       "      <td>1075.854432</td>\n",
       "      <td>211.0</td>\n",
       "      <td>0.019898</td>\n",
       "      <td>0.007965</td>\n",
       "      <td>0.005874</td>\n",
       "      <td>0.021278</td>\n",
       "      <td>0.031866</td>\n",
       "    </tr>\n",
       "    <tr>\n",
       "      <th>run_sampling</th>\n",
       "      <td>144.0</td>\n",
       "      <td>11.614806</td>\n",
       "      <td>8.853649</td>\n",
       "      <td>1.169105</td>\n",
       "      <td>10.293323</td>\n",
       "      <td>36.362183</td>\n",
       "      <td>144.0</td>\n",
       "      <td>3.306343</td>\n",
       "      <td>0.181427</td>\n",
       "      <td>3.103596</td>\n",
       "      <td>3.275466</td>\n",
       "      <td>3.981202</td>\n",
       "    </tr>\n",
       "    <tr>\n",
       "      <th>train</th>\n",
       "      <td>80.0</td>\n",
       "      <td>258.351150</td>\n",
       "      <td>7.254764</td>\n",
       "      <td>245.876419</td>\n",
       "      <td>258.610408</td>\n",
       "      <td>272.921305</td>\n",
       "      <td>80.0</td>\n",
       "      <td>20.830953</td>\n",
       "      <td>0.549740</td>\n",
       "      <td>19.986104</td>\n",
       "      <td>20.807840</td>\n",
       "      <td>21.725822</td>\n",
       "    </tr>\n",
       "  </tbody>\n",
       "</table>\n",
       "</div>"
      ],
      "text/plain": [
       "               time_running                                                  \\\n",
       "                      count        mean         std         min         50%   \n",
       "method                                                                        \n",
       "evaluate               24.0    1.193537    0.080184    1.076494    1.167433   \n",
       "run_calculator        209.0  367.582606  312.969203    8.625638  299.034220   \n",
       "run_sampling          144.0   11.614806    8.853649    1.169105   10.293323   \n",
       "train                  80.0  258.351150    7.254764  245.876419  258.610408   \n",
       "\n",
       "                            total_size                                  \\\n",
       "                        max      count       mean       std        min   \n",
       "method                                                                   \n",
       "evaluate           1.358199       24.0   9.730499  0.276886   9.365479   \n",
       "run_calculator  1075.854432      211.0   0.019898  0.007965   0.005874   \n",
       "run_sampling      36.362183      144.0   3.306343  0.181427   3.103596   \n",
       "train            272.921305       80.0  20.830953  0.549740  19.986104   \n",
       "\n",
       "                                      \n",
       "                      50%        max  \n",
       "method                                \n",
       "evaluate         9.811633  10.014385  \n",
       "run_calculator   0.021278   0.031866  \n",
       "run_sampling     3.275466   3.981202  \n",
       "train           20.807840  21.725822  "
      ]
     },
     "execution_count": 4,
     "metadata": {},
     "output_type": "execute_result"
    }
   ],
   "source": [
    "tasks.groupby('method').describe(percentiles=[0.5])"
   ]
  },
  {
   "cell_type": "markdown",
   "id": "3b7d26f6-6152-45b5-b42b-74b2db7949d1",
   "metadata": {},
   "source": [
    "## Get the size of the inference task\n",
    "How many structures per chunk"
   ]
  },
  {
   "cell_type": "code",
   "execution_count": 5,
   "id": "f157b7cd-8d03-4147-a588-361ba523e2f9",
   "metadata": {},
   "outputs": [],
   "source": [
    "with (run_dir / 'runparams.json').open() as fp:\n",
    "    config = json.load(fp)"
   ]
  },
  {
   "cell_type": "code",
   "execution_count": 6,
   "id": "88127aad-9c9b-4e3d-b9b2-564cb3358512",
   "metadata": {},
   "outputs": [
    {
     "data": {
      "text/plain": [
       "500"
      ]
     },
     "execution_count": 6,
     "metadata": {},
     "output_type": "execute_result"
    }
   ],
   "source": [
    "config['infer_chunk_size']"
   ]
  },
  {
   "cell_type": "code",
   "execution_count": null,
   "id": "5754a366-3541-4ccf-bf6e-7ff99d7245db",
   "metadata": {},
   "outputs": [],
   "source": []
  }
 ],
 "metadata": {
  "kernelspec": {
   "display_name": "Python 3 (ipykernel)",
   "language": "python",
   "name": "python3"
  },
  "language_info": {
   "codemirror_mode": {
    "name": "ipython",
    "version": 3
   },
   "file_extension": ".py",
   "mimetype": "text/x-python",
   "name": "python",
   "nbconvert_exporter": "python",
   "pygments_lexer": "ipython3",
   "version": "3.9.16"
  }
 },
 "nbformat": 4,
 "nbformat_minor": 5
}
