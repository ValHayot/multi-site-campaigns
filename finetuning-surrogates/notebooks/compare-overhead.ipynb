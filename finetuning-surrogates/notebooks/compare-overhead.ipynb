{
 "cells": [
  {
   "cell_type": "markdown",
   "id": "deaf6928-0b63-43b2-a9d8-e3700dbf7db8",
   "metadata": {},
   "source": [
    "# Compare Task Overhead\n",
    "Compare the difference sources of task overhead for our runs."
   ]
  },
  {
   "cell_type": "code",
   "execution_count": 1,
   "id": "bc58a5a9-421c-4fe5-8183-83c7292def29",
   "metadata": {},
   "outputs": [],
   "source": [
    "%matplotlib inline\n",
    "from matplotlib import pyplot as plt\n",
    "from pathlib import Path\n",
    "import pandas as pd\n",
    "import numpy as np\n",
    "import json"
   ]
  },
  {
   "cell_type": "markdown",
   "id": "a81608e2-0458-48f5-8056-c11d1166a6dc",
   "metadata": {},
   "source": [
    "Configuration"
   ]
  },
  {
   "cell_type": "code",
   "execution_count": 2,
   "id": "6e4f371a-3a6c-4a05-874b-a58d32055582",
   "metadata": {},
   "outputs": [],
   "source": [
    "runs = {\n",
    "    'Baseline': Path('./prod-runs/baseline_retrain-8/'),\n",
    "    'Parsl+Redis': Path('./prod-runs/parsl_retrain-8/'),\n",
    "    'FuncX+Globus': Path('./prod-runs/funcx_retrain-8/'),\n",
    "}"
   ]
  },
  {
   "cell_type": "markdown",
   "id": "77ad495b-5a05-4644-b2ee-2400533ff2fd",
   "metadata": {},
   "source": [
    "## Load in Overhead Dataframes\n",
    "We stored the results of each dataframe"
   ]
  },
  {
   "cell_type": "code",
   "execution_count": 3,
   "id": "1e099400-f53f-483d-9de1-c0254c7df956",
   "metadata": {},
   "outputs": [],
   "source": [
    "results = {}\n",
    "for k, path in runs.items():\n",
    "    # Get the duplicates\n",
    "    with open(path / 'duplicates.json') as fp:\n",
    "        dupes = json.load(fp)\n",
    "    \n",
    "    # Compute the mean RMSD for each run\n",
    "    results[k] = pd.concat([\n",
    "        pd.read_csv(Path(p) / 'processed-results' / 'overheads.csv') for p in dupes\n",
    "    ])"
   ]
  },
  {
   "cell_type": "markdown",
   "id": "31a42852-823f-46a5-b837-45d9fb66d4a1",
   "metadata": {},
   "source": [
    "## Get the Distribution of Times\n",
    "Make sure there are not significant outliers"
   ]
  },
  {
   "cell_type": "code",
   "execution_count": 4,
   "id": "a79c4f0d-0ecb-4ede-ad70-048de353ce10",
   "metadata": {},
   "outputs": [
    {
     "data": {
      "image/png": "[encoded data removed]",
      "text/plain": [
       "<Figure size 650x200 with 4 Axes>"
      ]
     },
     "metadata": {},
     "output_type": "display_data"
    }
   ],
   "source": [
    "fig, axs = plt.subplots(1, 4, figsize=(6.5, 2.))\n",
    "\n",
    "for (gid, group), ax in zip(results['FuncX+Globus'].groupby('method'), axs):\n",
    "    ax.hist(group['overhead_total'], bins=np.linspace(0, 15, 32))\n",
    "    ax.set_title(gid)\n",
    "    \n",
    "fig.tight_layout()"
   ]
  },
  {
   "cell_type": "markdown",
   "id": "5b051f07-0f57-45f5-be82-54471ed64227",
   "metadata": {},
   "source": [
    "## Make a Box Plot\n",
    "Plot the overhead for each type on task for each example"
   ]
  },
  {
   "cell_type": "code",
   "execution_count": 5,
   "id": "7a9c790a-a083-4317-bd58-37a4556691ba",
   "metadata": {},
   "outputs": [
    {
     "name": "stdout",
     "output_type": "stream",
     "text": [
      "Baseline [0.9247553898021579, 0.37432806892320514, 0.8389056308369618, 0.0183722571237012]\n",
      "Parsl+Redis [0.48360191649959455, 0.23044164465917955, 0.1191772237740034, 0.09685324931010081]\n",
      "Parsl+Redis [0.4333351633580598, 0.2021528971969587, 0.18049819189676444, 0.1454969100064625]\n",
      "FuncX+Globus [15.896004455999133, 5.918811244207378, 0.5889839563219947, 0.6128489203463232]\n",
      "FuncX+Globus [5.053806318325956, 5.219687879746553, 0.16878908898432715, 0.146619713019801]\n"
     ]
    },
    {
     "data": {
      "image/png": "[encoded data removed]",
      "text/plain": [
       "<Figure size 350x140 with 1 Axes>"
      ]
     },
     "metadata": {},
     "output_type": "display_data"
    }
   ],
   "source": [
    "fig, ax = plt.subplots(figsize=(3.5, 1.4))\n",
    "\n",
    "width = 0.25\n",
    "colors = {\n",
    "    'Baseline': 'steelblue',\n",
    "    'FuncX+Globus': 'crimson',\n",
    "    'Parsl+Redis': 'indigo'\n",
    "}\n",
    "\n",
    "methods = ['train', 'evaluate', 'run_sampling', 'run_calculator']\n",
    "for i, (name, overheads) in enumerate(results.items()):\n",
    "    # Make a bar plot where we show the \n",
    "    data = [overheads.query(f'method==\"{method}\"')['overhead_total'].median()\n",
    "            for method in methods]\n",
    "    pos = np.arange(4) - len(results) * width / 2 + i * width\n",
    "    ax.bar(pos, data, color=colors[name], edgecolor=colors[name], width=width, align='edge', label=name)\n",
    "    print(name, data)\n",
    "    \n",
    "    if \"+\" in name:\n",
    "        overheads['time_resolving'] = overheads['time_input_resolution'] + overheads['time_output_resolution'] + overheads['overhead_serialization']\n",
    "        data = [overheads.query(f'method==\"{method}\"')['time_resolving'].median()\n",
    "                for method in methods]\n",
    "        ax.bar(pos, data, color='gray', edgecolor=colors[name], width=width, align='edge', hatch='////')\n",
    "        print(name, data)\n",
    "\n",
    "# Make a verical bar denoting which are remote and which are local\n",
    "ax.set_yscale('log')\n",
    "ax.set_ylabel('Overhead (s)')\n",
    "ax.set_ylim(ax.get_ylim())\n",
    "ax.plot([1.5]*2, ax.get_ylim(), 'k--', lw=1)\n",
    "\n",
    "# Annotate what the candy-cane parts mean\n",
    "ax.annotate('Data\\nXfer', xy=(0.15, 3), xytext=(-0.4, 2.1), ha='left', fontsize=8,\n",
    "            arrowprops={\"width\": 0.75, \"color\": \"k\", \"headwidth\": 3, \"headlength\": 3})\n",
    "\n",
    "bbox_kwargs = None # {'facecolor': 'w', 'alpha': 0.5, \"boxstyle\": \"round, pad=0.4\"}\n",
    "ax.text(0.49, 0.9, 'Remote', ha='right', transform=ax.transAxes, fontweight='bold', fontsize=8, bbox=bbox_kwargs)\n",
    "ax.text(0.51, 0.9, 'Local', ha='left', transform=ax.transAxes, fontsize=8, fontweight='bold', bbox=bbox_kwargs)\n",
    "ax.text(1, 1, '(a)', ha='right', va='top', transform=ax.transAxes, fontsize=8)\n",
    "\n",
    "\n",
    "#fig.legend(ncol=3, fontsize=8, loc='upper center')\n",
    "    \n",
    "ax.set_xticks([])\n",
    "ax.set_xticks(np.arange(4))\n",
    "ax.set_xticklabels(['Train', 'Evaluate', 'Sample', 'Simulate'])\n",
    "\n",
    "fig.tight_layout()\n",
    "fig.savefig('figures/overhead-comparison.png', dpi=320)\n",
    "fig.savefig('figures/overhead-comparison.pdf')"
   ]
  },
  {
   "cell_type": "code",
   "execution_count": null,
   "id": "ce1e5cc3-9589-4064-9d77-7087b8fa237c",
   "metadata": {},
   "outputs": [],
   "source": []
  },
  {
   "cell_type": "code",
   "execution_count": null,
   "id": "d408d4d1-c08d-4506-9f94-166e39d694a1",
   "metadata": {},
   "outputs": [],
   "source": []
  }
 ],
 "metadata": {
  "kernelspec": {
   "display_name": "Python 3 (ipykernel)",
   "language": "python",
   "name": "python3"
  },
  "language_info": {
   "codemirror_mode": {
    "name": "ipython",
    "version": 3
   },
   "file_extension": ".py",
   "mimetype": "text/x-python",
   "name": "python",
   "nbconvert_exporter": "python",
   "pygments_lexer": "ipython3",
   "version": "3.9.16"
  }
 },
 "nbformat": 4,
 "nbformat_minor": 5
}
