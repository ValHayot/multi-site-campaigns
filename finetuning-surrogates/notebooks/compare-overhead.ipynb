{
 "cells": [
  {
   "cell_type": "markdown",
   "id": "deaf6928-0b63-43b2-a9d8-e3700dbf7db8",
   "metadata": {},
   "source": [
    "# Compare Task Overhead\n",
    "Compare the difference sources of task overhead for our runs."
   ]
  },
  {
   "cell_type": "code",
   "execution_count": 1,
   "id": "bc58a5a9-421c-4fe5-8183-83c7292def29",
   "metadata": {},
   "outputs": [],
   "source": [
    "%matplotlib inline\n",
    "from matplotlib import pyplot as plt\n",
    "from pathlib import Path\n",
    "import pandas as pd\n",
    "import numpy as np\n",
    "import json"
   ]
  },
  {
   "cell_type": "markdown",
   "id": "a81608e2-0458-48f5-8056-c11d1166a6dc",
   "metadata": {},
   "source": [
    "Configuration"
   ]
  },
  {
   "cell_type": "code",
   "execution_count": 2,
   "id": "6e4f371a-3a6c-4a05-874b-a58d32055582",
   "metadata": {},
   "outputs": [],
   "source": [
    "runs = {\n",
    "    'Baseline': Path('./prod-runs/baseline_retrain-8/'),\n",
    "    'Parsl+Redis': Path('./prod-runs/parsl_retrain-8/'),\n",
    "    'FuncX+Globus': Path('./prod-runs/funcx_retrain-8/'),\n",
    "}"
   ]
  },
  {
   "cell_type": "markdown",
   "id": "77ad495b-5a05-4644-b2ee-2400533ff2fd",
   "metadata": {},
   "source": [
    "## Load in Overhead Dataframes\n",
    "We stored the results of each dataframe"
   ]
  },
  {
   "cell_type": "code",
   "execution_count": 3,
   "id": "1e099400-f53f-483d-9de1-c0254c7df956",
   "metadata": {},
   "outputs": [],
   "source": [
    "results = {}\n",
    "for k, path in runs.items():\n",
    "    # Get the duplicates\n",
    "    with open(path / 'duplicates.json') as fp:\n",
    "        dupes = json.load(fp)\n",
    "    \n",
    "    # Compute the mean RMSD for each run\n",
    "    results[k] = pd.concat([\n",
    "        pd.read_csv(Path(p) / 'processed-results' / 'overheads.csv') for p in dupes\n",
    "    ])"
   ]
  },
  {
   "cell_type": "markdown",
   "id": "31a42852-823f-46a5-b837-45d9fb66d4a1",
   "metadata": {},
   "source": [
    "## Get the Distribution of Times\n",
    "Make sure there are not significant outliers"
   ]
  },
  {
   "cell_type": "code",
   "execution_count": 4,
   "id": "a79c4f0d-0ecb-4ede-ad70-048de353ce10",
   "metadata": {},
   "outputs": [
    {
     "data": {
      "image/png": "[encoded data removed]",
      "text/plain": [
       "<Figure size 650x200 with 4 Axes>"
      ]
     },
     "metadata": {},
     "output_type": "display_data"
    }
   ],
   "source": [
    "fig, axs = plt.subplots(1, 4, figsize=(6.5, 2.))\n",
    "\n",
    "for (gid, group), ax in zip(results['FuncX+Globus'].groupby('method'), axs):\n",
    "    ax.hist(group['overhead_total'], bins=np.linspace(0, 15, 32))\n",
    "    ax.set_title(gid)\n",
    "    \n",
    "fig.tight_layout()"
   ]
  },
  {
   "cell_type": "markdown",
   "id": "5b051f07-0f57-45f5-be82-54471ed64227",
   "metadata": {},
   "source": [
    "## Make a Box Plot\n",
    "Plot the overhead for each type on task for each example"
   ]
  },
  {
   "cell_type": "code",
   "execution_count": 10,
   "id": "7a9c790a-a083-4317-bd58-37a4556691ba",
   "metadata": {},
   "outputs": [
    {
     "name": "stdout",
     "output_type": "stream",
     "text": [
      "Baseline [0.9290439775213599, 0.3640177245251836, 0.8066235029837117, 0.0175610985606908]\n",
      "Parsl+Redis [0.4774112207177268, 0.22940619277014146, 0.11483979283443621, 0.09492811342642679]\n",
      "Parsl+Redis [0.4333351633580598, 0.2021528971969587, 0.18049819189676444, 0.1454969100064625]\n",
      "FuncX+Globus [5.571819502225452, 5.914407295423503, 0.5816372614110401, 0.6107160277376806]\n",
      "FuncX+Globus [5.053806318325956, 5.219687879746553, 0.16878908898432715, 0.146619713019801]\n"
     ]
    },
    {
     "data": {
      "image/png": "[encoded data removed]",
      "text/plain": [
       "<Figure size 350x140 with 1 Axes>"
      ]
     },
     "metadata": {},
     "output_type": "display_data"
    }
   ],
   "source": [
    "fig, ax = plt.subplots(figsize=(3.5, 1.4))\n",
    "\n",
    "width = 0.25\n",
    "colors = {\n",
    "    'Baseline': 'steelblue',\n",
    "    'FuncX+Globus': 'crimson',\n",
    "    'Parsl+Redis': 'indigo'\n",
    "}\n",
    "\n",
    "methods = ['train', 'evaluate', 'run_sampling', 'run_calculator']\n",
    "for i, (name, overheads) in enumerate(results.items()):\n",
    "    # Make a bar plot where we show the \n",
    "    data = [overheads.query(f'method==\"{method}\"')['overhead_total'].median() for method in methods]\n",
    "    pos = np.arange(4) - len(results) * width / 2 + i * width\n",
    "    ax.bar(pos, data, color=colors[name], edgecolor=colors[name], width=width, align='edge', label=name)\n",
    "    print(name, data)\n",
    "    \n",
    "    if \"+\" in name:\n",
    "        overheads['time_resolving'] = overheads['time_input_resolution'] + overheads['time_output_resolution'] + overheads['overhead_serialization']\n",
    "        data = [overheads.query(f'method==\"{method}\"')['time_resolving'].median()\n",
    "                for method in methods]\n",
    "        ax.bar(pos, data, color='gray', edgecolor=colors[name], width=width, align='edge', hatch='////')\n",
    "        print(name, data)\n",
    "\n",
    "# Make a verical bar denoting which are remote and which are local\n",
    "ax.set_yscale('log')\n",
    "ax.set_ylabel('Overhead (s)')\n",
    "ax.set_ylim(ax.get_ylim())\n",
    "ax.plot([1.5]*2, ax.get_ylim(), 'k--', lw=1)\n",
    "\n",
    "# Annotate what the candy-cane parts mean\n",
    "ax.annotate('Data\\nAccess', xy=(2.35, 0.1), xytext=(2.6, 0.8), ha='left', fontsize=8,\n",
    "            arrowprops={\"width\": 0.75, \"color\": \"k\", \"headwidth\": 3, \"headlength\": 3})\n",
    "\n",
    "bbox_kwargs = None # {'facecolor': 'w', 'alpha': 0.5, \"boxstyle\": \"round, pad=0.4\"}\n",
    "ax.text(0.01, 0.9, 'GPU', ha='left', transform=ax.transAxes, fontweight='bold', fontsize=8, bbox=bbox_kwargs)\n",
    "ax.text(0.51, 0.9, 'CPU', ha='left', transform=ax.transAxes, fontsize=8, fontweight='bold', bbox=bbox_kwargs)\n",
    "ax.text(1, 1, '(b)', ha='right', va='top', transform=ax.transAxes, fontsize=8)\n",
    "\n",
    "\n",
    "#fig.legend(ncol=3, fontsize=8, loc='upper center')\n",
    "    \n",
    "ax.set_xticks([])\n",
    "ax.set_xticks(np.arange(4))\n",
    "ax.set_xticklabels(['Train', 'Evaluate', 'Sample', 'Simulate'])\n",
    "\n",
    "fig.tight_layout()\n",
    "fig.savefig('figures/overhead-comparison.png', dpi=320)\n",
    "fig.savefig('figures/overhead-comparison.pdf')"
   ]
  },
  {
   "cell_type": "markdown",
   "id": "28efb949-7e08-4b50-8e70-7076822ed123",
   "metadata": {},
   "source": [
    "Display the breakdown of latency for the training tasks of Globus"
   ]
  },
  {
   "cell_type": "code",
   "execution_count": 6,
   "id": "d408d4d1-c08d-4506-9f94-166e39d694a1",
   "metadata": {},
   "outputs": [
    {
     "data": {
      "text/html": [
       "<div>\n",
       "<style scoped>\n",
       "    .dataframe tbody tr th:only-of-type {\n",
       "        vertical-align: middle;\n",
       "    }\n",
       "\n",
       "    .dataframe tbody tr th {\n",
       "        vertical-align: top;\n",
       "    }\n",
       "\n",
       "    .dataframe thead th {\n",
       "        text-align: right;\n",
       "    }\n",
       "</style>\n",
       "<table border=\"1\" class=\"dataframe\">\n",
       "  <thead>\n",
       "    <tr style=\"text-align: right;\">\n",
       "      <th></th>\n",
       "      <th>time_created</th>\n",
       "      <th>time_result_sent</th>\n",
       "      <th>time_running</th>\n",
       "      <th>time_input_resolution</th>\n",
       "      <th>time_output_resolution</th>\n",
       "      <th>overhead_total</th>\n",
       "      <th>overhead_sending</th>\n",
       "      <th>overhead_serialization</th>\n",
       "      <th>overhead_reporting</th>\n",
       "      <th>time_resolving</th>\n",
       "    </tr>\n",
       "  </thead>\n",
       "  <tbody>\n",
       "    <tr>\n",
       "      <th>count</th>\n",
       "      <td>2.640000e+02</td>\n",
       "      <td>2.640000e+02</td>\n",
       "      <td>264.000000</td>\n",
       "      <td>264.000000</td>\n",
       "      <td>264.000000</td>\n",
       "      <td>264.000000</td>\n",
       "      <td>264.000000</td>\n",
       "      <td>264.000000</td>\n",
       "      <td>264.000000</td>\n",
       "      <td>264.000000</td>\n",
       "    </tr>\n",
       "    <tr>\n",
       "      <th>mean</th>\n",
       "      <td>1.675833e+09</td>\n",
       "      <td>1.675833e+09</td>\n",
       "      <td>266.138151</td>\n",
       "      <td>2.229728</td>\n",
       "      <td>0.669153</td>\n",
       "      <td>9.596669</td>\n",
       "      <td>6.833861</td>\n",
       "      <td>2.424960</td>\n",
       "      <td>2.760271</td>\n",
       "      <td>5.323841</td>\n",
       "    </tr>\n",
       "    <tr>\n",
       "      <th>std</th>\n",
       "      <td>2.328192e+04</td>\n",
       "      <td>2.328037e+04</td>\n",
       "      <td>7.940118</td>\n",
       "      <td>0.638524</td>\n",
       "      <td>0.997432</td>\n",
       "      <td>9.862056</td>\n",
       "      <td>9.910347</td>\n",
       "      <td>0.501353</td>\n",
       "      <td>0.529905</td>\n",
       "      <td>1.400283</td>\n",
       "    </tr>\n",
       "    <tr>\n",
       "      <th>min</th>\n",
       "      <td>1.675802e+09</td>\n",
       "      <td>1.675802e+09</td>\n",
       "      <td>248.799223</td>\n",
       "      <td>0.151477</td>\n",
       "      <td>0.200308</td>\n",
       "      <td>3.771087</td>\n",
       "      <td>1.697435</td>\n",
       "      <td>1.752809</td>\n",
       "      <td>1.893409</td>\n",
       "      <td>2.219834</td>\n",
       "    </tr>\n",
       "    <tr>\n",
       "      <th>25%</th>\n",
       "      <td>1.675814e+09</td>\n",
       "      <td>1.675814e+09</td>\n",
       "      <td>259.989572</td>\n",
       "      <td>1.816610</td>\n",
       "      <td>0.251258</td>\n",
       "      <td>5.099987</td>\n",
       "      <td>2.277905</td>\n",
       "      <td>1.869492</td>\n",
       "      <td>2.234403</td>\n",
       "      <td>4.562435</td>\n",
       "    </tr>\n",
       "    <tr>\n",
       "      <th>50%</th>\n",
       "      <td>1.675824e+09</td>\n",
       "      <td>1.675824e+09</td>\n",
       "      <td>265.791258</td>\n",
       "      <td>2.330416</td>\n",
       "      <td>0.286479</td>\n",
       "      <td>5.571820</td>\n",
       "      <td>2.891089</td>\n",
       "      <td>2.691080</td>\n",
       "      <td>2.893768</td>\n",
       "      <td>5.053806</td>\n",
       "    </tr>\n",
       "    <tr>\n",
       "      <th>75%</th>\n",
       "      <td>1.675860e+09</td>\n",
       "      <td>1.675861e+09</td>\n",
       "      <td>272.162197</td>\n",
       "      <td>2.711762</td>\n",
       "      <td>0.329337</td>\n",
       "      <td>6.406448</td>\n",
       "      <td>3.232577</td>\n",
       "      <td>2.790366</td>\n",
       "      <td>3.188574</td>\n",
       "      <td>5.854730</td>\n",
       "    </tr>\n",
       "    <tr>\n",
       "      <th>max</th>\n",
       "      <td>1.675871e+09</td>\n",
       "      <td>1.675871e+09</td>\n",
       "      <td>283.027727</td>\n",
       "      <td>3.634134</td>\n",
       "      <td>4.182287</td>\n",
       "      <td>35.051933</td>\n",
       "      <td>31.749455</td>\n",
       "      <td>3.669856</td>\n",
       "      <td>4.225296</td>\n",
       "      <td>9.945198</td>\n",
       "    </tr>\n",
       "  </tbody>\n",
       "</table>\n",
       "</div>"
      ],
      "text/plain": [
       "       time_created  time_result_sent  time_running  time_input_resolution  \\\n",
       "count  2.640000e+02      2.640000e+02    264.000000             264.000000   \n",
       "mean   1.675833e+09      1.675833e+09    266.138151               2.229728   \n",
       "std    2.328192e+04      2.328037e+04      7.940118               0.638524   \n",
       "min    1.675802e+09      1.675802e+09    248.799223               0.151477   \n",
       "25%    1.675814e+09      1.675814e+09    259.989572               1.816610   \n",
       "50%    1.675824e+09      1.675824e+09    265.791258               2.330416   \n",
       "75%    1.675860e+09      1.675861e+09    272.162197               2.711762   \n",
       "max    1.675871e+09      1.675871e+09    283.027727               3.634134   \n",
       "\n",
       "       time_output_resolution  overhead_total  overhead_sending  \\\n",
       "count              264.000000      264.000000        264.000000   \n",
       "mean                 0.669153        9.596669          6.833861   \n",
       "std                  0.997432        9.862056          9.910347   \n",
       "min                  0.200308        3.771087          1.697435   \n",
       "25%                  0.251258        5.099987          2.277905   \n",
       "50%                  0.286479        5.571820          2.891089   \n",
       "75%                  0.329337        6.406448          3.232577   \n",
       "max                  4.182287       35.051933         31.749455   \n",
       "\n",
       "       overhead_serialization  overhead_reporting  time_resolving  \n",
       "count              264.000000          264.000000      264.000000  \n",
       "mean                 2.424960            2.760271        5.323841  \n",
       "std                  0.501353            0.529905        1.400283  \n",
       "min                  1.752809            1.893409        2.219834  \n",
       "25%                  1.869492            2.234403        4.562435  \n",
       "50%                  2.691080            2.893768        5.053806  \n",
       "75%                  2.790366            3.188574        5.854730  \n",
       "max                  3.669856            4.225296        9.945198  "
      ]
     },
     "execution_count": 6,
     "metadata": {},
     "output_type": "execute_result"
    }
   ],
   "source": [
    "results['FuncX+Globus'].query('method==\"train\"').describe()"
   ]
  },
  {
   "cell_type": "code",
   "execution_count": null,
   "id": "c57ae5d3-7166-4a37-8281-1db3f423c4af",
   "metadata": {},
   "outputs": [],
   "source": []
  }
 ],
 "metadata": {
  "kernelspec": {
   "display_name": "Python 3 (ipykernel)",
   "language": "python",
   "name": "python3"
  },
  "language_info": {
   "codemirror_mode": {
    "name": "ipython",
    "version": 3
   },
   "file_extension": ".py",
   "mimetype": "text/x-python",
   "name": "python",
   "nbconvert_exporter": "python",
   "pygments_lexer": "ipython3",
   "version": "3.9.16"
  }
 },
 "nbformat": 4,
 "nbformat_minor": 5
}
